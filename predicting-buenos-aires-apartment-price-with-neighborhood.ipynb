{
 "cells": [
  {
   "cell_type": "markdown",
   "id": "03be069b",
   "metadata": {},
   "source": [
    "<font size=\"+3\"><strong>Housing Price Predictor for Buenos Aires 🇦🇷</strong></font>"
   ]
  },
  {
   "cell_type": "markdown",
   "id": "d27750fa-b879-4523-884e-fc77964b6fb5",
   "metadata": {},
   "source": [
    "<font size=\"+2\"><strong>Part 3: Predicting Housing Price with Neighborhood</strong></font>"
   ]
  },
  {
   "cell_type": "code",
   "execution_count": 27,
   "id": "68f581fa-a018-4980-a6ca-d9239b0d0ce2",
   "metadata": {},
   "outputs": [],
   "source": [
    "__author__ = \"Donald Ghazi\"\n",
    "__email__ = \"donald@donaldghazi.com\"\n",
    "__website__ = \"donaldghazi.com\""
   ]
  },
  {
   "cell_type": "markdown",
   "id": "4eb4b17f-8d21-4e71-bb98-e40fdbda5d5a",
   "metadata": {},
   "source": [
    "This project builds on my `Predicting Housing Price with Size` and `Predicting Housing Price with Location` projects. And in the `Predicting Housing Price with Location` project, I created a model that used location — represented by latitude and longitude — to predict price. In this project, I'm going to use a different representation for location: neighborhood. "
   ]
  },
  {
   "cell_type": "code",
   "execution_count": 28,
   "id": "36f74bfa",
   "metadata": {},
   "outputs": [],
   "source": [
    "import matplotlib.pyplot as plt\n",
    "import numpy as np\n",
    "import pandas as pd\n",
    "import warnings\n",
    "\n",
    "from glob import glob\n",
    "from category_encoders import OneHotEncoder\n",
    "from sklearn.linear_model import LinearRegression, Ridge  # noqa F401\n",
    "from sklearn.metrics import mean_absolute_error\n",
    "from sklearn.pipeline import make_pipeline\n",
    "from sklearn.utils.validation import check_is_fitted\n",
    "\n",
    "warnings.simplefilter(action=\"ignore\", category=FutureWarning)"
   ]
  },
  {
   "cell_type": "markdown",
   "id": "cac9c6a0-8f38-4dce-8ae7-da645bf2ba6a",
   "metadata": {},
   "source": [
    "GOALS\n",
    " - Build a model to predict apartment price based on neighborhood\n",
    " - Encode categorical data to train linear model\n",
    " - Battle overfitting using regularization"
   ]
  },
  {
   "cell_type": "markdown",
   "id": "b86aee75-3a65-4354-b74e-d1efdef0637d",
   "metadata": {},
   "source": [
    "Machine Learning Workflow\n",
    " - Prepare Data\n",
    "     - Import: wrangle function & for loop\n",
    "     - Explore: Extract neighborhood from string\n",
    "     - Split\n",
    " - Build Model\n",
    "     - Baseline\n",
    "     - Iterate: One-Hot Encoding\n",
    "     - Evaluate: Overfitting\n",
    " - Communicate Results\n",
    "     - Curse of Dimensionality\n",
    "     - Regularization: Ridge Regression\n",
    "     - Bar Charts for Coefficients"
   ]
  },
  {
   "cell_type": "markdown",
   "id": "4e3f6317-8fae-4d22-b42a-d8eb37364c56",
   "metadata": {},
   "source": [
    "# Prepare Data"
   ]
  },
  {
   "cell_type": "markdown",
   "id": "056256cc-3e54-48b2-a22f-e4d79478fdf7",
   "metadata": {},
   "source": [
    "## Import"
   ]
  },
  {
   "cell_type": "code",
   "execution_count": 29,
   "id": "97b73215-e90f-418f-b336-81b20535269b",
   "metadata": {},
   "outputs": [],
   "source": [
    "def wrangle(filepath):\n",
    "    # Read CSV file\n",
    "    df = pd.read_csv(filepath)\n",
    "\n",
    "    # Subset data: Apartments in \"Capital Federal\", less than 400,000\n",
    "    mask_ba = df[\"place_with_parent_names\"].str.contains(\"Capital Federal\")\n",
    "    mask_apt = df[\"property_type\"] == \"apartment\"\n",
    "    mask_price = df[\"price_aprox_usd\"] < 400_000\n",
    "    df = df[mask_ba & mask_apt & mask_price]\n",
    "\n",
    "    # Subset data: Remove outliers for \"surface_covered_in_m2\"\n",
    "    low, high = df[\"surface_covered_in_m2\"].quantile([0.1, 0.9])\n",
    "    mask_area = df[\"surface_covered_in_m2\"].between(low, high)\n",
    "    df = df[mask_area]\n",
    "\n",
    "    # Split \"lat-lon\" column\n",
    "    df[[\"lat\", \"lon\"]] = df[\"lat-lon\"].str.split(\",\", expand=True).astype(float)\n",
    "    df.drop(columns=\"lat-lon\", inplace=True)\n",
    "\n",
    "    return df"
   ]
  },
  {
   "cell_type": "markdown",
   "id": "8f783d54-8406-4ff4-b16b-df6775ae4103",
   "metadata": {},
   "source": [
    "In the `Predicting Housing Price with Size` & `Predicting Housing Price with Location`  projects, I used my `wrangle` function to import two CSV files as DataFrames. And since I'm working with multiple CSV files to import in this project, I will instead use glob where I can read several CSV files into a single DataFrame. \n",
    "\n",
    "The first step is to gather the names of all the files I want to import. I can do this using pattern matching. "
   ]
  },
  {
   "cell_type": "markdown",
   "id": "6c93dab8-d878-49ec-9f97-e6294a79b0b0",
   "metadata": {},
   "source": [
    "**Collect File Names**"
   ]
  },
  {
   "cell_type": "code",
   "execution_count": 30,
   "id": "41e23e2f-7e7f-485d-b334-81762c48d522",
   "metadata": {},
   "outputs": [
    {
     "data": {
      "text/plain": [
       "['data/buenos-aires-real-estate-3.csv',\n",
       " 'data/buenos-aires-real-estate-2.csv',\n",
       " 'data/buenos-aires-real-estate-1.csv',\n",
       " 'data/buenos-aires-real-estate-5.csv',\n",
       " 'data/buenos-aires-real-estate-4.csv']"
      ]
     },
     "execution_count": 30,
     "metadata": {},
     "output_type": "execute_result"
    }
   ],
   "source": [
    "# Use glob to create a list that contains the filenames for all the Buenos Aires real estate CSVs\n",
    "files = glob(\"data/buenos-aires-real-estate-*.csv\") # Assign this list to the variable name files\n",
    "files"
   ]
  },
  {
   "cell_type": "code",
   "execution_count": 31,
   "id": "0153ec97-c59b-4349-bb70-54236f60dbae",
   "metadata": {},
   "outputs": [
    {
     "data": {
      "text/plain": [
       "5"
      ]
     },
     "execution_count": 31,
     "metadata": {},
     "output_type": "execute_result"
    }
   ],
   "source": [
    "len(files)"
   ]
  },
  {
   "cell_type": "markdown",
   "id": "1ffad2e9-7912-4989-ad66-8d6a18aedf39",
   "metadata": {},
   "source": [
    "The next step is to read each of the CSVs in `files` into a DataFrame, and put all of those DataFrames into a list. A `for` loop is a good way to iterate through `files`."
   ]
  },
  {
   "cell_type": "markdown",
   "id": "256aa8d4-e307-4096-99d4-b295e72a890c",
   "metadata": {},
   "source": [
    "**Wrangle With for Loop**"
   ]
  },
  {
   "cell_type": "code",
   "execution_count": 32,
   "id": "8fcc62aa-ebd1-44aa-b5e8-fa8f7005e6b6",
   "metadata": {},
   "outputs": [
    {
     "name": "stdout",
     "output_type": "stream",
     "text": [
      "data/buenos-aires-real-estate-3.csv\n",
      "data/buenos-aires-real-estate-2.csv\n",
      "data/buenos-aires-real-estate-1.csv\n",
      "data/buenos-aires-real-estate-5.csv\n",
      "data/buenos-aires-real-estate-4.csv\n"
     ]
    }
   ],
   "source": [
    "frames = [] # Create an empty list called frames\n",
    "for file in files:\n",
    "    print(file)"
   ]
  },
  {
   "cell_type": "markdown",
   "id": "e39fe095-6752-445b-a09f-41bc16001abf",
   "metadata": {},
   "source": [
    "As I iterate through this for loop, it goes through one by one (all of the file names above). And I want to read those files into a DataFrame."
   ]
  },
  {
   "cell_type": "code",
   "execution_count": 33,
   "id": "bf39911a-3241-43b1-b95f-61c5268c4b65",
   "metadata": {},
   "outputs": [
    {
     "name": "stdout",
     "output_type": "stream",
     "text": [
      "(1288, 17)\n",
      "(1315, 17)\n",
      "(1343, 17)\n",
      "(1331, 17)\n",
      "(1305, 17)\n"
     ]
    }
   ],
   "source": [
    "frames = [] \n",
    "for file in files:\n",
    "    df = wrangle(file)\n",
    "    print(df.shape)"
   ]
  },
  {
   "cell_type": "code",
   "execution_count": 34,
   "id": "091ca573-ef69-4b4c-855a-460fd902c88a",
   "metadata": {},
   "outputs": [],
   "source": [
    "frames = [] \n",
    "for file in files:\n",
    "    df = wrangle(file)\n",
    "    frames.append(df)"
   ]
  },
  {
   "cell_type": "code",
   "execution_count": 35,
   "id": "d701b5b3-88bf-48ac-9426-90a6e27720b2",
   "metadata": {},
   "outputs": [
    {
     "data": {
      "text/plain": [
       "5"
      ]
     },
     "execution_count": 35,
     "metadata": {},
     "output_type": "execute_result"
    }
   ],
   "source": [
    "len(frames)"
   ]
  },
  {
   "cell_type": "code",
   "execution_count": 36,
   "id": "df965f12-64a4-4062-88fb-167f6f4543a2",
   "metadata": {},
   "outputs": [
    {
     "data": {
      "text/plain": [
       "pandas.core.frame.DataFrame"
      ]
     },
     "execution_count": 36,
     "metadata": {},
     "output_type": "execute_result"
    }
   ],
   "source": [
    "type(frames[0])"
   ]
  },
  {
   "cell_type": "code",
   "execution_count": 37,
   "id": "e0187f16-97ce-4876-8a29-3701b8348fc0",
   "metadata": {},
   "outputs": [
    {
     "data": {
      "text/html": [
       "<div>\n",
       "<style scoped>\n",
       "    .dataframe tbody tr th:only-of-type {\n",
       "        vertical-align: middle;\n",
       "    }\n",
       "\n",
       "    .dataframe tbody tr th {\n",
       "        vertical-align: top;\n",
       "    }\n",
       "\n",
       "    .dataframe thead th {\n",
       "        text-align: right;\n",
       "    }\n",
       "</style>\n",
       "<table border=\"1\" class=\"dataframe\">\n",
       "  <thead>\n",
       "    <tr style=\"text-align: right;\">\n",
       "      <th></th>\n",
       "      <th>operation</th>\n",
       "      <th>property_type</th>\n",
       "      <th>place_with_parent_names</th>\n",
       "      <th>price</th>\n",
       "      <th>currency</th>\n",
       "      <th>price_aprox_local_currency</th>\n",
       "      <th>price_aprox_usd</th>\n",
       "      <th>surface_total_in_m2</th>\n",
       "      <th>surface_covered_in_m2</th>\n",
       "      <th>price_usd_per_m2</th>\n",
       "      <th>price_per_m2</th>\n",
       "      <th>floor</th>\n",
       "      <th>rooms</th>\n",
       "      <th>expenses</th>\n",
       "      <th>properati_url</th>\n",
       "      <th>lat</th>\n",
       "      <th>lon</th>\n",
       "    </tr>\n",
       "  </thead>\n",
       "  <tbody>\n",
       "    <tr>\n",
       "      <th>7</th>\n",
       "      <td>sell</td>\n",
       "      <td>apartment</td>\n",
       "      <td>|Argentina|Capital Federal|Villa General Mitre|</td>\n",
       "      <td>120000.0</td>\n",
       "      <td>USD</td>\n",
       "      <td>1819488.00</td>\n",
       "      <td>120000.0</td>\n",
       "      <td>NaN</td>\n",
       "      <td>55.0</td>\n",
       "      <td>NaN</td>\n",
       "      <td>2181.818182</td>\n",
       "      <td>NaN</td>\n",
       "      <td>2.0</td>\n",
       "      <td>NaN</td>\n",
       "      <td>http://villa-general-mitre.properati.com.ar/xx...</td>\n",
       "      <td>-34.616004</td>\n",
       "      <td>-58.470506</td>\n",
       "    </tr>\n",
       "    <tr>\n",
       "      <th>20</th>\n",
       "      <td>sell</td>\n",
       "      <td>apartment</td>\n",
       "      <td>|Argentina|Capital Federal|Palermo|</td>\n",
       "      <td>89000.0</td>\n",
       "      <td>USD</td>\n",
       "      <td>1349453.60</td>\n",
       "      <td>89000.0</td>\n",
       "      <td>NaN</td>\n",
       "      <td>37.0</td>\n",
       "      <td>NaN</td>\n",
       "      <td>2405.405405</td>\n",
       "      <td>7.0</td>\n",
       "      <td>2.0</td>\n",
       "      <td>NaN</td>\n",
       "      <td>http://palermo.properati.com.ar/ya5i_venta_dep...</td>\n",
       "      <td>-34.584712</td>\n",
       "      <td>-58.444927</td>\n",
       "    </tr>\n",
       "    <tr>\n",
       "      <th>21</th>\n",
       "      <td>sell</td>\n",
       "      <td>apartment</td>\n",
       "      <td>|Argentina|Capital Federal|Saavedra|</td>\n",
       "      <td>183495.0</td>\n",
       "      <td>USD</td>\n",
       "      <td>2782224.58</td>\n",
       "      <td>183495.0</td>\n",
       "      <td>92.0</td>\n",
       "      <td>57.0</td>\n",
       "      <td>1994.51087</td>\n",
       "      <td>3219.210526</td>\n",
       "      <td>NaN</td>\n",
       "      <td>2.0</td>\n",
       "      <td>NaN</td>\n",
       "      <td>http://saavedra.properati.com.ar/12izq_venta_d...</td>\n",
       "      <td>-34.554652</td>\n",
       "      <td>-58.493644</td>\n",
       "    </tr>\n",
       "    <tr>\n",
       "      <th>41</th>\n",
       "      <td>sell</td>\n",
       "      <td>apartment</td>\n",
       "      <td>|Argentina|Capital Federal|Villa del Parque|</td>\n",
       "      <td>95000.0</td>\n",
       "      <td>USD</td>\n",
       "      <td>1440428.00</td>\n",
       "      <td>95000.0</td>\n",
       "      <td>53.0</td>\n",
       "      <td>47.0</td>\n",
       "      <td>1792.45283</td>\n",
       "      <td>2021.276596</td>\n",
       "      <td>NaN</td>\n",
       "      <td>2.0</td>\n",
       "      <td>NaN</td>\n",
       "      <td>http://villa-del-parque.properati.com.ar/wy0n_...</td>\n",
       "      <td>-34.610581</td>\n",
       "      <td>-58.479625</td>\n",
       "    </tr>\n",
       "    <tr>\n",
       "      <th>43</th>\n",
       "      <td>sell</td>\n",
       "      <td>apartment</td>\n",
       "      <td>|Argentina|Capital Federal|Belgrano|</td>\n",
       "      <td>95000.0</td>\n",
       "      <td>USD</td>\n",
       "      <td>1440428.00</td>\n",
       "      <td>95000.0</td>\n",
       "      <td>0.0</td>\n",
       "      <td>35.0</td>\n",
       "      <td>NaN</td>\n",
       "      <td>2714.285714</td>\n",
       "      <td>NaN</td>\n",
       "      <td>1.0</td>\n",
       "      <td>NaN</td>\n",
       "      <td>http://belgrano.properati.com.ar/xw9a_venta_de...</td>\n",
       "      <td>-34.558227</td>\n",
       "      <td>-58.458357</td>\n",
       "    </tr>\n",
       "  </tbody>\n",
       "</table>\n",
       "</div>"
      ],
      "text/plain": [
       "   operation property_type                          place_with_parent_names  \\\n",
       "7       sell     apartment  |Argentina|Capital Federal|Villa General Mitre|   \n",
       "20      sell     apartment              |Argentina|Capital Federal|Palermo|   \n",
       "21      sell     apartment             |Argentina|Capital Federal|Saavedra|   \n",
       "41      sell     apartment     |Argentina|Capital Federal|Villa del Parque|   \n",
       "43      sell     apartment             |Argentina|Capital Federal|Belgrano|   \n",
       "\n",
       "       price currency  price_aprox_local_currency  price_aprox_usd  \\\n",
       "7   120000.0      USD                  1819488.00         120000.0   \n",
       "20   89000.0      USD                  1349453.60          89000.0   \n",
       "21  183495.0      USD                  2782224.58         183495.0   \n",
       "41   95000.0      USD                  1440428.00          95000.0   \n",
       "43   95000.0      USD                  1440428.00          95000.0   \n",
       "\n",
       "    surface_total_in_m2  surface_covered_in_m2  price_usd_per_m2  \\\n",
       "7                   NaN                   55.0               NaN   \n",
       "20                  NaN                   37.0               NaN   \n",
       "21                 92.0                   57.0        1994.51087   \n",
       "41                 53.0                   47.0        1792.45283   \n",
       "43                  0.0                   35.0               NaN   \n",
       "\n",
       "    price_per_m2  floor  rooms  expenses  \\\n",
       "7    2181.818182    NaN    2.0       NaN   \n",
       "20   2405.405405    7.0    2.0       NaN   \n",
       "21   3219.210526    NaN    2.0       NaN   \n",
       "41   2021.276596    NaN    2.0       NaN   \n",
       "43   2714.285714    NaN    1.0       NaN   \n",
       "\n",
       "                                        properati_url        lat        lon  \n",
       "7   http://villa-general-mitre.properati.com.ar/xx... -34.616004 -58.470506  \n",
       "20  http://palermo.properati.com.ar/ya5i_venta_dep... -34.584712 -58.444927  \n",
       "21  http://saavedra.properati.com.ar/12izq_venta_d... -34.554652 -58.493644  \n",
       "41  http://villa-del-parque.properati.com.ar/wy0n_... -34.610581 -58.479625  \n",
       "43  http://belgrano.properati.com.ar/xw9a_venta_de... -34.558227 -58.458357  "
      ]
     },
     "execution_count": 37,
     "metadata": {},
     "output_type": "execute_result"
    }
   ],
   "source": [
    "frames[0].head()"
   ]
  },
  {
   "cell_type": "markdown",
   "id": "83fb2ead-87b9-4529-9bc7-5830ac6b7104",
   "metadata": {},
   "source": [
    "The final step is to use pandas to combine all the DataFrames in `frames`. "
   ]
  },
  {
   "cell_type": "markdown",
   "id": "c5706acf-8eec-417e-8474-cefec3e1c58c",
   "metadata": {},
   "source": [
    "**Concatenate DataFrames**"
   ]
  },
  {
   "cell_type": "code",
   "execution_count": 38,
   "id": "10ee3d39-7b0f-4bb6-82c7-d5386999a72f",
   "metadata": {},
   "outputs": [
    {
     "data": {
      "text/html": [
       "<div>\n",
       "<style scoped>\n",
       "    .dataframe tbody tr th:only-of-type {\n",
       "        vertical-align: middle;\n",
       "    }\n",
       "\n",
       "    .dataframe tbody tr th {\n",
       "        vertical-align: top;\n",
       "    }\n",
       "\n",
       "    .dataframe thead th {\n",
       "        text-align: right;\n",
       "    }\n",
       "</style>\n",
       "<table border=\"1\" class=\"dataframe\">\n",
       "  <thead>\n",
       "    <tr style=\"text-align: right;\">\n",
       "      <th></th>\n",
       "      <th>operation</th>\n",
       "      <th>property_type</th>\n",
       "      <th>place_with_parent_names</th>\n",
       "      <th>price</th>\n",
       "      <th>currency</th>\n",
       "      <th>price_aprox_local_currency</th>\n",
       "      <th>price_aprox_usd</th>\n",
       "      <th>surface_total_in_m2</th>\n",
       "      <th>surface_covered_in_m2</th>\n",
       "      <th>price_usd_per_m2</th>\n",
       "      <th>price_per_m2</th>\n",
       "      <th>floor</th>\n",
       "      <th>rooms</th>\n",
       "      <th>expenses</th>\n",
       "      <th>properati_url</th>\n",
       "      <th>lat</th>\n",
       "      <th>lon</th>\n",
       "    </tr>\n",
       "  </thead>\n",
       "  <tbody>\n",
       "    <tr>\n",
       "      <th>0</th>\n",
       "      <td>sell</td>\n",
       "      <td>apartment</td>\n",
       "      <td>|Argentina|Capital Federal|Villa General Mitre|</td>\n",
       "      <td>120000.0</td>\n",
       "      <td>USD</td>\n",
       "      <td>1819488.00</td>\n",
       "      <td>120000.0</td>\n",
       "      <td>NaN</td>\n",
       "      <td>55.0</td>\n",
       "      <td>NaN</td>\n",
       "      <td>2181.818182</td>\n",
       "      <td>NaN</td>\n",
       "      <td>2.0</td>\n",
       "      <td>NaN</td>\n",
       "      <td>http://villa-general-mitre.properati.com.ar/xx...</td>\n",
       "      <td>-34.616004</td>\n",
       "      <td>-58.470506</td>\n",
       "    </tr>\n",
       "    <tr>\n",
       "      <th>1</th>\n",
       "      <td>sell</td>\n",
       "      <td>apartment</td>\n",
       "      <td>|Argentina|Capital Federal|Palermo|</td>\n",
       "      <td>89000.0</td>\n",
       "      <td>USD</td>\n",
       "      <td>1349453.60</td>\n",
       "      <td>89000.0</td>\n",
       "      <td>NaN</td>\n",
       "      <td>37.0</td>\n",
       "      <td>NaN</td>\n",
       "      <td>2405.405405</td>\n",
       "      <td>7.0</td>\n",
       "      <td>2.0</td>\n",
       "      <td>NaN</td>\n",
       "      <td>http://palermo.properati.com.ar/ya5i_venta_dep...</td>\n",
       "      <td>-34.584712</td>\n",
       "      <td>-58.444927</td>\n",
       "    </tr>\n",
       "    <tr>\n",
       "      <th>2</th>\n",
       "      <td>sell</td>\n",
       "      <td>apartment</td>\n",
       "      <td>|Argentina|Capital Federal|Saavedra|</td>\n",
       "      <td>183495.0</td>\n",
       "      <td>USD</td>\n",
       "      <td>2782224.58</td>\n",
       "      <td>183495.0</td>\n",
       "      <td>92.0</td>\n",
       "      <td>57.0</td>\n",
       "      <td>1994.51087</td>\n",
       "      <td>3219.210526</td>\n",
       "      <td>NaN</td>\n",
       "      <td>2.0</td>\n",
       "      <td>NaN</td>\n",
       "      <td>http://saavedra.properati.com.ar/12izq_venta_d...</td>\n",
       "      <td>-34.554652</td>\n",
       "      <td>-58.493644</td>\n",
       "    </tr>\n",
       "    <tr>\n",
       "      <th>3</th>\n",
       "      <td>sell</td>\n",
       "      <td>apartment</td>\n",
       "      <td>|Argentina|Capital Federal|Villa del Parque|</td>\n",
       "      <td>95000.0</td>\n",
       "      <td>USD</td>\n",
       "      <td>1440428.00</td>\n",
       "      <td>95000.0</td>\n",
       "      <td>53.0</td>\n",
       "      <td>47.0</td>\n",
       "      <td>1792.45283</td>\n",
       "      <td>2021.276596</td>\n",
       "      <td>NaN</td>\n",
       "      <td>2.0</td>\n",
       "      <td>NaN</td>\n",
       "      <td>http://villa-del-parque.properati.com.ar/wy0n_...</td>\n",
       "      <td>-34.610581</td>\n",
       "      <td>-58.479625</td>\n",
       "    </tr>\n",
       "    <tr>\n",
       "      <th>4</th>\n",
       "      <td>sell</td>\n",
       "      <td>apartment</td>\n",
       "      <td>|Argentina|Capital Federal|Belgrano|</td>\n",
       "      <td>95000.0</td>\n",
       "      <td>USD</td>\n",
       "      <td>1440428.00</td>\n",
       "      <td>95000.0</td>\n",
       "      <td>0.0</td>\n",
       "      <td>35.0</td>\n",
       "      <td>NaN</td>\n",
       "      <td>2714.285714</td>\n",
       "      <td>NaN</td>\n",
       "      <td>1.0</td>\n",
       "      <td>NaN</td>\n",
       "      <td>http://belgrano.properati.com.ar/xw9a_venta_de...</td>\n",
       "      <td>-34.558227</td>\n",
       "      <td>-58.458357</td>\n",
       "    </tr>\n",
       "  </tbody>\n",
       "</table>\n",
       "</div>"
      ],
      "text/plain": [
       "  operation property_type                          place_with_parent_names  \\\n",
       "0      sell     apartment  |Argentina|Capital Federal|Villa General Mitre|   \n",
       "1      sell     apartment              |Argentina|Capital Federal|Palermo|   \n",
       "2      sell     apartment             |Argentina|Capital Federal|Saavedra|   \n",
       "3      sell     apartment     |Argentina|Capital Federal|Villa del Parque|   \n",
       "4      sell     apartment             |Argentina|Capital Federal|Belgrano|   \n",
       "\n",
       "      price currency  price_aprox_local_currency  price_aprox_usd  \\\n",
       "0  120000.0      USD                  1819488.00         120000.0   \n",
       "1   89000.0      USD                  1349453.60          89000.0   \n",
       "2  183495.0      USD                  2782224.58         183495.0   \n",
       "3   95000.0      USD                  1440428.00          95000.0   \n",
       "4   95000.0      USD                  1440428.00          95000.0   \n",
       "\n",
       "   surface_total_in_m2  surface_covered_in_m2  price_usd_per_m2  price_per_m2  \\\n",
       "0                  NaN                   55.0               NaN   2181.818182   \n",
       "1                  NaN                   37.0               NaN   2405.405405   \n",
       "2                 92.0                   57.0        1994.51087   3219.210526   \n",
       "3                 53.0                   47.0        1792.45283   2021.276596   \n",
       "4                  0.0                   35.0               NaN   2714.285714   \n",
       "\n",
       "   floor  rooms expenses                                      properati_url  \\\n",
       "0    NaN    2.0      NaN  http://villa-general-mitre.properati.com.ar/xx...   \n",
       "1    7.0    2.0      NaN  http://palermo.properati.com.ar/ya5i_venta_dep...   \n",
       "2    NaN    2.0      NaN  http://saavedra.properati.com.ar/12izq_venta_d...   \n",
       "3    NaN    2.0      NaN  http://villa-del-parque.properati.com.ar/wy0n_...   \n",
       "4    NaN    1.0      NaN  http://belgrano.properati.com.ar/xw9a_venta_de...   \n",
       "\n",
       "         lat        lon  \n",
       "0 -34.616004 -58.470506  \n",
       "1 -34.584712 -58.444927  \n",
       "2 -34.554652 -58.493644  \n",
       "3 -34.610581 -58.479625  \n",
       "4 -34.558227 -58.458357  "
      ]
     },
     "execution_count": 38,
     "metadata": {},
     "output_type": "execute_result"
    }
   ],
   "source": [
    "# Use pd.concat to concatenate the items in frames into a single DataFrame df\n",
    "df = pd.concat(frames, ignore_index=True) # Set the ignore_index argument to True\n",
    "df.head()"
   ]
  },
  {
   "cell_type": "code",
   "execution_count": 39,
   "id": "71b354e3-4ef7-4c8d-a9d1-d97d4b2c385a",
   "metadata": {},
   "outputs": [
    {
     "data": {
      "text/plain": [
       "(6582, 17)"
      ]
     },
     "execution_count": 39,
     "metadata": {},
     "output_type": "execute_result"
    }
   ],
   "source": [
    "df.shape"
   ]
  },
  {
   "cell_type": "markdown",
   "id": "54d2d062-2de2-4189-b8f6-5ea2143b2bcc",
   "metadata": {},
   "source": [
    "## Explore"
   ]
  },
  {
   "cell_type": "markdown",
   "id": "d002da31-1160-4544-9a7e-111b165a84ae",
   "metadata": {},
   "source": [
    "Looking through the output from the `df.head()` call above, there's a little bit more cleaning I need to do before I can work with the neighborhood information in this dataset. \n",
    "\n",
    "Since I'm using a `wrangle` function, I only need to change the function to re-clean all of my CSV files. Hence why functions are so useful."
   ]
  },
  {
   "cell_type": "markdown",
   "id": "b5de8a30-83cc-43fa-b4bf-b63f4fb48a3b",
   "metadata": {},
   "source": [
    "**Create \"Neighborhood\" Feature**"
   ]
  },
  {
   "cell_type": "code",
   "execution_count": 40,
   "id": "b0882307-477d-4d3c-8c9a-74894f49b563",
   "metadata": {},
   "outputs": [
    {
     "data": {
      "text/plain": [
       "0    |Argentina|Capital Federal|Villa General Mitre|\n",
       "1                |Argentina|Capital Federal|Palermo|\n",
       "2               |Argentina|Capital Federal|Saavedra|\n",
       "3       |Argentina|Capital Federal|Villa del Parque|\n",
       "4               |Argentina|Capital Federal|Belgrano|\n",
       "Name: place_with_parent_names, dtype: object"
      ]
     },
     "execution_count": 40,
     "metadata": {},
     "output_type": "execute_result"
    }
   ],
   "source": [
    "# Find the neighborhood for each property in the \"place_with_parent_names\" column\n",
    "df[\"place_with_parent_names\"].head()"
   ]
  },
  {
   "cell_type": "code",
   "execution_count": 41,
   "id": "02457b44-e691-4ef2-a873-e428f33e4a41",
   "metadata": {},
   "outputs": [
    {
     "data": {
      "text/plain": [
       "0    [, Argentina, Capital Federal, Villa General M...\n",
       "1            [, Argentina, Capital Federal, Palermo, ]\n",
       "2           [, Argentina, Capital Federal, Saavedra, ]\n",
       "3    [, Argentina, Capital Federal, Villa del Parqu...\n",
       "4           [, Argentina, Capital Federal, Belgrano, ]\n",
       "Name: place_with_parent_names, dtype: object"
      ]
     },
     "execution_count": 41,
     "metadata": {},
     "output_type": "execute_result"
    }
   ],
   "source": [
    "df[\"place_with_parent_names\"].str.split(\"|\").head()"
   ]
  },
  {
   "cell_type": "code",
   "execution_count": 42,
   "id": "5972adfd-e04c-4340-9533-521cb584e8e7",
   "metadata": {},
   "outputs": [
    {
     "data": {
      "text/html": [
       "<div>\n",
       "<style scoped>\n",
       "    .dataframe tbody tr th:only-of-type {\n",
       "        vertical-align: middle;\n",
       "    }\n",
       "\n",
       "    .dataframe tbody tr th {\n",
       "        vertical-align: top;\n",
       "    }\n",
       "\n",
       "    .dataframe thead th {\n",
       "        text-align: right;\n",
       "    }\n",
       "</style>\n",
       "<table border=\"1\" class=\"dataframe\">\n",
       "  <thead>\n",
       "    <tr style=\"text-align: right;\">\n",
       "      <th></th>\n",
       "      <th>0</th>\n",
       "      <th>1</th>\n",
       "      <th>2</th>\n",
       "      <th>3</th>\n",
       "      <th>4</th>\n",
       "    </tr>\n",
       "  </thead>\n",
       "  <tbody>\n",
       "    <tr>\n",
       "      <th>0</th>\n",
       "      <td></td>\n",
       "      <td>Argentina</td>\n",
       "      <td>Capital Federal</td>\n",
       "      <td>Villa General Mitre</td>\n",
       "      <td></td>\n",
       "    </tr>\n",
       "    <tr>\n",
       "      <th>1</th>\n",
       "      <td></td>\n",
       "      <td>Argentina</td>\n",
       "      <td>Capital Federal</td>\n",
       "      <td>Palermo</td>\n",
       "      <td></td>\n",
       "    </tr>\n",
       "    <tr>\n",
       "      <th>2</th>\n",
       "      <td></td>\n",
       "      <td>Argentina</td>\n",
       "      <td>Capital Federal</td>\n",
       "      <td>Saavedra</td>\n",
       "      <td></td>\n",
       "    </tr>\n",
       "    <tr>\n",
       "      <th>3</th>\n",
       "      <td></td>\n",
       "      <td>Argentina</td>\n",
       "      <td>Capital Federal</td>\n",
       "      <td>Villa del Parque</td>\n",
       "      <td></td>\n",
       "    </tr>\n",
       "    <tr>\n",
       "      <th>4</th>\n",
       "      <td></td>\n",
       "      <td>Argentina</td>\n",
       "      <td>Capital Federal</td>\n",
       "      <td>Belgrano</td>\n",
       "      <td></td>\n",
       "    </tr>\n",
       "  </tbody>\n",
       "</table>\n",
       "</div>"
      ],
      "text/plain": [
       "  0          1                2                    3 4\n",
       "0    Argentina  Capital Federal  Villa General Mitre  \n",
       "1    Argentina  Capital Federal              Palermo  \n",
       "2    Argentina  Capital Federal             Saavedra  \n",
       "3    Argentina  Capital Federal     Villa del Parque  \n",
       "4    Argentina  Capital Federal             Belgrano  "
      ]
     },
     "execution_count": 42,
     "metadata": {},
     "output_type": "execute_result"
    }
   ],
   "source": [
    "df[\"place_with_parent_names\"].str.split(\"|\", expand=True).head()"
   ]
  },
  {
   "cell_type": "code",
   "execution_count": 43,
   "id": "c3dab331-3dd9-41d5-aa71-c52014e103f7",
   "metadata": {},
   "outputs": [
    {
     "data": {
      "text/plain": [
       "0    Villa General Mitre\n",
       "1                Palermo\n",
       "2               Saavedra\n",
       "3       Villa del Parque\n",
       "4               Belgrano\n",
       "Name: 3, dtype: object"
      ]
     },
     "execution_count": 43,
     "metadata": {},
     "output_type": "execute_result"
    }
   ],
   "source": [
    "df[\"place_with_parent_names\"].str.split(\"|\", expand=True)[3].head()"
   ]
  },
  {
   "cell_type": "code",
   "execution_count": 44,
   "id": "0c1a0606-b311-437b-a7c2-c055f9414744",
   "metadata": {},
   "outputs": [],
   "source": [
    "# Modify the wrangle function to create a new feature \"neighborhood\"\n",
    "\n",
    "def wrangle(filepath):\n",
    "    # Read CSV file\n",
    "    df = pd.read_csv(filepath)\n",
    "\n",
    "    # Subset data: Apartments in \"Capital Federal\", less than 400,000\n",
    "    mask_ba = df[\"place_with_parent_names\"].str.contains(\"Capital Federal\")\n",
    "    mask_apt = df[\"property_type\"] == \"apartment\"\n",
    "    mask_price = df[\"price_aprox_usd\"] < 400_000\n",
    "    df = df[mask_ba & mask_apt & mask_price]\n",
    "\n",
    "    # Subset data: Remove outliers for \"surface_covered_in_m2\"\n",
    "    low, high = df[\"surface_covered_in_m2\"].quantile([0.1, 0.9])\n",
    "    mask_area = df[\"surface_covered_in_m2\"].between(low, high)\n",
    "    df = df[mask_area]\n",
    "\n",
    "    # Split \"lat-lon\" column\n",
    "    df[[\"lat\", \"lon\"]] = df[\"lat-lon\"].str.split(\",\", expand=True).astype(float)\n",
    "    df.drop(columns=\"lat-lon\", inplace=True)\n",
    "    \n",
    "    # Extract neighborhood\n",
    "    df[\"neighborhood\"] = df[\"place_with_parent_names\"].str.split(\"|\", expand=True)[3]\n",
    "    df.drop(columns=\"place_with_parent_names\", inplace=True)\n",
    "\n",
    "    return df"
   ]
  },
  {
   "cell_type": "code",
   "execution_count": 45,
   "id": "b8942fb2-92bc-495b-bb03-a718d9181d52",
   "metadata": {},
   "outputs": [],
   "source": [
    "frames = [] \n",
    "for file in files:\n",
    "    df = wrangle(file)\n",
    "    frames.append(df)"
   ]
  },
  {
   "cell_type": "code",
   "execution_count": 46,
   "id": "5a3b8d35-97f7-4492-9e27-3a243b0b4c21",
   "metadata": {},
   "outputs": [
    {
     "data": {
      "text/html": [
       "<div>\n",
       "<style scoped>\n",
       "    .dataframe tbody tr th:only-of-type {\n",
       "        vertical-align: middle;\n",
       "    }\n",
       "\n",
       "    .dataframe tbody tr th {\n",
       "        vertical-align: top;\n",
       "    }\n",
       "\n",
       "    .dataframe thead th {\n",
       "        text-align: right;\n",
       "    }\n",
       "</style>\n",
       "<table border=\"1\" class=\"dataframe\">\n",
       "  <thead>\n",
       "    <tr style=\"text-align: right;\">\n",
       "      <th></th>\n",
       "      <th>operation</th>\n",
       "      <th>property_type</th>\n",
       "      <th>price</th>\n",
       "      <th>currency</th>\n",
       "      <th>price_aprox_local_currency</th>\n",
       "      <th>price_aprox_usd</th>\n",
       "      <th>surface_total_in_m2</th>\n",
       "      <th>surface_covered_in_m2</th>\n",
       "      <th>price_usd_per_m2</th>\n",
       "      <th>price_per_m2</th>\n",
       "      <th>floor</th>\n",
       "      <th>rooms</th>\n",
       "      <th>expenses</th>\n",
       "      <th>properati_url</th>\n",
       "      <th>lat</th>\n",
       "      <th>lon</th>\n",
       "      <th>neighborhood</th>\n",
       "    </tr>\n",
       "  </thead>\n",
       "  <tbody>\n",
       "    <tr>\n",
       "      <th>0</th>\n",
       "      <td>sell</td>\n",
       "      <td>apartment</td>\n",
       "      <td>120000.0</td>\n",
       "      <td>USD</td>\n",
       "      <td>1819488.00</td>\n",
       "      <td>120000.0</td>\n",
       "      <td>NaN</td>\n",
       "      <td>55.0</td>\n",
       "      <td>NaN</td>\n",
       "      <td>2181.818182</td>\n",
       "      <td>NaN</td>\n",
       "      <td>2.0</td>\n",
       "      <td>NaN</td>\n",
       "      <td>http://villa-general-mitre.properati.com.ar/xx...</td>\n",
       "      <td>-34.616004</td>\n",
       "      <td>-58.470506</td>\n",
       "      <td>Villa General Mitre</td>\n",
       "    </tr>\n",
       "    <tr>\n",
       "      <th>1</th>\n",
       "      <td>sell</td>\n",
       "      <td>apartment</td>\n",
       "      <td>89000.0</td>\n",
       "      <td>USD</td>\n",
       "      <td>1349453.60</td>\n",
       "      <td>89000.0</td>\n",
       "      <td>NaN</td>\n",
       "      <td>37.0</td>\n",
       "      <td>NaN</td>\n",
       "      <td>2405.405405</td>\n",
       "      <td>7.0</td>\n",
       "      <td>2.0</td>\n",
       "      <td>NaN</td>\n",
       "      <td>http://palermo.properati.com.ar/ya5i_venta_dep...</td>\n",
       "      <td>-34.584712</td>\n",
       "      <td>-58.444927</td>\n",
       "      <td>Palermo</td>\n",
       "    </tr>\n",
       "    <tr>\n",
       "      <th>2</th>\n",
       "      <td>sell</td>\n",
       "      <td>apartment</td>\n",
       "      <td>183495.0</td>\n",
       "      <td>USD</td>\n",
       "      <td>2782224.58</td>\n",
       "      <td>183495.0</td>\n",
       "      <td>92.0</td>\n",
       "      <td>57.0</td>\n",
       "      <td>1994.51087</td>\n",
       "      <td>3219.210526</td>\n",
       "      <td>NaN</td>\n",
       "      <td>2.0</td>\n",
       "      <td>NaN</td>\n",
       "      <td>http://saavedra.properati.com.ar/12izq_venta_d...</td>\n",
       "      <td>-34.554652</td>\n",
       "      <td>-58.493644</td>\n",
       "      <td>Saavedra</td>\n",
       "    </tr>\n",
       "    <tr>\n",
       "      <th>3</th>\n",
       "      <td>sell</td>\n",
       "      <td>apartment</td>\n",
       "      <td>95000.0</td>\n",
       "      <td>USD</td>\n",
       "      <td>1440428.00</td>\n",
       "      <td>95000.0</td>\n",
       "      <td>53.0</td>\n",
       "      <td>47.0</td>\n",
       "      <td>1792.45283</td>\n",
       "      <td>2021.276596</td>\n",
       "      <td>NaN</td>\n",
       "      <td>2.0</td>\n",
       "      <td>NaN</td>\n",
       "      <td>http://villa-del-parque.properati.com.ar/wy0n_...</td>\n",
       "      <td>-34.610581</td>\n",
       "      <td>-58.479625</td>\n",
       "      <td>Villa del Parque</td>\n",
       "    </tr>\n",
       "    <tr>\n",
       "      <th>4</th>\n",
       "      <td>sell</td>\n",
       "      <td>apartment</td>\n",
       "      <td>95000.0</td>\n",
       "      <td>USD</td>\n",
       "      <td>1440428.00</td>\n",
       "      <td>95000.0</td>\n",
       "      <td>0.0</td>\n",
       "      <td>35.0</td>\n",
       "      <td>NaN</td>\n",
       "      <td>2714.285714</td>\n",
       "      <td>NaN</td>\n",
       "      <td>1.0</td>\n",
       "      <td>NaN</td>\n",
       "      <td>http://belgrano.properati.com.ar/xw9a_venta_de...</td>\n",
       "      <td>-34.558227</td>\n",
       "      <td>-58.458357</td>\n",
       "      <td>Belgrano</td>\n",
       "    </tr>\n",
       "  </tbody>\n",
       "</table>\n",
       "</div>"
      ],
      "text/plain": [
       "  operation property_type     price currency  price_aprox_local_currency  \\\n",
       "0      sell     apartment  120000.0      USD                  1819488.00   \n",
       "1      sell     apartment   89000.0      USD                  1349453.60   \n",
       "2      sell     apartment  183495.0      USD                  2782224.58   \n",
       "3      sell     apartment   95000.0      USD                  1440428.00   \n",
       "4      sell     apartment   95000.0      USD                  1440428.00   \n",
       "\n",
       "   price_aprox_usd  surface_total_in_m2  surface_covered_in_m2  \\\n",
       "0         120000.0                  NaN                   55.0   \n",
       "1          89000.0                  NaN                   37.0   \n",
       "2         183495.0                 92.0                   57.0   \n",
       "3          95000.0                 53.0                   47.0   \n",
       "4          95000.0                  0.0                   35.0   \n",
       "\n",
       "   price_usd_per_m2  price_per_m2  floor  rooms expenses  \\\n",
       "0               NaN   2181.818182    NaN    2.0      NaN   \n",
       "1               NaN   2405.405405    7.0    2.0      NaN   \n",
       "2        1994.51087   3219.210526    NaN    2.0      NaN   \n",
       "3        1792.45283   2021.276596    NaN    2.0      NaN   \n",
       "4               NaN   2714.285714    NaN    1.0      NaN   \n",
       "\n",
       "                                       properati_url        lat        lon  \\\n",
       "0  http://villa-general-mitre.properati.com.ar/xx... -34.616004 -58.470506   \n",
       "1  http://palermo.properati.com.ar/ya5i_venta_dep... -34.584712 -58.444927   \n",
       "2  http://saavedra.properati.com.ar/12izq_venta_d... -34.554652 -58.493644   \n",
       "3  http://villa-del-parque.properati.com.ar/wy0n_... -34.610581 -58.479625   \n",
       "4  http://belgrano.properati.com.ar/xw9a_venta_de... -34.558227 -58.458357   \n",
       "\n",
       "          neighborhood  \n",
       "0  Villa General Mitre  \n",
       "1              Palermo  \n",
       "2             Saavedra  \n",
       "3     Villa del Parque  \n",
       "4             Belgrano  "
      ]
     },
     "execution_count": 46,
     "metadata": {},
     "output_type": "execute_result"
    }
   ],
   "source": [
    "df = pd.concat(frames, ignore_index=True)\n",
    "df.head()"
   ]
  },
  {
   "cell_type": "markdown",
   "id": "2aed7c4e-9c5c-4a1c-8303-1f5213c4bb1f",
   "metadata": {},
   "source": [
    "## Split"
   ]
  },
  {
   "cell_type": "markdown",
   "id": "144f63ff-0f19-40d8-a751-b4c5dc97431a",
   "metadata": {},
   "source": [
    " I can condense the whole process (splitting data) down to one task."
   ]
  },
  {
   "cell_type": "markdown",
   "id": "fa34bef2-eb0c-4398-ab7b-b32ea17389a2",
   "metadata": {},
   "source": [
    "**Split Data**"
   ]
  },
  {
   "cell_type": "code",
   "execution_count": 47,
   "id": "48033bba-954a-4118-8da6-32dd25aa728e",
   "metadata": {},
   "outputs": [],
   "source": [
    "# Create feature matrix X_train and target vector y_train\n",
    "target = \"price_aprox_usd\" # target is \"price_aprox_usd\"\n",
    "features = [\"neighborhood\"] # X_train should contain one feature: \"neighborhood\"\n",
    "y_train = df[target]\n",
    "X_train = df[features]"
   ]
  },
  {
   "cell_type": "markdown",
   "id": "779e2149-9c2c-4003-b451-6258dce367db",
   "metadata": {},
   "source": [
    "# Build Model"
   ]
  },
  {
   "cell_type": "markdown",
   "id": "a9c550c0-afed-45cc-81f5-2d11593f3a74",
   "metadata": {},
   "source": [
    "I can condense the code I use to establish my baseline."
   ]
  },
  {
   "cell_type": "markdown",
   "id": "bcf14523-1bf4-41ec-ad78-d83ae22c930c",
   "metadata": {},
   "source": [
    "**Baseline Model**"
   ]
  },
  {
   "cell_type": "code",
   "execution_count": 48,
   "id": "c2e111f6-d2ac-4aa8-a823-69cc66a3c246",
   "metadata": {},
   "outputs": [
    {
     "name": "stdout",
     "output_type": "stream",
     "text": [
      "Mean apt price: 132383.83701458524\n",
      "Baseline MAE: 44860.10834274133\n"
     ]
    }
   ],
   "source": [
    "# Calculate the baseline mean absolute error for my model\n",
    "y_mean = y_train.mean()\n",
    "y_pred_baseline = [y_mean] * len(y_train)\n",
    "print(\"Mean apt price:\", y_mean)\n",
    "print(\"Baseline MAE:\", mean_absolute_error(y_train, y_pred_baseline))"
   ]
  },
  {
   "cell_type": "markdown",
   "id": "276ea20d-e896-4968-9943-52f6db3093b0",
   "metadata": {},
   "source": [
    "The mean apartment price and baseline MAE should be similar but not identical to one in `Predicting Housing Price with Location`project. This is because numbers change since I'm working with more data."
   ]
  },
  {
   "cell_type": "markdown",
   "id": "756afecb-7912-435e-a5c5-48adc405c1e9",
   "metadata": {},
   "source": [
    "## Iterate"
   ]
  },
  {
   "cell_type": "markdown",
   "id": "72bec663-ca00-4e18-a58d-d4eed84ed72f",
   "metadata": {},
   "source": [
    "If I try to fit a `LinearRegression` predictor to my training data at this point, I'll get an error that says \"ValueError: could not convert string to float\"."
   ]
  },
  {
   "cell_type": "markdown",
   "id": "0107f0bc-8925-4046-b16b-ab1636ab93e5",
   "metadata": {},
   "source": [
    "When I fit a linear regression model, I'm asking scikit-learn to perform a mathematical operation. The problem is that my training set contains neighborhood information in a non-numerical form.\n",
    "\n",
    "In order to create my model I need to **encode** that information so that it's represented numerically. There are lots of transformers that can do this and for this project, I'll be using one from the [Category Encoders](https://contrib.scikit-learn.org/category_encoders/index.html) library, called a [`OneHotEncoder`](https://contrib.scikit-learn.org/category_encoders/onehot.html)."
   ]
  },
  {
   "cell_type": "markdown",
   "id": "bd1870f9-b8e6-4f34-9337-992c1a5bf758",
   "metadata": {},
   "source": [
    "**Transformer: OneHotEncoder**"
   ]
  },
  {
   "cell_type": "code",
   "execution_count": 49,
   "id": "bcd574c8",
   "metadata": {},
   "outputs": [
    {
     "data": {
      "text/html": [
       "<div>\n",
       "<style scoped>\n",
       "    .dataframe tbody tr th:only-of-type {\n",
       "        vertical-align: middle;\n",
       "    }\n",
       "\n",
       "    .dataframe tbody tr th {\n",
       "        vertical-align: top;\n",
       "    }\n",
       "\n",
       "    .dataframe thead th {\n",
       "        text-align: right;\n",
       "    }\n",
       "</style>\n",
       "<table border=\"1\" class=\"dataframe\">\n",
       "  <thead>\n",
       "    <tr style=\"text-align: right;\">\n",
       "      <th></th>\n",
       "      <th>neighborhood</th>\n",
       "    </tr>\n",
       "  </thead>\n",
       "  <tbody>\n",
       "    <tr>\n",
       "      <th>0</th>\n",
       "      <td>Villa General Mitre</td>\n",
       "    </tr>\n",
       "    <tr>\n",
       "      <th>1</th>\n",
       "      <td>Palermo</td>\n",
       "    </tr>\n",
       "    <tr>\n",
       "      <th>2</th>\n",
       "      <td>Saavedra</td>\n",
       "    </tr>\n",
       "    <tr>\n",
       "      <th>3</th>\n",
       "      <td>Villa del Parque</td>\n",
       "    </tr>\n",
       "    <tr>\n",
       "      <th>4</th>\n",
       "      <td>Belgrano</td>\n",
       "    </tr>\n",
       "  </tbody>\n",
       "</table>\n",
       "</div>"
      ],
      "text/plain": [
       "          neighborhood\n",
       "0  Villa General Mitre\n",
       "1              Palermo\n",
       "2             Saavedra\n",
       "3     Villa del Parque\n",
       "4             Belgrano"
      ]
     },
     "execution_count": 49,
     "metadata": {},
     "output_type": "execute_result"
    }
   ],
   "source": [
    "X_train.head()"
   ]
  },
  {
   "cell_type": "code",
   "execution_count": null,
   "id": "07fead74",
   "metadata": {},
   "outputs": [],
   "source": [
    "# If I try to fit a LinearRegression predictor to my training data at this point, I'll get an error\n",
    "model = LinearRegression()\n",
    "model.fit(X_train, y_train)"
   ]
  },
  {
   "cell_type": "code",
   "execution_count": 50,
   "id": "8cad04b1-d782-4c69-ba79-fdcaad030227",
   "metadata": {},
   "outputs": [
    {
     "name": "stdout",
     "output_type": "stream",
     "text": [
      "(6582, 57)\n"
     ]
    },
    {
     "data": {
      "text/html": [
       "<div>\n",
       "<style scoped>\n",
       "    .dataframe tbody tr th:only-of-type {\n",
       "        vertical-align: middle;\n",
       "    }\n",
       "\n",
       "    .dataframe tbody tr th {\n",
       "        vertical-align: top;\n",
       "    }\n",
       "\n",
       "    .dataframe thead th {\n",
       "        text-align: right;\n",
       "    }\n",
       "</style>\n",
       "<table border=\"1\" class=\"dataframe\">\n",
       "  <thead>\n",
       "    <tr style=\"text-align: right;\">\n",
       "      <th></th>\n",
       "      <th>neighborhood_Villa General Mitre</th>\n",
       "      <th>neighborhood_Palermo</th>\n",
       "      <th>neighborhood_Saavedra</th>\n",
       "      <th>neighborhood_Villa del Parque</th>\n",
       "      <th>neighborhood_Belgrano</th>\n",
       "      <th>neighborhood_Coghlan</th>\n",
       "      <th>neighborhood_Chacarita</th>\n",
       "      <th>neighborhood_Boedo</th>\n",
       "      <th>neighborhood_Caballito</th>\n",
       "      <th>neighborhood_Monserrat</th>\n",
       "      <th>...</th>\n",
       "      <th>neighborhood_Versalles</th>\n",
       "      <th>neighborhood_Villa Lugano</th>\n",
       "      <th>neighborhood_Parque Avellaneda</th>\n",
       "      <th>neighborhood_Las Cañitas</th>\n",
       "      <th>neighborhood_Villa Soldati</th>\n",
       "      <th>neighborhood_Parque Chas</th>\n",
       "      <th>neighborhood_Velez Sarsfield</th>\n",
       "      <th>neighborhood_Pompeya</th>\n",
       "      <th>neighborhood_Villa Real</th>\n",
       "      <th>neighborhood_Catalinas</th>\n",
       "    </tr>\n",
       "  </thead>\n",
       "  <tbody>\n",
       "    <tr>\n",
       "      <th>0</th>\n",
       "      <td>1</td>\n",
       "      <td>0</td>\n",
       "      <td>0</td>\n",
       "      <td>0</td>\n",
       "      <td>0</td>\n",
       "      <td>0</td>\n",
       "      <td>0</td>\n",
       "      <td>0</td>\n",
       "      <td>0</td>\n",
       "      <td>0</td>\n",
       "      <td>...</td>\n",
       "      <td>0</td>\n",
       "      <td>0</td>\n",
       "      <td>0</td>\n",
       "      <td>0</td>\n",
       "      <td>0</td>\n",
       "      <td>0</td>\n",
       "      <td>0</td>\n",
       "      <td>0</td>\n",
       "      <td>0</td>\n",
       "      <td>0</td>\n",
       "    </tr>\n",
       "    <tr>\n",
       "      <th>1</th>\n",
       "      <td>0</td>\n",
       "      <td>1</td>\n",
       "      <td>0</td>\n",
       "      <td>0</td>\n",
       "      <td>0</td>\n",
       "      <td>0</td>\n",
       "      <td>0</td>\n",
       "      <td>0</td>\n",
       "      <td>0</td>\n",
       "      <td>0</td>\n",
       "      <td>...</td>\n",
       "      <td>0</td>\n",
       "      <td>0</td>\n",
       "      <td>0</td>\n",
       "      <td>0</td>\n",
       "      <td>0</td>\n",
       "      <td>0</td>\n",
       "      <td>0</td>\n",
       "      <td>0</td>\n",
       "      <td>0</td>\n",
       "      <td>0</td>\n",
       "    </tr>\n",
       "    <tr>\n",
       "      <th>2</th>\n",
       "      <td>0</td>\n",
       "      <td>0</td>\n",
       "      <td>1</td>\n",
       "      <td>0</td>\n",
       "      <td>0</td>\n",
       "      <td>0</td>\n",
       "      <td>0</td>\n",
       "      <td>0</td>\n",
       "      <td>0</td>\n",
       "      <td>0</td>\n",
       "      <td>...</td>\n",
       "      <td>0</td>\n",
       "      <td>0</td>\n",
       "      <td>0</td>\n",
       "      <td>0</td>\n",
       "      <td>0</td>\n",
       "      <td>0</td>\n",
       "      <td>0</td>\n",
       "      <td>0</td>\n",
       "      <td>0</td>\n",
       "      <td>0</td>\n",
       "    </tr>\n",
       "    <tr>\n",
       "      <th>3</th>\n",
       "      <td>0</td>\n",
       "      <td>0</td>\n",
       "      <td>0</td>\n",
       "      <td>1</td>\n",
       "      <td>0</td>\n",
       "      <td>0</td>\n",
       "      <td>0</td>\n",
       "      <td>0</td>\n",
       "      <td>0</td>\n",
       "      <td>0</td>\n",
       "      <td>...</td>\n",
       "      <td>0</td>\n",
       "      <td>0</td>\n",
       "      <td>0</td>\n",
       "      <td>0</td>\n",
       "      <td>0</td>\n",
       "      <td>0</td>\n",
       "      <td>0</td>\n",
       "      <td>0</td>\n",
       "      <td>0</td>\n",
       "      <td>0</td>\n",
       "    </tr>\n",
       "    <tr>\n",
       "      <th>4</th>\n",
       "      <td>0</td>\n",
       "      <td>0</td>\n",
       "      <td>0</td>\n",
       "      <td>0</td>\n",
       "      <td>1</td>\n",
       "      <td>0</td>\n",
       "      <td>0</td>\n",
       "      <td>0</td>\n",
       "      <td>0</td>\n",
       "      <td>0</td>\n",
       "      <td>...</td>\n",
       "      <td>0</td>\n",
       "      <td>0</td>\n",
       "      <td>0</td>\n",
       "      <td>0</td>\n",
       "      <td>0</td>\n",
       "      <td>0</td>\n",
       "      <td>0</td>\n",
       "      <td>0</td>\n",
       "      <td>0</td>\n",
       "      <td>0</td>\n",
       "    </tr>\n",
       "  </tbody>\n",
       "</table>\n",
       "<p>5 rows × 57 columns</p>\n",
       "</div>"
      ],
      "text/plain": [
       "   neighborhood_Villa General Mitre  neighborhood_Palermo  \\\n",
       "0                                 1                     0   \n",
       "1                                 0                     1   \n",
       "2                                 0                     0   \n",
       "3                                 0                     0   \n",
       "4                                 0                     0   \n",
       "\n",
       "   neighborhood_Saavedra  neighborhood_Villa del Parque  \\\n",
       "0                      0                              0   \n",
       "1                      0                              0   \n",
       "2                      1                              0   \n",
       "3                      0                              1   \n",
       "4                      0                              0   \n",
       "\n",
       "   neighborhood_Belgrano  neighborhood_Coghlan  neighborhood_Chacarita  \\\n",
       "0                      0                     0                       0   \n",
       "1                      0                     0                       0   \n",
       "2                      0                     0                       0   \n",
       "3                      0                     0                       0   \n",
       "4                      1                     0                       0   \n",
       "\n",
       "   neighborhood_Boedo  neighborhood_Caballito  neighborhood_Monserrat  ...  \\\n",
       "0                   0                       0                       0  ...   \n",
       "1                   0                       0                       0  ...   \n",
       "2                   0                       0                       0  ...   \n",
       "3                   0                       0                       0  ...   \n",
       "4                   0                       0                       0  ...   \n",
       "\n",
       "   neighborhood_Versalles  neighborhood_Villa Lugano  \\\n",
       "0                       0                          0   \n",
       "1                       0                          0   \n",
       "2                       0                          0   \n",
       "3                       0                          0   \n",
       "4                       0                          0   \n",
       "\n",
       "   neighborhood_Parque Avellaneda  neighborhood_Las Cañitas  \\\n",
       "0                               0                         0   \n",
       "1                               0                         0   \n",
       "2                               0                         0   \n",
       "3                               0                         0   \n",
       "4                               0                         0   \n",
       "\n",
       "   neighborhood_Villa Soldati  neighborhood_Parque Chas  \\\n",
       "0                           0                         0   \n",
       "1                           0                         0   \n",
       "2                           0                         0   \n",
       "3                           0                         0   \n",
       "4                           0                         0   \n",
       "\n",
       "   neighborhood_Velez Sarsfield  neighborhood_Pompeya  \\\n",
       "0                             0                     0   \n",
       "1                             0                     0   \n",
       "2                             0                     0   \n",
       "3                             0                     0   \n",
       "4                             0                     0   \n",
       "\n",
       "   neighborhood_Villa Real  neighborhood_Catalinas  \n",
       "0                        0                       0  \n",
       "1                        0                       0  \n",
       "2                        0                       0  \n",
       "3                        0                       0  \n",
       "4                        0                       0  \n",
       "\n",
       "[5 rows x 57 columns]"
      ]
     },
     "execution_count": 50,
     "metadata": {},
     "output_type": "execute_result"
    }
   ],
   "source": [
    "# Instantiate a OneHotEncoder named ohe\n",
    "ohe = OneHotEncoder(use_cat_names=True)\n",
    "\n",
    "# Fit\n",
    "ohe.fit(X_train)\n",
    "\n",
    "# Transform\n",
    "XT_train= ohe.transform(X_train)\n",
    "print(XT_train.shape)\n",
    "XT_train.head()"
   ]
  },
  {
   "cell_type": "markdown",
   "id": "3354e4cc-e877-4fde-905c-a75e35440bfd",
   "metadata": {},
   "source": [
    "**Build Model**"
   ]
  },
  {
   "cell_type": "code",
   "execution_count": 51,
   "id": "a7ba5627-a3b9-44f3-ba0a-10131a2c1685",
   "metadata": {},
   "outputs": [
    {
     "data": {
      "text/html": [
       "<style>#sk-container-id-1 {color: black;background-color: white;}#sk-container-id-1 pre{padding: 0;}#sk-container-id-1 div.sk-toggleable {background-color: white;}#sk-container-id-1 label.sk-toggleable__label {cursor: pointer;display: block;width: 100%;margin-bottom: 0;padding: 0.3em;box-sizing: border-box;text-align: center;}#sk-container-id-1 label.sk-toggleable__label-arrow:before {content: \"▸\";float: left;margin-right: 0.25em;color: #696969;}#sk-container-id-1 label.sk-toggleable__label-arrow:hover:before {color: black;}#sk-container-id-1 div.sk-estimator:hover label.sk-toggleable__label-arrow:before {color: black;}#sk-container-id-1 div.sk-toggleable__content {max-height: 0;max-width: 0;overflow: hidden;text-align: left;background-color: #f0f8ff;}#sk-container-id-1 div.sk-toggleable__content pre {margin: 0.2em;color: black;border-radius: 0.25em;background-color: #f0f8ff;}#sk-container-id-1 input.sk-toggleable__control:checked~div.sk-toggleable__content {max-height: 200px;max-width: 100%;overflow: auto;}#sk-container-id-1 input.sk-toggleable__control:checked~label.sk-toggleable__label-arrow:before {content: \"▾\";}#sk-container-id-1 div.sk-estimator input.sk-toggleable__control:checked~label.sk-toggleable__label {background-color: #d4ebff;}#sk-container-id-1 div.sk-label input.sk-toggleable__control:checked~label.sk-toggleable__label {background-color: #d4ebff;}#sk-container-id-1 input.sk-hidden--visually {border: 0;clip: rect(1px 1px 1px 1px);clip: rect(1px, 1px, 1px, 1px);height: 1px;margin: -1px;overflow: hidden;padding: 0;position: absolute;width: 1px;}#sk-container-id-1 div.sk-estimator {font-family: monospace;background-color: #f0f8ff;border: 1px dotted black;border-radius: 0.25em;box-sizing: border-box;margin-bottom: 0.5em;}#sk-container-id-1 div.sk-estimator:hover {background-color: #d4ebff;}#sk-container-id-1 div.sk-parallel-item::after {content: \"\";width: 100%;border-bottom: 1px solid gray;flex-grow: 1;}#sk-container-id-1 div.sk-label:hover label.sk-toggleable__label {background-color: #d4ebff;}#sk-container-id-1 div.sk-serial::before {content: \"\";position: absolute;border-left: 1px solid gray;box-sizing: border-box;top: 0;bottom: 0;left: 50%;z-index: 0;}#sk-container-id-1 div.sk-serial {display: flex;flex-direction: column;align-items: center;background-color: white;padding-right: 0.2em;padding-left: 0.2em;position: relative;}#sk-container-id-1 div.sk-item {position: relative;z-index: 1;}#sk-container-id-1 div.sk-parallel {display: flex;align-items: stretch;justify-content: center;background-color: white;position: relative;}#sk-container-id-1 div.sk-item::before, #sk-container-id-1 div.sk-parallel-item::before {content: \"\";position: absolute;border-left: 1px solid gray;box-sizing: border-box;top: 0;bottom: 0;left: 50%;z-index: -1;}#sk-container-id-1 div.sk-parallel-item {display: flex;flex-direction: column;z-index: 1;position: relative;background-color: white;}#sk-container-id-1 div.sk-parallel-item:first-child::after {align-self: flex-end;width: 50%;}#sk-container-id-1 div.sk-parallel-item:last-child::after {align-self: flex-start;width: 50%;}#sk-container-id-1 div.sk-parallel-item:only-child::after {width: 0;}#sk-container-id-1 div.sk-dashed-wrapped {border: 1px dashed gray;margin: 0 0.4em 0.5em 0.4em;box-sizing: border-box;padding-bottom: 0.4em;background-color: white;}#sk-container-id-1 div.sk-label label {font-family: monospace;font-weight: bold;display: inline-block;line-height: 1.2em;}#sk-container-id-1 div.sk-label-container {text-align: center;}#sk-container-id-1 div.sk-container {/* jupyter's `normalize.less` sets `[hidden] { display: none; }` but bootstrap.min.css set `[hidden] { display: none !important; }` so we also need the `!important` here to be able to override the default hidden behavior on the sphinx rendered scikit-learn.org. See: https://github.com/scikit-learn/scikit-learn/issues/21755 */display: inline-block !important;position: relative;}#sk-container-id-1 div.sk-text-repr-fallback {display: none;}</style><div id=\"sk-container-id-1\" class=\"sk-top-container\"><div class=\"sk-text-repr-fallback\"><pre>Pipeline(steps=[(&#x27;onehotencoder&#x27;,\n",
       "                 OneHotEncoder(cols=[&#x27;neighborhood&#x27;], use_cat_names=True)),\n",
       "                (&#x27;linearregression&#x27;, LinearRegression())])</pre><b>In a Jupyter environment, please rerun this cell to show the HTML representation or trust the notebook. <br />On GitHub, the HTML representation is unable to render, please try loading this page with nbviewer.org.</b></div><div class=\"sk-container\" hidden><div class=\"sk-item sk-dashed-wrapped\"><div class=\"sk-label-container\"><div class=\"sk-label sk-toggleable\"><input class=\"sk-toggleable__control sk-hidden--visually\" id=\"sk-estimator-id-1\" type=\"checkbox\" ><label for=\"sk-estimator-id-1\" class=\"sk-toggleable__label sk-toggleable__label-arrow\">Pipeline</label><div class=\"sk-toggleable__content\"><pre>Pipeline(steps=[(&#x27;onehotencoder&#x27;,\n",
       "                 OneHotEncoder(cols=[&#x27;neighborhood&#x27;], use_cat_names=True)),\n",
       "                (&#x27;linearregression&#x27;, LinearRegression())])</pre></div></div></div><div class=\"sk-serial\"><div class=\"sk-item\"><div class=\"sk-estimator sk-toggleable\"><input class=\"sk-toggleable__control sk-hidden--visually\" id=\"sk-estimator-id-2\" type=\"checkbox\" ><label for=\"sk-estimator-id-2\" class=\"sk-toggleable__label sk-toggleable__label-arrow\">OneHotEncoder</label><div class=\"sk-toggleable__content\"><pre>OneHotEncoder(cols=[&#x27;neighborhood&#x27;], use_cat_names=True)</pre></div></div></div><div class=\"sk-item\"><div class=\"sk-estimator sk-toggleable\"><input class=\"sk-toggleable__control sk-hidden--visually\" id=\"sk-estimator-id-3\" type=\"checkbox\" ><label for=\"sk-estimator-id-3\" class=\"sk-toggleable__label sk-toggleable__label-arrow\">LinearRegression</label><div class=\"sk-toggleable__content\"><pre>LinearRegression()</pre></div></div></div></div></div></div></div>"
      ],
      "text/plain": [
       "Pipeline(steps=[('onehotencoder',\n",
       "                 OneHotEncoder(cols=['neighborhood'], use_cat_names=True)),\n",
       "                ('linearregression', LinearRegression())])"
      ]
     },
     "execution_count": 51,
     "metadata": {},
     "output_type": "execute_result"
    }
   ],
   "source": [
    "# Create a pipeline named model that contains a OneHotEncoder transformer and a LinearRegression predictor\n",
    "model = make_pipeline(\n",
    "    OneHotEncoder(use_cat_names=True),\n",
    "    LinearRegression()\n",
    ")\n",
    "\n",
    "model.fit(X_train, y_train) # Fit my model to the training data"
   ]
  },
  {
   "cell_type": "code",
   "execution_count": 52,
   "id": "da583786-d533-430a-a230-7fc0d933ca42",
   "metadata": {},
   "outputs": [],
   "source": [
    "# Check my work\n",
    "check_is_fitted(model[-1])"
   ]
  },
  {
   "cell_type": "markdown",
   "id": "922ab1a8-57fc-4d3a-8ea8-2bdf9ebb9b11",
   "metadata": {},
   "source": [
    "Above, I built a model with two transformers and a predictor."
   ]
  },
  {
   "cell_type": "markdown",
   "id": "013d3936-7b87-4a89-98cd-c40ba1ab3a65",
   "metadata": {},
   "source": [
    "## Evaluate"
   ]
  },
  {
   "cell_type": "markdown",
   "id": "e4122211-ff66-4926-b928-d073b7994ecc",
   "metadata": {},
   "source": [
    "Regardless of how I build my model, the evaluation step stays the same. I'll see how my model performs with the training set."
   ]
  },
  {
   "cell_type": "markdown",
   "id": "df8015a4-8bc7-4145-a8a8-9328b9887df7",
   "metadata": {},
   "source": [
    "**Training Mean Absolute Error**"
   ]
  },
  {
   "cell_type": "code",
   "execution_count": 53,
   "id": "ad29e609-c912-476e-b8ba-6f31069f3b53",
   "metadata": {},
   "outputs": [
    {
     "name": "stdout",
     "output_type": "stream",
     "text": [
      "Training MAE: 39337.76\n"
     ]
    }
   ],
   "source": [
    "# Create a list of predictions for the observations in the feature matrix X_train\n",
    "y_pred_training = model.predict(X_train) # Name this list y_pred_training\n",
    "\n",
    "# Calculate the training mean absolute error for the predictions in y_pred_training as compared to the true targets in y_train\n",
    "mae_training = mean_absolute_error(y_train, y_pred_training) \n",
    "print(\"Training MAE:\", round(mae_training, 2))"
   ]
  },
  {
   "cell_type": "code",
   "execution_count": 54,
   "id": "d56ac16f-9a03-4723-8fe0-6900ef51d9fc",
   "metadata": {},
   "outputs": [
    {
     "data": {
      "text/html": [
       "<style>#sk-container-id-2 {color: black;background-color: white;}#sk-container-id-2 pre{padding: 0;}#sk-container-id-2 div.sk-toggleable {background-color: white;}#sk-container-id-2 label.sk-toggleable__label {cursor: pointer;display: block;width: 100%;margin-bottom: 0;padding: 0.3em;box-sizing: border-box;text-align: center;}#sk-container-id-2 label.sk-toggleable__label-arrow:before {content: \"▸\";float: left;margin-right: 0.25em;color: #696969;}#sk-container-id-2 label.sk-toggleable__label-arrow:hover:before {color: black;}#sk-container-id-2 div.sk-estimator:hover label.sk-toggleable__label-arrow:before {color: black;}#sk-container-id-2 div.sk-toggleable__content {max-height: 0;max-width: 0;overflow: hidden;text-align: left;background-color: #f0f8ff;}#sk-container-id-2 div.sk-toggleable__content pre {margin: 0.2em;color: black;border-radius: 0.25em;background-color: #f0f8ff;}#sk-container-id-2 input.sk-toggleable__control:checked~div.sk-toggleable__content {max-height: 200px;max-width: 100%;overflow: auto;}#sk-container-id-2 input.sk-toggleable__control:checked~label.sk-toggleable__label-arrow:before {content: \"▾\";}#sk-container-id-2 div.sk-estimator input.sk-toggleable__control:checked~label.sk-toggleable__label {background-color: #d4ebff;}#sk-container-id-2 div.sk-label input.sk-toggleable__control:checked~label.sk-toggleable__label {background-color: #d4ebff;}#sk-container-id-2 input.sk-hidden--visually {border: 0;clip: rect(1px 1px 1px 1px);clip: rect(1px, 1px, 1px, 1px);height: 1px;margin: -1px;overflow: hidden;padding: 0;position: absolute;width: 1px;}#sk-container-id-2 div.sk-estimator {font-family: monospace;background-color: #f0f8ff;border: 1px dotted black;border-radius: 0.25em;box-sizing: border-box;margin-bottom: 0.5em;}#sk-container-id-2 div.sk-estimator:hover {background-color: #d4ebff;}#sk-container-id-2 div.sk-parallel-item::after {content: \"\";width: 100%;border-bottom: 1px solid gray;flex-grow: 1;}#sk-container-id-2 div.sk-label:hover label.sk-toggleable__label {background-color: #d4ebff;}#sk-container-id-2 div.sk-serial::before {content: \"\";position: absolute;border-left: 1px solid gray;box-sizing: border-box;top: 0;bottom: 0;left: 50%;z-index: 0;}#sk-container-id-2 div.sk-serial {display: flex;flex-direction: column;align-items: center;background-color: white;padding-right: 0.2em;padding-left: 0.2em;position: relative;}#sk-container-id-2 div.sk-item {position: relative;z-index: 1;}#sk-container-id-2 div.sk-parallel {display: flex;align-items: stretch;justify-content: center;background-color: white;position: relative;}#sk-container-id-2 div.sk-item::before, #sk-container-id-2 div.sk-parallel-item::before {content: \"\";position: absolute;border-left: 1px solid gray;box-sizing: border-box;top: 0;bottom: 0;left: 50%;z-index: -1;}#sk-container-id-2 div.sk-parallel-item {display: flex;flex-direction: column;z-index: 1;position: relative;background-color: white;}#sk-container-id-2 div.sk-parallel-item:first-child::after {align-self: flex-end;width: 50%;}#sk-container-id-2 div.sk-parallel-item:last-child::after {align-self: flex-start;width: 50%;}#sk-container-id-2 div.sk-parallel-item:only-child::after {width: 0;}#sk-container-id-2 div.sk-dashed-wrapped {border: 1px dashed gray;margin: 0 0.4em 0.5em 0.4em;box-sizing: border-box;padding-bottom: 0.4em;background-color: white;}#sk-container-id-2 div.sk-label label {font-family: monospace;font-weight: bold;display: inline-block;line-height: 1.2em;}#sk-container-id-2 div.sk-label-container {text-align: center;}#sk-container-id-2 div.sk-container {/* jupyter's `normalize.less` sets `[hidden] { display: none; }` but bootstrap.min.css set `[hidden] { display: none !important; }` so we also need the `!important` here to be able to override the default hidden behavior on the sphinx rendered scikit-learn.org. See: https://github.com/scikit-learn/scikit-learn/issues/21755 */display: inline-block !important;position: relative;}#sk-container-id-2 div.sk-text-repr-fallback {display: none;}</style><div id=\"sk-container-id-2\" class=\"sk-top-container\"><div class=\"sk-text-repr-fallback\"><pre>Pipeline(steps=[(&#x27;onehotencoder&#x27;,\n",
       "                 OneHotEncoder(cols=[&#x27;neighborhood&#x27;], use_cat_names=True)),\n",
       "                (&#x27;ridge&#x27;, Ridge())])</pre><b>In a Jupyter environment, please rerun this cell to show the HTML representation or trust the notebook. <br />On GitHub, the HTML representation is unable to render, please try loading this page with nbviewer.org.</b></div><div class=\"sk-container\" hidden><div class=\"sk-item sk-dashed-wrapped\"><div class=\"sk-label-container\"><div class=\"sk-label sk-toggleable\"><input class=\"sk-toggleable__control sk-hidden--visually\" id=\"sk-estimator-id-4\" type=\"checkbox\" ><label for=\"sk-estimator-id-4\" class=\"sk-toggleable__label sk-toggleable__label-arrow\">Pipeline</label><div class=\"sk-toggleable__content\"><pre>Pipeline(steps=[(&#x27;onehotencoder&#x27;,\n",
       "                 OneHotEncoder(cols=[&#x27;neighborhood&#x27;], use_cat_names=True)),\n",
       "                (&#x27;ridge&#x27;, Ridge())])</pre></div></div></div><div class=\"sk-serial\"><div class=\"sk-item\"><div class=\"sk-estimator sk-toggleable\"><input class=\"sk-toggleable__control sk-hidden--visually\" id=\"sk-estimator-id-5\" type=\"checkbox\" ><label for=\"sk-estimator-id-5\" class=\"sk-toggleable__label sk-toggleable__label-arrow\">OneHotEncoder</label><div class=\"sk-toggleable__content\"><pre>OneHotEncoder(cols=[&#x27;neighborhood&#x27;], use_cat_names=True)</pre></div></div></div><div class=\"sk-item\"><div class=\"sk-estimator sk-toggleable\"><input class=\"sk-toggleable__control sk-hidden--visually\" id=\"sk-estimator-id-6\" type=\"checkbox\" ><label for=\"sk-estimator-id-6\" class=\"sk-toggleable__label sk-toggleable__label-arrow\">Ridge</label><div class=\"sk-toggleable__content\"><pre>Ridge()</pre></div></div></div></div></div></div></div>"
      ],
      "text/plain": [
       "Pipeline(steps=[('onehotencoder',\n",
       "                 OneHotEncoder(cols=['neighborhood'], use_cat_names=True)),\n",
       "                ('ridge', Ridge())])"
      ]
     },
     "execution_count": 54,
     "metadata": {},
     "output_type": "execute_result"
    }
   ],
   "source": [
    "model = make_pipeline(\n",
    "    OneHotEncoder(use_cat_names=True),\n",
    "    Ridge()\n",
    ")\n",
    "\n",
    "model.fit(X_train, y_train)"
   ]
  },
  {
   "cell_type": "code",
   "execution_count": 55,
   "id": "bf677075-7729-4e8e-b04e-ab3834778aa7",
   "metadata": {},
   "outputs": [
    {
     "name": "stdout",
     "output_type": "stream",
     "text": [
      "Training MAE: 39350.22\n"
     ]
    }
   ],
   "source": [
    "y_pred_training = model.predict(X_train)\n",
    "mae_training = mean_absolute_error(y_train, y_pred_training)\n",
    "print(\"Training MAE:\", round(mae_training, 2))"
   ]
  },
  {
   "cell_type": "code",
   "execution_count": 56,
   "id": "403a1a4f-6ee5-4417-928a-b3d21704ae0d",
   "metadata": {},
   "outputs": [
    {
     "data": {
      "text/plain": [
       "0    246624.694624\n",
       "1    161355.968734\n",
       "2     98232.051308\n",
       "3    110846.030377\n",
       "4    127777.538197\n",
       "dtype: float64"
      ]
     },
     "execution_count": 56,
     "metadata": {},
     "output_type": "execute_result"
    }
   ],
   "source": [
    "# Import test data \"buenos-aires-test-features.csv\" into a DataFrame\n",
    "X_test = pd.read_csv(\"data/buenos-aires-test-features.csv\")[features]\n",
    "\n",
    "# Generate a Series of predictions using my model\n",
    "y_pred_test = pd.Series(model.predict(X_test))\n",
    "y_pred_test.head()"
   ]
  },
  {
   "cell_type": "markdown",
   "id": "949c9819-38fa-47e1-8e84-c1a5e70d08b6",
   "metadata": {},
   "source": [
    "# Communicate Results"
   ]
  },
  {
   "cell_type": "markdown",
   "id": "ff6bd98d-9e18-4fb0-83d7-3755034f53e8",
   "metadata": {},
   "source": [
    "If I write out the equation for my model, it'll be too big to fit on the screen. That's because, when I used the `OneHotEncoder` to encode the neighborhood data, I created a much wider DataFrame, and each column/feature has it's own coefficient in my model's equation."
   ]
  },
  {
   "attachments": {
    "Screen%20Shot%202022-07-06%20at%204.51.11%20PM.png": {
     "image/png": "[encoded data removed]"
    }
   },
   "cell_type": "markdown",
   "id": "90b13586-cbff-4fba-8d7e-7463c3d7cd94",
   "metadata": {},
   "source": [
    "![Screen%20Shot%202022-07-06%20at%204.51.11%20PM.png](attachment:Screen%20Shot%202022-07-06%20at%204.51.11%20PM.png)"
   ]
  },
  {
   "cell_type": "markdown",
   "id": "6db34946-2d92-47d5-bb18-2b54da118d2d",
   "metadata": {},
   "source": [
    "This is important to keep in mind for two reasons. First, it means that this is a **high-dimensional** model. Instead of a 2D or 3D plot, I'd need a 58-dimensional plot to represent it, which is impossible. Second, it means that I'll need to extract and represent the information for my equation a little differently than before. I'll start by getting my intercept and coefficient."
   ]
  },
  {
   "cell_type": "markdown",
   "id": "048680f2-63b4-4da2-8e91-c7e2b36dbe03",
   "metadata": {},
   "source": [
    "**Extract Coefficients**"
   ]
  },
  {
   "cell_type": "code",
   "execution_count": 57,
   "id": "4148f3d3-2574-4e54-a505-dd67922b78a7",
   "metadata": {},
   "outputs": [
    {
     "data": {
      "text/html": [
       "<style>#sk-container-id-3 {color: black;background-color: white;}#sk-container-id-3 pre{padding: 0;}#sk-container-id-3 div.sk-toggleable {background-color: white;}#sk-container-id-3 label.sk-toggleable__label {cursor: pointer;display: block;width: 100%;margin-bottom: 0;padding: 0.3em;box-sizing: border-box;text-align: center;}#sk-container-id-3 label.sk-toggleable__label-arrow:before {content: \"▸\";float: left;margin-right: 0.25em;color: #696969;}#sk-container-id-3 label.sk-toggleable__label-arrow:hover:before {color: black;}#sk-container-id-3 div.sk-estimator:hover label.sk-toggleable__label-arrow:before {color: black;}#sk-container-id-3 div.sk-toggleable__content {max-height: 0;max-width: 0;overflow: hidden;text-align: left;background-color: #f0f8ff;}#sk-container-id-3 div.sk-toggleable__content pre {margin: 0.2em;color: black;border-radius: 0.25em;background-color: #f0f8ff;}#sk-container-id-3 input.sk-toggleable__control:checked~div.sk-toggleable__content {max-height: 200px;max-width: 100%;overflow: auto;}#sk-container-id-3 input.sk-toggleable__control:checked~label.sk-toggleable__label-arrow:before {content: \"▾\";}#sk-container-id-3 div.sk-estimator input.sk-toggleable__control:checked~label.sk-toggleable__label {background-color: #d4ebff;}#sk-container-id-3 div.sk-label input.sk-toggleable__control:checked~label.sk-toggleable__label {background-color: #d4ebff;}#sk-container-id-3 input.sk-hidden--visually {border: 0;clip: rect(1px 1px 1px 1px);clip: rect(1px, 1px, 1px, 1px);height: 1px;margin: -1px;overflow: hidden;padding: 0;position: absolute;width: 1px;}#sk-container-id-3 div.sk-estimator {font-family: monospace;background-color: #f0f8ff;border: 1px dotted black;border-radius: 0.25em;box-sizing: border-box;margin-bottom: 0.5em;}#sk-container-id-3 div.sk-estimator:hover {background-color: #d4ebff;}#sk-container-id-3 div.sk-parallel-item::after {content: \"\";width: 100%;border-bottom: 1px solid gray;flex-grow: 1;}#sk-container-id-3 div.sk-label:hover label.sk-toggleable__label {background-color: #d4ebff;}#sk-container-id-3 div.sk-serial::before {content: \"\";position: absolute;border-left: 1px solid gray;box-sizing: border-box;top: 0;bottom: 0;left: 50%;z-index: 0;}#sk-container-id-3 div.sk-serial {display: flex;flex-direction: column;align-items: center;background-color: white;padding-right: 0.2em;padding-left: 0.2em;position: relative;}#sk-container-id-3 div.sk-item {position: relative;z-index: 1;}#sk-container-id-3 div.sk-parallel {display: flex;align-items: stretch;justify-content: center;background-color: white;position: relative;}#sk-container-id-3 div.sk-item::before, #sk-container-id-3 div.sk-parallel-item::before {content: \"\";position: absolute;border-left: 1px solid gray;box-sizing: border-box;top: 0;bottom: 0;left: 50%;z-index: -1;}#sk-container-id-3 div.sk-parallel-item {display: flex;flex-direction: column;z-index: 1;position: relative;background-color: white;}#sk-container-id-3 div.sk-parallel-item:first-child::after {align-self: flex-end;width: 50%;}#sk-container-id-3 div.sk-parallel-item:last-child::after {align-self: flex-start;width: 50%;}#sk-container-id-3 div.sk-parallel-item:only-child::after {width: 0;}#sk-container-id-3 div.sk-dashed-wrapped {border: 1px dashed gray;margin: 0 0.4em 0.5em 0.4em;box-sizing: border-box;padding-bottom: 0.4em;background-color: white;}#sk-container-id-3 div.sk-label label {font-family: monospace;font-weight: bold;display: inline-block;line-height: 1.2em;}#sk-container-id-3 div.sk-label-container {text-align: center;}#sk-container-id-3 div.sk-container {/* jupyter's `normalize.less` sets `[hidden] { display: none; }` but bootstrap.min.css set `[hidden] { display: none !important; }` so we also need the `!important` here to be able to override the default hidden behavior on the sphinx rendered scikit-learn.org. See: https://github.com/scikit-learn/scikit-learn/issues/21755 */display: inline-block !important;position: relative;}#sk-container-id-3 div.sk-text-repr-fallback {display: none;}</style><div id=\"sk-container-id-3\" class=\"sk-top-container\"><div class=\"sk-text-repr-fallback\"><pre>Pipeline(steps=[(&#x27;onehotencoder&#x27;,\n",
       "                 OneHotEncoder(cols=[&#x27;neighborhood&#x27;], use_cat_names=True)),\n",
       "                (&#x27;linearregression&#x27;, LinearRegression())])</pre><b>In a Jupyter environment, please rerun this cell to show the HTML representation or trust the notebook. <br />On GitHub, the HTML representation is unable to render, please try loading this page with nbviewer.org.</b></div><div class=\"sk-container\" hidden><div class=\"sk-item sk-dashed-wrapped\"><div class=\"sk-label-container\"><div class=\"sk-label sk-toggleable\"><input class=\"sk-toggleable__control sk-hidden--visually\" id=\"sk-estimator-id-7\" type=\"checkbox\" ><label for=\"sk-estimator-id-7\" class=\"sk-toggleable__label sk-toggleable__label-arrow\">Pipeline</label><div class=\"sk-toggleable__content\"><pre>Pipeline(steps=[(&#x27;onehotencoder&#x27;,\n",
       "                 OneHotEncoder(cols=[&#x27;neighborhood&#x27;], use_cat_names=True)),\n",
       "                (&#x27;linearregression&#x27;, LinearRegression())])</pre></div></div></div><div class=\"sk-serial\"><div class=\"sk-item\"><div class=\"sk-estimator sk-toggleable\"><input class=\"sk-toggleable__control sk-hidden--visually\" id=\"sk-estimator-id-8\" type=\"checkbox\" ><label for=\"sk-estimator-id-8\" class=\"sk-toggleable__label sk-toggleable__label-arrow\">OneHotEncoder</label><div class=\"sk-toggleable__content\"><pre>OneHotEncoder(cols=[&#x27;neighborhood&#x27;], use_cat_names=True)</pre></div></div></div><div class=\"sk-item\"><div class=\"sk-estimator sk-toggleable\"><input class=\"sk-toggleable__control sk-hidden--visually\" id=\"sk-estimator-id-9\" type=\"checkbox\" ><label for=\"sk-estimator-id-9\" class=\"sk-toggleable__label sk-toggleable__label-arrow\">LinearRegression</label><div class=\"sk-toggleable__content\"><pre>LinearRegression()</pre></div></div></div></div></div></div></div>"
      ],
      "text/plain": [
       "Pipeline(steps=[('onehotencoder',\n",
       "                 OneHotEncoder(cols=['neighborhood'], use_cat_names=True)),\n",
       "                ('linearregression', LinearRegression())])"
      ]
     },
     "execution_count": 57,
     "metadata": {},
     "output_type": "execute_result"
    }
   ],
   "source": [
    "# Extract coefficients for my model\n",
    "model = make_pipeline(\n",
    "    OneHotEncoder(use_cat_names=True),\n",
    "    LinearRegression()\n",
    ")\n",
    "\n",
    "model.fit(X_train, y_train)"
   ]
  },
  {
   "cell_type": "code",
   "execution_count": 58,
   "id": "2590a53e-30cf-4011-9f25-85671bc6ea33",
   "metadata": {},
   "outputs": [
    {
     "name": "stdout",
     "output_type": "stream",
     "text": [
      "coefficients len: 57\n",
      "[2.73010108e+16 2.73010108e+16 2.73010108e+16 2.73010108e+16\n",
      " 2.73010108e+16]\n"
     ]
    }
   ],
   "source": [
    "intercept = model.named_steps[\"linearregression\"].intercept_\n",
    "coefficients = model.named_steps[\"linearregression\"].coef_\n",
    "print(\"coefficients len:\", len(coefficients))\n",
    "print(coefficients[:5])  # First five coefficients"
   ]
  },
  {
   "cell_type": "markdown",
   "id": "5797bc15-13c7-419a-a928-a27d91868c1a",
   "metadata": {},
   "source": [
    "I have the values of my coefficients. Now, I will need to find out which features they belong to. I'll need to get that information by going into the part of my pipeline that did the encoding."
   ]
  },
  {
   "cell_type": "markdown",
   "id": "9875143d-e00f-43da-9dd8-74f8c1657faf",
   "metadata": {},
   "source": [
    "**Extract Feature Names**"
   ]
  },
  {
   "cell_type": "code",
   "execution_count": 59,
   "id": "7a977f7f-c7db-4f44-aa1f-6c955bdc87c4",
   "metadata": {},
   "outputs": [
    {
     "name": "stdout",
     "output_type": "stream",
     "text": [
      "features len: 57\n",
      "['neighborhood_Villa General Mitre', 'neighborhood_Palermo', 'neighborhood_Saavedra', 'neighborhood_Villa del Parque', 'neighborhood_Belgrano']\n"
     ]
    }
   ],
   "source": [
    "# Extract the feature names of my encoded data from the OneHotEncoder in my model\n",
    "feature_names = model.named_steps[\"onehotencoder\"].get_feature_names()\n",
    "print(\"features len:\", len(feature_names))\n",
    "print(feature_names[:5])  # First five feature names"
   ]
  },
  {
   "cell_type": "markdown",
   "id": "51aab4d2-9d6e-4e15-b10a-da3a7f44c2f4",
   "metadata": {},
   "source": [
    "I have coefficients and feature names, and now I need to put them together. For that, I'll use a Series."
   ]
  },
  {
   "cell_type": "markdown",
   "id": "810a3865-c9c2-4a16-8352-c6484be350cc",
   "metadata": {},
   "source": [
    "**Create Feature Importance Series**"
   ]
  },
  {
   "cell_type": "code",
   "execution_count": 60,
   "id": "8a139741-dfa3-423f-895d-4b16f194b1af",
   "metadata": {},
   "outputs": [
    {
     "data": {
      "text/plain": [
       "neighborhood_Villa General Mitre    2.730101e+16\n",
       "neighborhood_Palermo                2.730101e+16\n",
       "neighborhood_Saavedra               2.730101e+16\n",
       "neighborhood_Villa del Parque       2.730101e+16\n",
       "neighborhood_Belgrano               2.730101e+16\n",
       "dtype: float64"
      ]
     },
     "execution_count": 60,
     "metadata": {},
     "output_type": "execute_result"
    }
   ],
   "source": [
    "# Create a pandas Series named feat_imp where the index is my features and the values are my coefficients\n",
    "feat_imp = pd.Series(coefficients, index=feature_names)\n",
    "feat_imp.head()"
   ]
  },
  {
   "cell_type": "markdown",
   "id": "5c55a875-2bf0-4fa3-9b8c-b1ed08c38e9c",
   "metadata": {},
   "source": [
    "**Print Equation**"
   ]
  },
  {
   "cell_type": "code",
   "execution_count": 61,
   "id": "90e58f9f-99a8-4789-ae29-830ce79c6583",
   "metadata": {},
   "outputs": [
    {
     "name": "stdout",
     "output_type": "stream",
     "text": [
      "price = -2.730101076170245e+16\n",
      "+ (2.7301010761829004e+16 * neighborhood_Villa General Mitre)\n",
      "+ (2.7301010761867264e+16 * neighborhood_Palermo)\n",
      "+ (2.7301010761835744e+16 * neighborhood_Saavedra)\n",
      "+ (2.7301010761808184e+16 * neighborhood_Villa del Parque)\n",
      "+ (2.7301010761868016e+16 * neighborhood_Belgrano)\n",
      "+ (2.730101076183328e+16 * neighborhood_Coghlan)\n",
      "+ (2.7301010761817804e+16 * neighborhood_Chacarita)\n",
      "+ (2.7301010761814068e+16 * neighborhood_Boedo)\n",
      "+ (2.730101076183022e+16 * neighborhood_Caballito)\n",
      "+ (2.7301010761800324e+16 * neighborhood_Monserrat)\n",
      "+ (2.7301010761812824e+16 * neighborhood_Centro / Microcentro)\n",
      "+ (2.7301010761863868e+16 * neighborhood_Nuñez)\n",
      "+ (2.7301010761809816e+16 * neighborhood_Balvanera)\n",
      "+ (2.7301010761826668e+16 * neighborhood_San Telmo)\n",
      "+ (2.730101076182386e+16 * neighborhood_Almagro)\n",
      "+ (2.7301010761876784e+16 * neighborhood_Barrio Norte)\n",
      "+ (2.7301010761817296e+16 * neighborhood_Monte Castro)\n",
      "+ (2.73010107618942e+16 * neighborhood_Recoleta)\n",
      "+ (2.7301010761799344e+16 * neighborhood_Mataderos)\n",
      "+ (2.7301010761833696e+16 * neighborhood_Villa Urquiza)\n",
      "+ (2.7301010761804844e+16 * neighborhood_Parque Patricios)\n",
      "+ (2.7301010761812304e+16 * neighborhood_Flores)\n",
      "+ (2.730101076179223e+16 * neighborhood_Boca)\n",
      "+ (2.730101076180674e+16 * neighborhood_Floresta)\n",
      "+ (2.730101076181007e+16 * neighborhood_San Cristobal)\n",
      "+ (2.7301010761827252e+16 * neighborhood_Villa Crespo)\n",
      "+ (2.7301010761824684e+16 * neighborhood_Villa Devoto)\n",
      "+ (2.7301010761808724e+16 * neighborhood_Villa Ortuzar)\n",
      "+ (2.730101076182092e+16 * neighborhood_Villa Luro)\n",
      "+ (2.730101076180119e+16 * neighborhood_)\n",
      "+ (2.730101076181775e+16 * neighborhood_Once)\n",
      "+ (2.73010107618201e+16 * neighborhood_Agronomía)\n",
      "+ (2.730101076184857e+16 * neighborhood_Retiro)\n",
      "+ (2.7301010761812904e+16 * neighborhood_Congreso)\n",
      "+ (2.7301010761809956e+16 * neighborhood_San Nicolás)\n",
      "+ (2.7301010761816084e+16 * neighborhood_Barracas)\n",
      "+ (2.730101076181272e+16 * neighborhood_Villa Pueyrredón)\n",
      "+ (2.730101076185966e+16 * neighborhood_Colegiales)\n",
      "+ (2.7301010761806828e+16 * neighborhood_Liniers)\n",
      "+ (2.7301010761951852e+16 * neighborhood_Puerto Madero)\n",
      "+ (2.7301010761812964e+16 * neighborhood_Parque Chacabuco)\n",
      "+ (2.7301010761812636e+16 * neighborhood_Tribunales)\n",
      "+ (2.7301010761813676e+16 * neighborhood_Paternal)\n",
      "+ (2.7301010761814468e+16 * neighborhood_Parque Centenario)\n",
      "+ (2.7301010761778236e+16 * neighborhood_Constitución)\n",
      "+ (2.7301010761800224e+16 * neighborhood_Villa Santa Rita)\n",
      "+ (2.7301010761825412e+16 * neighborhood_Abasto)\n",
      "+ (2.730101076181496e+16 * neighborhood_Versalles)\n",
      "+ (2.730101076177072e+16 * neighborhood_Villa Lugano)\n",
      "+ (2.730101076178937e+16 * neighborhood_Parque Avellaneda)\n",
      "+ (2.7301010761895564e+16 * neighborhood_Las Cañitas)\n",
      "+ (2.730101076174681e+16 * neighborhood_Villa Soldati)\n",
      "+ (2.7301010761786132e+16 * neighborhood_Parque Chas)\n",
      "+ (2.7301010761786852e+16 * neighborhood_Velez Sarsfield)\n",
      "+ (2.730101076176819e+16 * neighborhood_Pompeya)\n",
      "+ (2.7301010761811052e+16 * neighborhood_Villa Real)\n",
      "+ (2.730101076177681e+16 * neighborhood_Catalinas)\n"
     ]
    }
   ],
   "source": [
    "# Print the equation that my model has determined for predicting apartment price based on longitude and latitude\n",
    "print(f\"price = {intercept.round(2)}\")\n",
    "for f, c in feat_imp.items():\n",
    "    print(f\"+ ({round(c, 2)} * {f})\")"
   ]
  },
  {
   "cell_type": "markdown",
   "id": "41adce13-dd52-43dc-877f-73d0e9ab6f5b",
   "metadata": {},
   "source": [
    "**Curse of Dimensionality & Ridge**"
   ]
  },
  {
   "cell_type": "code",
   "execution_count": 62,
   "id": "6bded9c9-6531-43fa-a949-71676926ee7e",
   "metadata": {},
   "outputs": [
    {
     "data": {
      "text/html": [
       "<style>#sk-container-id-4 {color: black;background-color: white;}#sk-container-id-4 pre{padding: 0;}#sk-container-id-4 div.sk-toggleable {background-color: white;}#sk-container-id-4 label.sk-toggleable__label {cursor: pointer;display: block;width: 100%;margin-bottom: 0;padding: 0.3em;box-sizing: border-box;text-align: center;}#sk-container-id-4 label.sk-toggleable__label-arrow:before {content: \"▸\";float: left;margin-right: 0.25em;color: #696969;}#sk-container-id-4 label.sk-toggleable__label-arrow:hover:before {color: black;}#sk-container-id-4 div.sk-estimator:hover label.sk-toggleable__label-arrow:before {color: black;}#sk-container-id-4 div.sk-toggleable__content {max-height: 0;max-width: 0;overflow: hidden;text-align: left;background-color: #f0f8ff;}#sk-container-id-4 div.sk-toggleable__content pre {margin: 0.2em;color: black;border-radius: 0.25em;background-color: #f0f8ff;}#sk-container-id-4 input.sk-toggleable__control:checked~div.sk-toggleable__content {max-height: 200px;max-width: 100%;overflow: auto;}#sk-container-id-4 input.sk-toggleable__control:checked~label.sk-toggleable__label-arrow:before {content: \"▾\";}#sk-container-id-4 div.sk-estimator input.sk-toggleable__control:checked~label.sk-toggleable__label {background-color: #d4ebff;}#sk-container-id-4 div.sk-label input.sk-toggleable__control:checked~label.sk-toggleable__label {background-color: #d4ebff;}#sk-container-id-4 input.sk-hidden--visually {border: 0;clip: rect(1px 1px 1px 1px);clip: rect(1px, 1px, 1px, 1px);height: 1px;margin: -1px;overflow: hidden;padding: 0;position: absolute;width: 1px;}#sk-container-id-4 div.sk-estimator {font-family: monospace;background-color: #f0f8ff;border: 1px dotted black;border-radius: 0.25em;box-sizing: border-box;margin-bottom: 0.5em;}#sk-container-id-4 div.sk-estimator:hover {background-color: #d4ebff;}#sk-container-id-4 div.sk-parallel-item::after {content: \"\";width: 100%;border-bottom: 1px solid gray;flex-grow: 1;}#sk-container-id-4 div.sk-label:hover label.sk-toggleable__label {background-color: #d4ebff;}#sk-container-id-4 div.sk-serial::before {content: \"\";position: absolute;border-left: 1px solid gray;box-sizing: border-box;top: 0;bottom: 0;left: 50%;z-index: 0;}#sk-container-id-4 div.sk-serial {display: flex;flex-direction: column;align-items: center;background-color: white;padding-right: 0.2em;padding-left: 0.2em;position: relative;}#sk-container-id-4 div.sk-item {position: relative;z-index: 1;}#sk-container-id-4 div.sk-parallel {display: flex;align-items: stretch;justify-content: center;background-color: white;position: relative;}#sk-container-id-4 div.sk-item::before, #sk-container-id-4 div.sk-parallel-item::before {content: \"\";position: absolute;border-left: 1px solid gray;box-sizing: border-box;top: 0;bottom: 0;left: 50%;z-index: -1;}#sk-container-id-4 div.sk-parallel-item {display: flex;flex-direction: column;z-index: 1;position: relative;background-color: white;}#sk-container-id-4 div.sk-parallel-item:first-child::after {align-self: flex-end;width: 50%;}#sk-container-id-4 div.sk-parallel-item:last-child::after {align-self: flex-start;width: 50%;}#sk-container-id-4 div.sk-parallel-item:only-child::after {width: 0;}#sk-container-id-4 div.sk-dashed-wrapped {border: 1px dashed gray;margin: 0 0.4em 0.5em 0.4em;box-sizing: border-box;padding-bottom: 0.4em;background-color: white;}#sk-container-id-4 div.sk-label label {font-family: monospace;font-weight: bold;display: inline-block;line-height: 1.2em;}#sk-container-id-4 div.sk-label-container {text-align: center;}#sk-container-id-4 div.sk-container {/* jupyter's `normalize.less` sets `[hidden] { display: none; }` but bootstrap.min.css set `[hidden] { display: none !important; }` so we also need the `!important` here to be able to override the default hidden behavior on the sphinx rendered scikit-learn.org. See: https://github.com/scikit-learn/scikit-learn/issues/21755 */display: inline-block !important;position: relative;}#sk-container-id-4 div.sk-text-repr-fallback {display: none;}</style><div id=\"sk-container-id-4\" class=\"sk-top-container\"><div class=\"sk-text-repr-fallback\"><pre>Pipeline(steps=[(&#x27;onehotencoder&#x27;,\n",
       "                 OneHotEncoder(cols=[&#x27;neighborhood&#x27;], use_cat_names=True)),\n",
       "                (&#x27;ridge&#x27;, Ridge())])</pre><b>In a Jupyter environment, please rerun this cell to show the HTML representation or trust the notebook. <br />On GitHub, the HTML representation is unable to render, please try loading this page with nbviewer.org.</b></div><div class=\"sk-container\" hidden><div class=\"sk-item sk-dashed-wrapped\"><div class=\"sk-label-container\"><div class=\"sk-label sk-toggleable\"><input class=\"sk-toggleable__control sk-hidden--visually\" id=\"sk-estimator-id-10\" type=\"checkbox\" ><label for=\"sk-estimator-id-10\" class=\"sk-toggleable__label sk-toggleable__label-arrow\">Pipeline</label><div class=\"sk-toggleable__content\"><pre>Pipeline(steps=[(&#x27;onehotencoder&#x27;,\n",
       "                 OneHotEncoder(cols=[&#x27;neighborhood&#x27;], use_cat_names=True)),\n",
       "                (&#x27;ridge&#x27;, Ridge())])</pre></div></div></div><div class=\"sk-serial\"><div class=\"sk-item\"><div class=\"sk-estimator sk-toggleable\"><input class=\"sk-toggleable__control sk-hidden--visually\" id=\"sk-estimator-id-11\" type=\"checkbox\" ><label for=\"sk-estimator-id-11\" class=\"sk-toggleable__label sk-toggleable__label-arrow\">OneHotEncoder</label><div class=\"sk-toggleable__content\"><pre>OneHotEncoder(cols=[&#x27;neighborhood&#x27;], use_cat_names=True)</pre></div></div></div><div class=\"sk-item\"><div class=\"sk-estimator sk-toggleable\"><input class=\"sk-toggleable__control sk-hidden--visually\" id=\"sk-estimator-id-12\" type=\"checkbox\" ><label for=\"sk-estimator-id-12\" class=\"sk-toggleable__label sk-toggleable__label-arrow\">Ridge</label><div class=\"sk-toggleable__content\"><pre>Ridge()</pre></div></div></div></div></div></div></div>"
      ],
      "text/plain": [
       "Pipeline(steps=[('onehotencoder',\n",
       "                 OneHotEncoder(cols=['neighborhood'], use_cat_names=True)),\n",
       "                ('ridge', Ridge())])"
      ]
     },
     "execution_count": 62,
     "metadata": {},
     "output_type": "execute_result"
    }
   ],
   "source": [
    "# Change the predictor in my model to Ridge and retrain it\n",
    "model = make_pipeline(\n",
    "    OneHotEncoder(use_cat_names=True),\n",
    "    Ridge()\n",
    ")\n",
    "model.fit(X_train, y_train)"
   ]
  },
  {
   "cell_type": "code",
   "execution_count": 63,
   "id": "afd738fb-f7fa-41cf-800a-323a7d559377",
   "metadata": {},
   "outputs": [
    {
     "name": "stdout",
     "output_type": "stream",
     "text": [
      "Training MAE: 39350.22\n"
     ]
    }
   ],
   "source": [
    "y_pred_training = model.predict(X_train)\n",
    "mae_training = mean_absolute_error(y_train, y_pred_training)\n",
    "print(\"Training MAE:\", round(mae_training, 2))"
   ]
  },
  {
   "cell_type": "code",
   "execution_count": 64,
   "id": "aa11a4cf-8cdc-453a-b987-0c9cf275752f",
   "metadata": {},
   "outputs": [
    {
     "data": {
      "text/plain": [
       "0    246624.694624\n",
       "1    161355.968734\n",
       "2     98232.051308\n",
       "3    110846.030377\n",
       "4    127777.538197\n",
       "dtype: float64"
      ]
     },
     "execution_count": 64,
     "metadata": {},
     "output_type": "execute_result"
    }
   ],
   "source": [
    "X_test = pd.read_csv(\"data/buenos-aires-test-features.csv\")[features]\n",
    "y_pred_test = pd.Series(model.predict(X_test))\n",
    "y_pred_test.head()"
   ]
  },
  {
   "cell_type": "code",
   "execution_count": 65,
   "id": "795152b3-3d70-41a7-a67d-81bfe505b5b0",
   "metadata": {},
   "outputs": [
    {
     "name": "stdout",
     "output_type": "stream",
     "text": [
      "coefficients len: 57\n",
      "[  7714.62159938  45934.41058509  14701.16243685 -12595.50084744\n",
      "  46954.20800904]\n"
     ]
    }
   ],
   "source": [
    "intercept = model.named_steps[\"ridge\"].intercept_\n",
    "coefficients = model.named_steps[\"ridge\"].coef_\n",
    "print(\"coefficients len:\", len(coefficients))\n",
    "print(coefficients[:5])  # First five coefficients"
   ]
  },
  {
   "cell_type": "code",
   "execution_count": 66,
   "id": "18e702d4-cafe-4898-9d44-58a264b2f2ae",
   "metadata": {},
   "outputs": [
    {
     "name": "stdout",
     "output_type": "stream",
     "text": [
      "features len: 57\n",
      "['neighborhood_Villa General Mitre', 'neighborhood_Palermo', 'neighborhood_Saavedra', 'neighborhood_Villa del Parque', 'neighborhood_Belgrano']\n"
     ]
    }
   ],
   "source": [
    "feature_names = model.named_steps[\"onehotencoder\"].get_feature_names()\n",
    "print(\"features len:\", len(feature_names))\n",
    "print(feature_names[:5])  # First five feature names"
   ]
  },
  {
   "cell_type": "code",
   "execution_count": 67,
   "id": "a192531f-9960-4fa1-b062-5a41cce27adc",
   "metadata": {},
   "outputs": [
    {
     "data": {
      "text/plain": [
       "neighborhood_Villa General Mitre     7714.621599\n",
       "neighborhood_Palermo                45934.410585\n",
       "neighborhood_Saavedra               14701.162437\n",
       "neighborhood_Villa del Parque      -12595.500847\n",
       "neighborhood_Belgrano               46954.208009\n",
       "dtype: float64"
      ]
     },
     "execution_count": 67,
     "metadata": {},
     "output_type": "execute_result"
    }
   ],
   "source": [
    "feat_imp = pd.Series(coefficients, index=feature_names)\n",
    "feat_imp.head()"
   ]
  },
  {
   "cell_type": "markdown",
   "id": "4d2e821b-993e-407d-b40b-88f29b585832",
   "metadata": {},
   "source": [
    "**Feature Importance Bar Chart**"
   ]
  },
  {
   "cell_type": "code",
   "execution_count": 68,
   "id": "b9f4baf7-7742-43f2-8a1b-1ce7e1063002",
   "metadata": {},
   "outputs": [
    {
     "data": {
      "text/plain": [
       "neighborhood_Villa General Mitre     7714.621599\n",
       "neighborhood_Palermo                45934.410585\n",
       "neighborhood_Saavedra               14701.162437\n",
       "neighborhood_Villa del Parque      -12595.500847\n",
       "neighborhood_Belgrano               46954.208009\n",
       "dtype: float64"
      ]
     },
     "execution_count": 68,
     "metadata": {},
     "output_type": "execute_result"
    }
   ],
   "source": [
    "feat_imp.head()"
   ]
  },
  {
   "cell_type": "markdown",
   "id": "f039016a-2826-4ba0-be0b-b601837acf80",
   "metadata": {},
   "source": [
    "I'm back on track with my model, so now I can create a visualization that will help me understand what the most important features for my model in predicting apartment price."
   ]
  },
  {
   "cell_type": "code",
   "execution_count": 69,
   "id": "d497a46e-2ea7-4de8-a299-c362f765b91a",
   "metadata": {},
   "outputs": [
    {
     "data": {
      "text/plain": [
       "neighborhood_Villa Soldati           -59248.813857\n",
       "neighborhood_Villa Lugano            -48669.354978\n",
       "neighborhood_Pompeya                 -43909.591101\n",
       "neighborhood_Constitución            -41748.733031\n",
       "neighborhood_Parque Chas             -32439.870833\n",
       "neighborhood_Parque Avellaneda       -29585.606863\n",
       "neighborhood_Boca                    -28353.364910\n",
       "neighborhood_Velez Sarsfield         -27219.717857\n",
       "neighborhood_Catalinas               -22012.323660\n",
       "neighborhood_Mataderos               -21078.779668\n",
       "neighborhood_Monserrat               -20292.596013\n",
       "neighborhood_Villa Santa Rita        -19843.919642\n",
       "neighborhood_                        -19370.743498\n",
       "neighborhood_Parque Patricios        -15807.014824\n",
       "neighborhood_Floresta                -14088.018047\n",
       "neighborhood_Liniers                 -13729.104399\n",
       "neighborhood_Villa del Parque        -12595.500847\n",
       "neighborhood_Villa Ortuzar           -11208.901798\n",
       "neighborhood_Balvanera               -11172.552799\n",
       "neighborhood_San Nicolás             -10734.348396\n",
       "neighborhood_San Cristobal           -10678.633615\n",
       "neighborhood_Flores                   -8662.283049\n",
       "neighborhood_Villa Pueyrredón         -8093.450148\n",
       "neighborhood_Congreso                 -7974.663425\n",
       "neighborhood_Centro / Microcentro     -7905.294912\n",
       "neighborhood_Tribunales               -7818.086935\n",
       "neighborhood_Parque Chacabuco         -7678.616944\n",
       "neighborhood_Villa Real               -7393.485490\n",
       "neighborhood_Paternal                 -7108.232790\n",
       "neighborhood_Boedo                    -6837.403741\n",
       "neighborhood_Parque Centenario        -6323.679527\n",
       "neighborhood_Versalles                -4937.206101\n",
       "neighborhood_Barracas                 -4618.655661\n",
       "neighborhood_Monte Castro             -3427.438161\n",
       "neighborhood_Once                     -3230.374461\n",
       "neighborhood_Chacarita                -2898.959335\n",
       "neighborhood_Agronomía                 -772.703682\n",
       "neighborhood_Villa Luro                  -6.295553\n",
       "neighborhood_Almagro                   2903.335566\n",
       "neighborhood_Villa Devoto              3860.580177\n",
       "neighborhood_Abasto                    4330.546318\n",
       "neighborhood_San Telmo                 5638.469331\n",
       "neighborhood_Villa Crespo              6277.048500\n",
       "neighborhood_Villa General Mitre       7714.621599\n",
       "neighborhood_Caballito                 9252.890876\n",
       "neighborhood_Coghlan                  12223.107722\n",
       "neighborhood_Villa Urquiza            12671.714625\n",
       "neighborhood_Saavedra                 14701.162437\n",
       "neighborhood_Retiro                   27042.606187\n",
       "neighborhood_Colegiales               38436.327903\n",
       "neighborhood_Nuñez                    42831.321413\n",
       "neighborhood_Palermo                  45934.410585\n",
       "neighborhood_Belgrano                 46954.208009\n",
       "neighborhood_Barrio Norte             55590.928973\n",
       "neighborhood_Las Cañitas              72270.212270\n",
       "neighborhood_Recoleta                 72740.780756\n",
       "neighborhood_Puerto Madero           128100.047303\n",
       "dtype: float64"
      ]
     },
     "execution_count": 69,
     "metadata": {},
     "output_type": "execute_result"
    }
   ],
   "source": [
    "feat_imp.sort_values()"
   ]
  },
  {
   "cell_type": "code",
   "execution_count": 70,
   "id": "9334212e-f90b-4347-8234-60dc0a7d8e74",
   "metadata": {},
   "outputs": [
    {
     "data": {
      "text/plain": [
       "neighborhood_Villa Luro                  -6.295553\n",
       "neighborhood_Agronomía                 -772.703682\n",
       "neighborhood_Chacarita                -2898.959335\n",
       "neighborhood_Almagro                   2903.335566\n",
       "neighborhood_Once                     -3230.374461\n",
       "neighborhood_Monte Castro             -3427.438161\n",
       "neighborhood_Villa Devoto              3860.580177\n",
       "neighborhood_Abasto                    4330.546318\n",
       "neighborhood_Barracas                 -4618.655661\n",
       "neighborhood_Versalles                -4937.206101\n",
       "neighborhood_San Telmo                 5638.469331\n",
       "neighborhood_Villa Crespo              6277.048500\n",
       "neighborhood_Parque Centenario        -6323.679527\n",
       "neighborhood_Boedo                    -6837.403741\n",
       "neighborhood_Paternal                 -7108.232790\n",
       "neighborhood_Villa Real               -7393.485490\n",
       "neighborhood_Parque Chacabuco         -7678.616944\n",
       "neighborhood_Villa General Mitre       7714.621599\n",
       "neighborhood_Tribunales               -7818.086935\n",
       "neighborhood_Centro / Microcentro     -7905.294912\n",
       "neighborhood_Congreso                 -7974.663425\n",
       "neighborhood_Villa Pueyrredón         -8093.450148\n",
       "neighborhood_Flores                   -8662.283049\n",
       "neighborhood_Caballito                 9252.890876\n",
       "neighborhood_San Cristobal           -10678.633615\n",
       "neighborhood_San Nicolás             -10734.348396\n",
       "neighborhood_Balvanera               -11172.552799\n",
       "neighborhood_Villa Ortuzar           -11208.901798\n",
       "neighborhood_Coghlan                  12223.107722\n",
       "neighborhood_Villa del Parque        -12595.500847\n",
       "neighborhood_Villa Urquiza            12671.714625\n",
       "neighborhood_Liniers                 -13729.104399\n",
       "neighborhood_Floresta                -14088.018047\n",
       "neighborhood_Saavedra                 14701.162437\n",
       "neighborhood_Parque Patricios        -15807.014824\n",
       "neighborhood_                        -19370.743498\n",
       "neighborhood_Villa Santa Rita        -19843.919642\n",
       "neighborhood_Monserrat               -20292.596013\n",
       "neighborhood_Mataderos               -21078.779668\n",
       "neighborhood_Catalinas               -22012.323660\n",
       "neighborhood_Retiro                   27042.606187\n",
       "neighborhood_Velez Sarsfield         -27219.717857\n",
       "neighborhood_Boca                    -28353.364910\n",
       "neighborhood_Parque Avellaneda       -29585.606863\n",
       "neighborhood_Parque Chas             -32439.870833\n",
       "neighborhood_Colegiales               38436.327903\n",
       "neighborhood_Constitución            -41748.733031\n",
       "neighborhood_Nuñez                    42831.321413\n",
       "neighborhood_Pompeya                 -43909.591101\n",
       "neighborhood_Palermo                  45934.410585\n",
       "neighborhood_Belgrano                 46954.208009\n",
       "neighborhood_Villa Lugano            -48669.354978\n",
       "neighborhood_Barrio Norte             55590.928973\n",
       "neighborhood_Villa Soldati           -59248.813857\n",
       "neighborhood_Las Cañitas              72270.212270\n",
       "neighborhood_Recoleta                 72740.780756\n",
       "neighborhood_Puerto Madero           128100.047303\n",
       "dtype: float64"
      ]
     },
     "execution_count": 70,
     "metadata": {},
     "output_type": "execute_result"
    }
   ],
   "source": [
    "feat_imp.sort_values(key=abs)"
   ]
  },
  {
   "cell_type": "code",
   "execution_count": 71,
   "id": "346bb26c-cb3d-498d-8d75-2a3b9bff1216",
   "metadata": {},
   "outputs": [
    {
     "data": {
      "image/png": "[encoded data removed]",
      "text/plain": [
       "<Figure size 432x288 with 1 Axes>"
      ]
     },
     "metadata": {
      "needs_background": "light"
     },
     "output_type": "display_data"
    }
   ],
   "source": [
    "# Create a horizontal bar chart that shows the top 15 coefficients for my model, based on their absolute value\n",
    "feat_imp.sort_values(key=abs).tail(15).plot(kind=\"barh\")\n",
    "plt.xlabel(\"Importance [USD]\")\n",
    "plt.ylabel(\"Feature\")\n",
    "plt.title(\"Feature Importance for Apartment Price\");"
   ]
  },
  {
   "cell_type": "markdown",
   "id": "d893e9f8-832d-4b79-9ebc-7a38a17a74ee",
   "metadata": {},
   "source": [
    "Looking at this bar chart, I can see that the poshest neighborhoods in Buenos Aires like [Puerto Madero](https://en.wikipedia.org/wiki/Puerto_Madero) and [Recoleta](https://en.wikipedia.org/wiki/Recoleta,_Buenos_Aires) increase the predicted price of an apartment, while more working-class neighborhoods like [Villa Soldati](https://en.wikipedia.org/wiki/Villa_Soldati) and [Villa Lugano](https://en.wikipedia.org/wiki/Villa_Lugano) decrease the predicted price. "
   ]
  }
 ],
 "metadata": {
  "kernelspec": {
   "display_name": "Python 3 (ipykernel)",
   "language": "python",
   "name": "python3"
  },
  "language_info": {
   "codemirror_mode": {
    "name": "ipython",
    "version": 3
   },
   "file_extension": ".py",
   "mimetype": "text/x-python",
   "name": "python",
   "nbconvert_exporter": "python",
   "pygments_lexer": "ipython3",
   "version": "3.8.13"
  }
 },
 "nbformat": 4,
 "nbformat_minor": 5
}
