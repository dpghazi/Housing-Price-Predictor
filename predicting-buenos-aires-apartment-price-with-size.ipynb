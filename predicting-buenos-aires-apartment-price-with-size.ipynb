{
 "cells": [
  {
   "cell_type": "markdown",
   "id": "80aaf1d8-3eae-4f2b-bf8a-e6d4a82edaee",
   "metadata": {},
   "source": [
    "<font size=\"+3\"><strong>Housing Price Predictor for Buenos Aires 🇦🇷</strong></font>"
   ]
  },
  {
   "cell_type": "markdown",
   "id": "257ea0e6",
   "metadata": {},
   "source": [
    "<font size=\"+2\"><strong>Part 1: Predicting Housing Price with Size </strong></font>"
   ]
  },
  {
   "cell_type": "code",
   "execution_count": 3,
   "id": "348fc6ae-e483-4377-88eb-daa0885cd69c",
   "metadata": {},
   "outputs": [],
   "source": [
    "__author__ = \"Donald Ghazi\"\n",
    "__email__ = \"donald@donaldghazi.com\"\n",
    "__website__ = \"donaldghazi.com\""
   ]
  },
  {
   "cell_type": "markdown",
   "id": "91fe9f0b-57f2-4486-b357-8259694b0d62",
   "metadata": {},
   "source": [
    "## Overview"
   ]
  },
  {
   "cell_type": "markdown",
   "id": "4c838f19-33d9-4b01-9813-442e81259a6c",
   "metadata": {},
   "source": [
    "In this project, I'll create a model that can predict the price of apartments in the city of Buenos Aires — with a focus on apartments that cost less than $400,000 USD."
   ]
  },
  {
   "cell_type": "code",
   "execution_count": 4,
   "id": "59c5a655-7e7f-453c-9dde-7ad9a29f2e43",
   "metadata": {},
   "outputs": [],
   "source": [
    "import warnings\n",
    "import matplotlib.pyplot as plt\n",
    "import pandas as pd\n",
    "\n",
    "from sklearn.linear_model import LinearRegression # Build my model \n",
    "from sklearn.metrics import mean_absolute_error # Evaluate my model \n",
    "from sklearn.utils.validation import check_is_fitted\n",
    "warnings.simplefilter(action=\"ignore\", category=FutureWarning) # Eliminate warnings that pop-up (visual distractions)"
   ]
  },
  {
   "cell_type": "markdown",
   "id": "a9cc20ab-4069-4b0d-a541-85b53ba8f0f1",
   "metadata": {},
   "source": [
    "# Prepare Data"
   ]
  },
  {
   "cell_type": "markdown",
   "id": "97dd5e57-16a3-4533-b0de-8d28dbcaeac4",
   "metadata": {},
   "source": [
    "## Import"
   ]
  },
  {
   "cell_type": "markdown",
   "id": "1efeaf79-6559-4fe4-8590-c31a14c190e2",
   "metadata": {},
   "source": [
    "I'll automate the data importing and cleaning process by writing functions. This will make sure that all of my data undergoes the same process, and that my analysis is easily reproducible."
   ]
  },
  {
   "cell_type": "markdown",
   "id": "7a45ad56-eeb9-44dd-8c37-077deb7ad002",
   "metadata": {},
   "source": [
    "**Wrangle Function**"
   ]
  },
  {
   "cell_type": "code",
   "execution_count": 5,
   "id": "9cef7480-6702-4935-8b9d-f5c9beae4425",
   "metadata": {},
   "outputs": [],
   "source": [
    "# Write a function named wrangle that takes a file path as an argument and returns a DataFrame\n",
    "def wrangle(filepath):\n",
    "    # Read CSV file into DataFrame\n",
    "    df = pd.read_csv(filepath)\n",
    "    return df"
   ]
  },
  {
   "cell_type": "markdown",
   "id": "10030843-26cb-4243-b082-19f0d191e00f",
   "metadata": {},
   "source": [
    "**Import CSV**"
   ]
  },
  {
   "cell_type": "code",
   "execution_count": 6,
   "id": "cc047ef0-aed5-40c9-8714-2e181ff5f868",
   "metadata": {},
   "outputs": [
    {
     "name": "stdout",
     "output_type": "stream",
     "text": [
      "df shape: (8606, 16)\n"
     ]
    },
    {
     "data": {
      "text/html": [
       "<div>\n",
       "<style scoped>\n",
       "    .dataframe tbody tr th:only-of-type {\n",
       "        vertical-align: middle;\n",
       "    }\n",
       "\n",
       "    .dataframe tbody tr th {\n",
       "        vertical-align: top;\n",
       "    }\n",
       "\n",
       "    .dataframe thead th {\n",
       "        text-align: right;\n",
       "    }\n",
       "</style>\n",
       "<table border=\"1\" class=\"dataframe\">\n",
       "  <thead>\n",
       "    <tr style=\"text-align: right;\">\n",
       "      <th></th>\n",
       "      <th>operation</th>\n",
       "      <th>property_type</th>\n",
       "      <th>place_with_parent_names</th>\n",
       "      <th>lat-lon</th>\n",
       "      <th>price</th>\n",
       "      <th>currency</th>\n",
       "      <th>price_aprox_local_currency</th>\n",
       "      <th>price_aprox_usd</th>\n",
       "      <th>surface_total_in_m2</th>\n",
       "      <th>surface_covered_in_m2</th>\n",
       "      <th>price_usd_per_m2</th>\n",
       "      <th>price_per_m2</th>\n",
       "      <th>floor</th>\n",
       "      <th>rooms</th>\n",
       "      <th>expenses</th>\n",
       "      <th>properati_url</th>\n",
       "    </tr>\n",
       "  </thead>\n",
       "  <tbody>\n",
       "    <tr>\n",
       "      <th>0</th>\n",
       "      <td>sell</td>\n",
       "      <td>apartment</td>\n",
       "      <td>|Argentina|Capital Federal|Villa Crespo|</td>\n",
       "      <td>-34.6047834183,-58.4586812499</td>\n",
       "      <td>180000.0</td>\n",
       "      <td>USD</td>\n",
       "      <td>2729232.0</td>\n",
       "      <td>180000.0</td>\n",
       "      <td>120.0</td>\n",
       "      <td>110.0</td>\n",
       "      <td>1500.000000</td>\n",
       "      <td>1636.363636</td>\n",
       "      <td>NaN</td>\n",
       "      <td>4.0</td>\n",
       "      <td>NaN</td>\n",
       "      <td>http://villa-crespo.properati.com.ar/12egq_ven...</td>\n",
       "    </tr>\n",
       "    <tr>\n",
       "      <th>1</th>\n",
       "      <td>sell</td>\n",
       "      <td>house</td>\n",
       "      <td>|Argentina|Bs.As. G.B.A. Zona Oeste|La Matanza...</td>\n",
       "      <td>NaN</td>\n",
       "      <td>250000.0</td>\n",
       "      <td>USD</td>\n",
       "      <td>3790600.0</td>\n",
       "      <td>250000.0</td>\n",
       "      <td>117.0</td>\n",
       "      <td>120.0</td>\n",
       "      <td>2136.752137</td>\n",
       "      <td>2083.333333</td>\n",
       "      <td>NaN</td>\n",
       "      <td>4.0</td>\n",
       "      <td>NaN</td>\n",
       "      <td>http://ramos-mejia.properati.com.ar/s7pd_venta...</td>\n",
       "    </tr>\n",
       "    <tr>\n",
       "      <th>2</th>\n",
       "      <td>sell</td>\n",
       "      <td>house</td>\n",
       "      <td>|Argentina|Bs.As. G.B.A. Zona Oeste|Morón|Cast...</td>\n",
       "      <td>-34.6497002,-58.658073</td>\n",
       "      <td>410000.0</td>\n",
       "      <td>USD</td>\n",
       "      <td>6216584.0</td>\n",
       "      <td>410000.0</td>\n",
       "      <td>410.0</td>\n",
       "      <td>220.0</td>\n",
       "      <td>1000.000000</td>\n",
       "      <td>1863.636364</td>\n",
       "      <td>NaN</td>\n",
       "      <td>NaN</td>\n",
       "      <td>NaN</td>\n",
       "      <td>http://castelar-moron.properati.com.ar/11vgn_v...</td>\n",
       "    </tr>\n",
       "    <tr>\n",
       "      <th>3</th>\n",
       "      <td>sell</td>\n",
       "      <td>house</td>\n",
       "      <td>|Argentina|Bs.As. G.B.A. Zona Oeste|Tres de Fe...</td>\n",
       "      <td>-34.5957086,-58.5669503</td>\n",
       "      <td>180000.0</td>\n",
       "      <td>USD</td>\n",
       "      <td>2729232.0</td>\n",
       "      <td>180000.0</td>\n",
       "      <td>200.0</td>\n",
       "      <td>135.0</td>\n",
       "      <td>900.000000</td>\n",
       "      <td>1333.333333</td>\n",
       "      <td>NaN</td>\n",
       "      <td>5.0</td>\n",
       "      <td>NaN</td>\n",
       "      <td>http://tres-de-febrero.properati.com.ar/7f7u_v...</td>\n",
       "    </tr>\n",
       "    <tr>\n",
       "      <th>4</th>\n",
       "      <td>sell</td>\n",
       "      <td>apartment</td>\n",
       "      <td>|Argentina|Capital Federal|Chacarita|</td>\n",
       "      <td>-34.5846508988,-58.4546932614</td>\n",
       "      <td>129000.0</td>\n",
       "      <td>USD</td>\n",
       "      <td>1955949.6</td>\n",
       "      <td>129000.0</td>\n",
       "      <td>76.0</td>\n",
       "      <td>70.0</td>\n",
       "      <td>1697.368421</td>\n",
       "      <td>1842.857143</td>\n",
       "      <td>NaN</td>\n",
       "      <td>NaN</td>\n",
       "      <td>NaN</td>\n",
       "      <td>http://chacarita.properati.com.ar/10qlv_venta_...</td>\n",
       "    </tr>\n",
       "  </tbody>\n",
       "</table>\n",
       "</div>"
      ],
      "text/plain": [
       "  operation property_type                            place_with_parent_names  \\\n",
       "0      sell     apartment           |Argentina|Capital Federal|Villa Crespo|   \n",
       "1      sell         house  |Argentina|Bs.As. G.B.A. Zona Oeste|La Matanza...   \n",
       "2      sell         house  |Argentina|Bs.As. G.B.A. Zona Oeste|Morón|Cast...   \n",
       "3      sell         house  |Argentina|Bs.As. G.B.A. Zona Oeste|Tres de Fe...   \n",
       "4      sell     apartment              |Argentina|Capital Federal|Chacarita|   \n",
       "\n",
       "                         lat-lon     price currency  \\\n",
       "0  -34.6047834183,-58.4586812499  180000.0      USD   \n",
       "1                            NaN  250000.0      USD   \n",
       "2         -34.6497002,-58.658073  410000.0      USD   \n",
       "3        -34.5957086,-58.5669503  180000.0      USD   \n",
       "4  -34.5846508988,-58.4546932614  129000.0      USD   \n",
       "\n",
       "   price_aprox_local_currency  price_aprox_usd  surface_total_in_m2  \\\n",
       "0                   2729232.0         180000.0                120.0   \n",
       "1                   3790600.0         250000.0                117.0   \n",
       "2                   6216584.0         410000.0                410.0   \n",
       "3                   2729232.0         180000.0                200.0   \n",
       "4                   1955949.6         129000.0                 76.0   \n",
       "\n",
       "   surface_covered_in_m2  price_usd_per_m2  price_per_m2  floor  rooms  \\\n",
       "0                  110.0       1500.000000   1636.363636    NaN    4.0   \n",
       "1                  120.0       2136.752137   2083.333333    NaN    4.0   \n",
       "2                  220.0       1000.000000   1863.636364    NaN    NaN   \n",
       "3                  135.0        900.000000   1333.333333    NaN    5.0   \n",
       "4                   70.0       1697.368421   1842.857143    NaN    NaN   \n",
       "\n",
       "  expenses                                      properati_url  \n",
       "0      NaN  http://villa-crespo.properati.com.ar/12egq_ven...  \n",
       "1      NaN  http://ramos-mejia.properati.com.ar/s7pd_venta...  \n",
       "2      NaN  http://castelar-moron.properati.com.ar/11vgn_v...  \n",
       "3      NaN  http://tres-de-febrero.properati.com.ar/7f7u_v...  \n",
       "4      NaN  http://chacarita.properati.com.ar/10qlv_venta_...  "
      ]
     },
     "execution_count": 6,
     "metadata": {},
     "output_type": "execute_result"
    }
   ],
   "source": [
    "# Use wrangle function to create a DataFrame df from the CSV file \"data/buenos-aires-real-estate-1.csv\"\n",
    "df = wrangle(\"data/buenos-aires-real-estate-1.csv\")\n",
    "print (\"df shape:\", df.shape)\n",
    "df.head()"
   ]
  },
  {
   "cell_type": "markdown",
   "id": "6c6d100e-2c3a-4279-a40b-13961c3d8846",
   "metadata": {},
   "source": [
    "I want to build a model for apartments in Buenos Aires proper (`Capital Federal`) that cost less than $400,000. Looking at the first five rows of my DataFrame, I can already see that there are properties that fall outside those parameters."
   ]
  },
  {
   "cell_type": "markdown",
   "id": "f9fbd8ff-9c75-4769-a5a4-74f6a23466f3",
   "metadata": {},
   "source": [
    "So my first cleaning task is to remove those observations from my dataset. Since I'm using a function to import and clean my data, I'll need to make changes there.\n",
    "\n",
    "Looking at above, I know `|Argentina|Capital Federal|Villa Crespo|` is a string."
   ]
  },
  {
   "cell_type": "code",
   "execution_count": 7,
   "id": "9b4fe977-f398-407c-a9f7-ededa3c5cac4",
   "metadata": {},
   "outputs": [
    {
     "data": {
      "text/plain": [
       "0     True\n",
       "1    False\n",
       "2    False\n",
       "3    False\n",
       "4     True\n",
       "Name: place_with_parent_names, dtype: bool"
      ]
     },
     "execution_count": 7,
     "metadata": {},
     "output_type": "execute_result"
    }
   ],
   "source": [
    "# Look at \"place_with_parent_names\" column to see if \"Capital Federal\" is within that string\n",
    "mask_ba = df[\"place_with_parent_names\"].str.contains(\"Capital Federal\")\n",
    "mask_ba.head()"
   ]
  },
  {
   "cell_type": "markdown",
   "id": "987c85b9-252f-4342-a6d4-678b4ba8be37",
   "metadata": {},
   "source": [
    "Looking at above, I get a series. In this series, I have index labels (same index labels as my DataFrame). I also have boolean values (True or False) which communicate whether or not the sub-string `Capital Federal` exists within that column."
   ]
  },
  {
   "cell_type": "code",
   "execution_count": 8,
   "id": "e70254b3-1f84-4906-a7fe-0d8c9414a206",
   "metadata": {},
   "outputs": [
    {
     "data": {
      "text/html": [
       "<div>\n",
       "<style scoped>\n",
       "    .dataframe tbody tr th:only-of-type {\n",
       "        vertical-align: middle;\n",
       "    }\n",
       "\n",
       "    .dataframe tbody tr th {\n",
       "        vertical-align: top;\n",
       "    }\n",
       "\n",
       "    .dataframe thead th {\n",
       "        text-align: right;\n",
       "    }\n",
       "</style>\n",
       "<table border=\"1\" class=\"dataframe\">\n",
       "  <thead>\n",
       "    <tr style=\"text-align: right;\">\n",
       "      <th></th>\n",
       "      <th>operation</th>\n",
       "      <th>property_type</th>\n",
       "      <th>place_with_parent_names</th>\n",
       "      <th>lat-lon</th>\n",
       "      <th>price</th>\n",
       "      <th>currency</th>\n",
       "      <th>price_aprox_local_currency</th>\n",
       "      <th>price_aprox_usd</th>\n",
       "      <th>surface_total_in_m2</th>\n",
       "      <th>surface_covered_in_m2</th>\n",
       "      <th>price_usd_per_m2</th>\n",
       "      <th>price_per_m2</th>\n",
       "      <th>floor</th>\n",
       "      <th>rooms</th>\n",
       "      <th>expenses</th>\n",
       "      <th>properati_url</th>\n",
       "    </tr>\n",
       "  </thead>\n",
       "  <tbody>\n",
       "    <tr>\n",
       "      <th>0</th>\n",
       "      <td>sell</td>\n",
       "      <td>apartment</td>\n",
       "      <td>|Argentina|Capital Federal|Villa Crespo|</td>\n",
       "      <td>-34.6047834183,-58.4586812499</td>\n",
       "      <td>180000.0</td>\n",
       "      <td>USD</td>\n",
       "      <td>2729232.0</td>\n",
       "      <td>180000.0</td>\n",
       "      <td>120.0</td>\n",
       "      <td>110.0</td>\n",
       "      <td>1500.000000</td>\n",
       "      <td>1636.363636</td>\n",
       "      <td>NaN</td>\n",
       "      <td>4.0</td>\n",
       "      <td>NaN</td>\n",
       "      <td>http://villa-crespo.properati.com.ar/12egq_ven...</td>\n",
       "    </tr>\n",
       "    <tr>\n",
       "      <th>4</th>\n",
       "      <td>sell</td>\n",
       "      <td>apartment</td>\n",
       "      <td>|Argentina|Capital Federal|Chacarita|</td>\n",
       "      <td>-34.5846508988,-58.4546932614</td>\n",
       "      <td>129000.0</td>\n",
       "      <td>USD</td>\n",
       "      <td>1955949.6</td>\n",
       "      <td>129000.0</td>\n",
       "      <td>76.0</td>\n",
       "      <td>70.0</td>\n",
       "      <td>1697.368421</td>\n",
       "      <td>1842.857143</td>\n",
       "      <td>NaN</td>\n",
       "      <td>NaN</td>\n",
       "      <td>NaN</td>\n",
       "      <td>http://chacarita.properati.com.ar/10qlv_venta_...</td>\n",
       "    </tr>\n",
       "    <tr>\n",
       "      <th>9</th>\n",
       "      <td>sell</td>\n",
       "      <td>apartment</td>\n",
       "      <td>|Argentina|Capital Federal|Villa Luro|</td>\n",
       "      <td>-34.6389789,-58.500115</td>\n",
       "      <td>87000.0</td>\n",
       "      <td>USD</td>\n",
       "      <td>1319128.8</td>\n",
       "      <td>87000.0</td>\n",
       "      <td>48.0</td>\n",
       "      <td>42.0</td>\n",
       "      <td>1812.500000</td>\n",
       "      <td>2071.428571</td>\n",
       "      <td>NaN</td>\n",
       "      <td>NaN</td>\n",
       "      <td>NaN</td>\n",
       "      <td>http://villa-luro.properati.com.ar/12m82_venta...</td>\n",
       "    </tr>\n",
       "    <tr>\n",
       "      <th>11</th>\n",
       "      <td>sell</td>\n",
       "      <td>apartment</td>\n",
       "      <td>|Argentina|Capital Federal|Once|</td>\n",
       "      <td>-34.6050060697,-58.4001162302</td>\n",
       "      <td>60000.0</td>\n",
       "      <td>USD</td>\n",
       "      <td>909744.0</td>\n",
       "      <td>60000.0</td>\n",
       "      <td>28.0</td>\n",
       "      <td>28.0</td>\n",
       "      <td>2142.857143</td>\n",
       "      <td>2142.857143</td>\n",
       "      <td>NaN</td>\n",
       "      <td>1.0</td>\n",
       "      <td>NaN</td>\n",
       "      <td>http://once.properati.com.ar/zz0q_venta_depart...</td>\n",
       "    </tr>\n",
       "    <tr>\n",
       "      <th>18</th>\n",
       "      <td>sell</td>\n",
       "      <td>apartment</td>\n",
       "      <td>|Argentina|Capital Federal|Belgrano|</td>\n",
       "      <td>-34.5646269,-58.4412741</td>\n",
       "      <td>600000.0</td>\n",
       "      <td>USD</td>\n",
       "      <td>9097440.0</td>\n",
       "      <td>600000.0</td>\n",
       "      <td>220.0</td>\n",
       "      <td>NaN</td>\n",
       "      <td>2727.272727</td>\n",
       "      <td>NaN</td>\n",
       "      <td>NaN</td>\n",
       "      <td>5.0</td>\n",
       "      <td>NaN</td>\n",
       "      <td>http://belgrano.properati.com.ar/jvge_venta_de...</td>\n",
       "    </tr>\n",
       "  </tbody>\n",
       "</table>\n",
       "</div>"
      ],
      "text/plain": [
       "   operation property_type                   place_with_parent_names  \\\n",
       "0       sell     apartment  |Argentina|Capital Federal|Villa Crespo|   \n",
       "4       sell     apartment     |Argentina|Capital Federal|Chacarita|   \n",
       "9       sell     apartment    |Argentina|Capital Federal|Villa Luro|   \n",
       "11      sell     apartment          |Argentina|Capital Federal|Once|   \n",
       "18      sell     apartment      |Argentina|Capital Federal|Belgrano|   \n",
       "\n",
       "                          lat-lon     price currency  \\\n",
       "0   -34.6047834183,-58.4586812499  180000.0      USD   \n",
       "4   -34.5846508988,-58.4546932614  129000.0      USD   \n",
       "9          -34.6389789,-58.500115   87000.0      USD   \n",
       "11  -34.6050060697,-58.4001162302   60000.0      USD   \n",
       "18        -34.5646269,-58.4412741  600000.0      USD   \n",
       "\n",
       "    price_aprox_local_currency  price_aprox_usd  surface_total_in_m2  \\\n",
       "0                    2729232.0         180000.0                120.0   \n",
       "4                    1955949.6         129000.0                 76.0   \n",
       "9                    1319128.8          87000.0                 48.0   \n",
       "11                    909744.0          60000.0                 28.0   \n",
       "18                   9097440.0         600000.0                220.0   \n",
       "\n",
       "    surface_covered_in_m2  price_usd_per_m2  price_per_m2  floor  rooms  \\\n",
       "0                   110.0       1500.000000   1636.363636    NaN    4.0   \n",
       "4                    70.0       1697.368421   1842.857143    NaN    NaN   \n",
       "9                    42.0       1812.500000   2071.428571    NaN    NaN   \n",
       "11                   28.0       2142.857143   2142.857143    NaN    1.0   \n",
       "18                    NaN       2727.272727           NaN    NaN    5.0   \n",
       "\n",
       "   expenses                                      properati_url  \n",
       "0       NaN  http://villa-crespo.properati.com.ar/12egq_ven...  \n",
       "4       NaN  http://chacarita.properati.com.ar/10qlv_venta_...  \n",
       "9       NaN  http://villa-luro.properati.com.ar/12m82_venta...  \n",
       "11      NaN  http://once.properati.com.ar/zz0q_venta_depart...  \n",
       "18      NaN  http://belgrano.properati.com.ar/jvge_venta_de...  "
      ]
     },
     "execution_count": 8,
     "metadata": {},
     "output_type": "execute_result"
    }
   ],
   "source": [
    "mask_ba = df[\"place_with_parent_names\"].str.contains(\"Capital Federal\")\n",
    "\n",
    "# Show a DataFrame where everything in that DataFrame is or are properties in Buenos Aires proper \n",
    "df[mask_ba].head()"
   ]
  },
  {
   "cell_type": "code",
   "execution_count": 9,
   "id": "7bb9da37-df55-4d16-97c1-dcf7ce52c5c7",
   "metadata": {},
   "outputs": [],
   "source": [
    "# Add to wrangle function so that the DataFrame returns only includes apartments in Buenos Aires \"Capital Federal\"\n",
    "\n",
    "def wrangle(filepath):\n",
    "    # Read CSV file into DataFrame\n",
    "    df = pd.read_csv(filepath)\n",
    "    \n",
    "    # Subset to properties in \"Capital Federal\"\n",
    "    mask_ba = df[\"place_with_parent_names\"].str.contains(\"Capital Federal\")\n",
    "    df = df[mask_ba]\n",
    "    \n",
    "    return df"
   ]
  },
  {
   "cell_type": "code",
   "execution_count": 10,
   "id": "270f2449-e09c-4cc6-ad7a-ce1191ca8d70",
   "metadata": {},
   "outputs": [
    {
     "name": "stdout",
     "output_type": "stream",
     "text": [
      "df shape: (2524, 16)\n"
     ]
    },
    {
     "data": {
      "text/html": [
       "<div>\n",
       "<style scoped>\n",
       "    .dataframe tbody tr th:only-of-type {\n",
       "        vertical-align: middle;\n",
       "    }\n",
       "\n",
       "    .dataframe tbody tr th {\n",
       "        vertical-align: top;\n",
       "    }\n",
       "\n",
       "    .dataframe thead th {\n",
       "        text-align: right;\n",
       "    }\n",
       "</style>\n",
       "<table border=\"1\" class=\"dataframe\">\n",
       "  <thead>\n",
       "    <tr style=\"text-align: right;\">\n",
       "      <th></th>\n",
       "      <th>operation</th>\n",
       "      <th>property_type</th>\n",
       "      <th>place_with_parent_names</th>\n",
       "      <th>lat-lon</th>\n",
       "      <th>price</th>\n",
       "      <th>currency</th>\n",
       "      <th>price_aprox_local_currency</th>\n",
       "      <th>price_aprox_usd</th>\n",
       "      <th>surface_total_in_m2</th>\n",
       "      <th>surface_covered_in_m2</th>\n",
       "      <th>price_usd_per_m2</th>\n",
       "      <th>price_per_m2</th>\n",
       "      <th>floor</th>\n",
       "      <th>rooms</th>\n",
       "      <th>expenses</th>\n",
       "      <th>properati_url</th>\n",
       "    </tr>\n",
       "  </thead>\n",
       "  <tbody>\n",
       "    <tr>\n",
       "      <th>0</th>\n",
       "      <td>sell</td>\n",
       "      <td>apartment</td>\n",
       "      <td>|Argentina|Capital Federal|Villa Crespo|</td>\n",
       "      <td>-34.6047834183,-58.4586812499</td>\n",
       "      <td>180000.0</td>\n",
       "      <td>USD</td>\n",
       "      <td>2729232.0</td>\n",
       "      <td>180000.0</td>\n",
       "      <td>120.0</td>\n",
       "      <td>110.0</td>\n",
       "      <td>1500.000000</td>\n",
       "      <td>1636.363636</td>\n",
       "      <td>NaN</td>\n",
       "      <td>4.0</td>\n",
       "      <td>NaN</td>\n",
       "      <td>http://villa-crespo.properati.com.ar/12egq_ven...</td>\n",
       "    </tr>\n",
       "    <tr>\n",
       "      <th>4</th>\n",
       "      <td>sell</td>\n",
       "      <td>apartment</td>\n",
       "      <td>|Argentina|Capital Federal|Chacarita|</td>\n",
       "      <td>-34.5846508988,-58.4546932614</td>\n",
       "      <td>129000.0</td>\n",
       "      <td>USD</td>\n",
       "      <td>1955949.6</td>\n",
       "      <td>129000.0</td>\n",
       "      <td>76.0</td>\n",
       "      <td>70.0</td>\n",
       "      <td>1697.368421</td>\n",
       "      <td>1842.857143</td>\n",
       "      <td>NaN</td>\n",
       "      <td>NaN</td>\n",
       "      <td>NaN</td>\n",
       "      <td>http://chacarita.properati.com.ar/10qlv_venta_...</td>\n",
       "    </tr>\n",
       "    <tr>\n",
       "      <th>9</th>\n",
       "      <td>sell</td>\n",
       "      <td>apartment</td>\n",
       "      <td>|Argentina|Capital Federal|Villa Luro|</td>\n",
       "      <td>-34.6389789,-58.500115</td>\n",
       "      <td>87000.0</td>\n",
       "      <td>USD</td>\n",
       "      <td>1319128.8</td>\n",
       "      <td>87000.0</td>\n",
       "      <td>48.0</td>\n",
       "      <td>42.0</td>\n",
       "      <td>1812.500000</td>\n",
       "      <td>2071.428571</td>\n",
       "      <td>NaN</td>\n",
       "      <td>NaN</td>\n",
       "      <td>NaN</td>\n",
       "      <td>http://villa-luro.properati.com.ar/12m82_venta...</td>\n",
       "    </tr>\n",
       "    <tr>\n",
       "      <th>11</th>\n",
       "      <td>sell</td>\n",
       "      <td>apartment</td>\n",
       "      <td>|Argentina|Capital Federal|Once|</td>\n",
       "      <td>-34.6050060697,-58.4001162302</td>\n",
       "      <td>60000.0</td>\n",
       "      <td>USD</td>\n",
       "      <td>909744.0</td>\n",
       "      <td>60000.0</td>\n",
       "      <td>28.0</td>\n",
       "      <td>28.0</td>\n",
       "      <td>2142.857143</td>\n",
       "      <td>2142.857143</td>\n",
       "      <td>NaN</td>\n",
       "      <td>1.0</td>\n",
       "      <td>NaN</td>\n",
       "      <td>http://once.properati.com.ar/zz0q_venta_depart...</td>\n",
       "    </tr>\n",
       "    <tr>\n",
       "      <th>18</th>\n",
       "      <td>sell</td>\n",
       "      <td>apartment</td>\n",
       "      <td>|Argentina|Capital Federal|Belgrano|</td>\n",
       "      <td>-34.5646269,-58.4412741</td>\n",
       "      <td>600000.0</td>\n",
       "      <td>USD</td>\n",
       "      <td>9097440.0</td>\n",
       "      <td>600000.0</td>\n",
       "      <td>220.0</td>\n",
       "      <td>NaN</td>\n",
       "      <td>2727.272727</td>\n",
       "      <td>NaN</td>\n",
       "      <td>NaN</td>\n",
       "      <td>5.0</td>\n",
       "      <td>NaN</td>\n",
       "      <td>http://belgrano.properati.com.ar/jvge_venta_de...</td>\n",
       "    </tr>\n",
       "  </tbody>\n",
       "</table>\n",
       "</div>"
      ],
      "text/plain": [
       "   operation property_type                   place_with_parent_names  \\\n",
       "0       sell     apartment  |Argentina|Capital Federal|Villa Crespo|   \n",
       "4       sell     apartment     |Argentina|Capital Federal|Chacarita|   \n",
       "9       sell     apartment    |Argentina|Capital Federal|Villa Luro|   \n",
       "11      sell     apartment          |Argentina|Capital Federal|Once|   \n",
       "18      sell     apartment      |Argentina|Capital Federal|Belgrano|   \n",
       "\n",
       "                          lat-lon     price currency  \\\n",
       "0   -34.6047834183,-58.4586812499  180000.0      USD   \n",
       "4   -34.5846508988,-58.4546932614  129000.0      USD   \n",
       "9          -34.6389789,-58.500115   87000.0      USD   \n",
       "11  -34.6050060697,-58.4001162302   60000.0      USD   \n",
       "18        -34.5646269,-58.4412741  600000.0      USD   \n",
       "\n",
       "    price_aprox_local_currency  price_aprox_usd  surface_total_in_m2  \\\n",
       "0                    2729232.0         180000.0                120.0   \n",
       "4                    1955949.6         129000.0                 76.0   \n",
       "9                    1319128.8          87000.0                 48.0   \n",
       "11                    909744.0          60000.0                 28.0   \n",
       "18                   9097440.0         600000.0                220.0   \n",
       "\n",
       "    surface_covered_in_m2  price_usd_per_m2  price_per_m2  floor  rooms  \\\n",
       "0                   110.0       1500.000000   1636.363636    NaN    4.0   \n",
       "4                    70.0       1697.368421   1842.857143    NaN    NaN   \n",
       "9                    42.0       1812.500000   2071.428571    NaN    NaN   \n",
       "11                   28.0       2142.857143   2142.857143    NaN    1.0   \n",
       "18                    NaN       2727.272727           NaN    NaN    5.0   \n",
       "\n",
       "   expenses                                      properati_url  \n",
       "0       NaN  http://villa-crespo.properati.com.ar/12egq_ven...  \n",
       "4       NaN  http://chacarita.properati.com.ar/10qlv_venta_...  \n",
       "9       NaN  http://villa-luro.properati.com.ar/12m82_venta...  \n",
       "11      NaN  http://once.properati.com.ar/zz0q_venta_depart...  \n",
       "18      NaN  http://belgrano.properati.com.ar/jvge_venta_de...  "
      ]
     },
     "execution_count": 10,
     "metadata": {},
     "output_type": "execute_result"
    }
   ],
   "source": [
    "df = wrangle(\"data/buenos-aires-real-estate-1.csv\")\n",
    "print (\"df shape:\", df.shape)\n",
    "df.head()"
   ]
  },
  {
   "cell_type": "code",
   "execution_count": 11,
   "id": "124ac319-a03b-4414-bb3c-1301c2f46e6d",
   "metadata": {},
   "outputs": [
    {
     "data": {
      "text/plain": [
       "array(['apartment', 'house', 'PH', 'store'], dtype=object)"
      ]
     },
     "execution_count": 11,
     "metadata": {},
     "output_type": "execute_result"
    }
   ],
   "source": [
    "# See what sorts of properties in my dataset \n",
    "df[\"property_type\"].unique()"
   ]
  },
  {
   "cell_type": "code",
   "execution_count": 12,
   "id": "c2a7d3b1-a294-47d5-8fa9-7cc2465c77c6",
   "metadata": {},
   "outputs": [
    {
     "data": {
      "text/plain": [
       "0     True\n",
       "4     True\n",
       "9     True\n",
       "11    True\n",
       "18    True\n",
       "Name: property_type, dtype: bool"
      ]
     },
     "execution_count": 12,
     "metadata": {},
     "output_type": "execute_result"
    }
   ],
   "source": [
    "# Check work to make sure all of the properties are apartments\n",
    "mask_apt = df[\"property_type\"] == \"apartment\"\n",
    "mask_apt.head()"
   ]
  },
  {
   "cell_type": "code",
   "execution_count": 13,
   "id": "ab569f65-7cf5-4ca6-8c28-b0ee68095e0f",
   "metadata": {},
   "outputs": [],
   "source": [
    "def wrangle(filepath):\n",
    "    # Read CSV file into DataFrame\n",
    "    df = pd.read_csv(filepath)\n",
    "    \n",
    "    # Subset to properties in \"Capital Federal\"\n",
    "    mask_ba = df[\"place_with_parent_names\"].str.contains(\"Capital Federal\")\n",
    "    \n",
    "    # Subset to \"apartments\"\n",
    "    mask_apt = df[\"property_type\"] == \"apartment\"\n",
    "    \n",
    "    df = df[mask_ba & mask_apt]\n",
    "    \n",
    "    return df"
   ]
  },
  {
   "cell_type": "code",
   "execution_count": 14,
   "id": "8ecd686a-d5be-4b9a-8f0a-96a87a63cbe5",
   "metadata": {},
   "outputs": [
    {
     "name": "stdout",
     "output_type": "stream",
     "text": [
      "df shape: (2068, 16)\n"
     ]
    },
    {
     "data": {
      "text/html": [
       "<div>\n",
       "<style scoped>\n",
       "    .dataframe tbody tr th:only-of-type {\n",
       "        vertical-align: middle;\n",
       "    }\n",
       "\n",
       "    .dataframe tbody tr th {\n",
       "        vertical-align: top;\n",
       "    }\n",
       "\n",
       "    .dataframe thead th {\n",
       "        text-align: right;\n",
       "    }\n",
       "</style>\n",
       "<table border=\"1\" class=\"dataframe\">\n",
       "  <thead>\n",
       "    <tr style=\"text-align: right;\">\n",
       "      <th></th>\n",
       "      <th>operation</th>\n",
       "      <th>property_type</th>\n",
       "      <th>place_with_parent_names</th>\n",
       "      <th>lat-lon</th>\n",
       "      <th>price</th>\n",
       "      <th>currency</th>\n",
       "      <th>price_aprox_local_currency</th>\n",
       "      <th>price_aprox_usd</th>\n",
       "      <th>surface_total_in_m2</th>\n",
       "      <th>surface_covered_in_m2</th>\n",
       "      <th>price_usd_per_m2</th>\n",
       "      <th>price_per_m2</th>\n",
       "      <th>floor</th>\n",
       "      <th>rooms</th>\n",
       "      <th>expenses</th>\n",
       "      <th>properati_url</th>\n",
       "    </tr>\n",
       "  </thead>\n",
       "  <tbody>\n",
       "    <tr>\n",
       "      <th>0</th>\n",
       "      <td>sell</td>\n",
       "      <td>apartment</td>\n",
       "      <td>|Argentina|Capital Federal|Villa Crespo|</td>\n",
       "      <td>-34.6047834183,-58.4586812499</td>\n",
       "      <td>180000.0</td>\n",
       "      <td>USD</td>\n",
       "      <td>2729232.0</td>\n",
       "      <td>180000.0</td>\n",
       "      <td>120.0</td>\n",
       "      <td>110.0</td>\n",
       "      <td>1500.000000</td>\n",
       "      <td>1636.363636</td>\n",
       "      <td>NaN</td>\n",
       "      <td>4.0</td>\n",
       "      <td>NaN</td>\n",
       "      <td>http://villa-crespo.properati.com.ar/12egq_ven...</td>\n",
       "    </tr>\n",
       "    <tr>\n",
       "      <th>4</th>\n",
       "      <td>sell</td>\n",
       "      <td>apartment</td>\n",
       "      <td>|Argentina|Capital Federal|Chacarita|</td>\n",
       "      <td>-34.5846508988,-58.4546932614</td>\n",
       "      <td>129000.0</td>\n",
       "      <td>USD</td>\n",
       "      <td>1955949.6</td>\n",
       "      <td>129000.0</td>\n",
       "      <td>76.0</td>\n",
       "      <td>70.0</td>\n",
       "      <td>1697.368421</td>\n",
       "      <td>1842.857143</td>\n",
       "      <td>NaN</td>\n",
       "      <td>NaN</td>\n",
       "      <td>NaN</td>\n",
       "      <td>http://chacarita.properati.com.ar/10qlv_venta_...</td>\n",
       "    </tr>\n",
       "    <tr>\n",
       "      <th>9</th>\n",
       "      <td>sell</td>\n",
       "      <td>apartment</td>\n",
       "      <td>|Argentina|Capital Federal|Villa Luro|</td>\n",
       "      <td>-34.6389789,-58.500115</td>\n",
       "      <td>87000.0</td>\n",
       "      <td>USD</td>\n",
       "      <td>1319128.8</td>\n",
       "      <td>87000.0</td>\n",
       "      <td>48.0</td>\n",
       "      <td>42.0</td>\n",
       "      <td>1812.500000</td>\n",
       "      <td>2071.428571</td>\n",
       "      <td>NaN</td>\n",
       "      <td>NaN</td>\n",
       "      <td>NaN</td>\n",
       "      <td>http://villa-luro.properati.com.ar/12m82_venta...</td>\n",
       "    </tr>\n",
       "    <tr>\n",
       "      <th>11</th>\n",
       "      <td>sell</td>\n",
       "      <td>apartment</td>\n",
       "      <td>|Argentina|Capital Federal|Once|</td>\n",
       "      <td>-34.6050060697,-58.4001162302</td>\n",
       "      <td>60000.0</td>\n",
       "      <td>USD</td>\n",
       "      <td>909744.0</td>\n",
       "      <td>60000.0</td>\n",
       "      <td>28.0</td>\n",
       "      <td>28.0</td>\n",
       "      <td>2142.857143</td>\n",
       "      <td>2142.857143</td>\n",
       "      <td>NaN</td>\n",
       "      <td>1.0</td>\n",
       "      <td>NaN</td>\n",
       "      <td>http://once.properati.com.ar/zz0q_venta_depart...</td>\n",
       "    </tr>\n",
       "    <tr>\n",
       "      <th>18</th>\n",
       "      <td>sell</td>\n",
       "      <td>apartment</td>\n",
       "      <td>|Argentina|Capital Federal|Belgrano|</td>\n",
       "      <td>-34.5646269,-58.4412741</td>\n",
       "      <td>600000.0</td>\n",
       "      <td>USD</td>\n",
       "      <td>9097440.0</td>\n",
       "      <td>600000.0</td>\n",
       "      <td>220.0</td>\n",
       "      <td>NaN</td>\n",
       "      <td>2727.272727</td>\n",
       "      <td>NaN</td>\n",
       "      <td>NaN</td>\n",
       "      <td>5.0</td>\n",
       "      <td>NaN</td>\n",
       "      <td>http://belgrano.properati.com.ar/jvge_venta_de...</td>\n",
       "    </tr>\n",
       "  </tbody>\n",
       "</table>\n",
       "</div>"
      ],
      "text/plain": [
       "   operation property_type                   place_with_parent_names  \\\n",
       "0       sell     apartment  |Argentina|Capital Federal|Villa Crespo|   \n",
       "4       sell     apartment     |Argentina|Capital Federal|Chacarita|   \n",
       "9       sell     apartment    |Argentina|Capital Federal|Villa Luro|   \n",
       "11      sell     apartment          |Argentina|Capital Federal|Once|   \n",
       "18      sell     apartment      |Argentina|Capital Federal|Belgrano|   \n",
       "\n",
       "                          lat-lon     price currency  \\\n",
       "0   -34.6047834183,-58.4586812499  180000.0      USD   \n",
       "4   -34.5846508988,-58.4546932614  129000.0      USD   \n",
       "9          -34.6389789,-58.500115   87000.0      USD   \n",
       "11  -34.6050060697,-58.4001162302   60000.0      USD   \n",
       "18        -34.5646269,-58.4412741  600000.0      USD   \n",
       "\n",
       "    price_aprox_local_currency  price_aprox_usd  surface_total_in_m2  \\\n",
       "0                    2729232.0         180000.0                120.0   \n",
       "4                    1955949.6         129000.0                 76.0   \n",
       "9                    1319128.8          87000.0                 48.0   \n",
       "11                    909744.0          60000.0                 28.0   \n",
       "18                   9097440.0         600000.0                220.0   \n",
       "\n",
       "    surface_covered_in_m2  price_usd_per_m2  price_per_m2  floor  rooms  \\\n",
       "0                   110.0       1500.000000   1636.363636    NaN    4.0   \n",
       "4                    70.0       1697.368421   1842.857143    NaN    NaN   \n",
       "9                    42.0       1812.500000   2071.428571    NaN    NaN   \n",
       "11                   28.0       2142.857143   2142.857143    NaN    1.0   \n",
       "18                    NaN       2727.272727           NaN    NaN    5.0   \n",
       "\n",
       "   expenses                                      properati_url  \n",
       "0       NaN  http://villa-crespo.properati.com.ar/12egq_ven...  \n",
       "4       NaN  http://chacarita.properati.com.ar/10qlv_venta_...  \n",
       "9       NaN  http://villa-luro.properati.com.ar/12m82_venta...  \n",
       "11      NaN  http://once.properati.com.ar/zz0q_venta_depart...  \n",
       "18      NaN  http://belgrano.properati.com.ar/jvge_venta_de...  "
      ]
     },
     "execution_count": 14,
     "metadata": {},
     "output_type": "execute_result"
    }
   ],
   "source": [
    "df = wrangle(\"data/buenos-aires-real-estate-1.csv\")\n",
    "print (\"df shape:\", df.shape)\n",
    "df.head()"
   ]
  },
  {
   "cell_type": "code",
   "execution_count": 15,
   "id": "403651e6-141c-4a11-8662-0ea632f05916",
   "metadata": {},
   "outputs": [
    {
     "data": {
      "text/plain": [
       "array(['apartment'], dtype=object)"
      ]
     },
     "execution_count": 15,
     "metadata": {},
     "output_type": "execute_result"
    }
   ],
   "source": [
    "# Should be only apartment\n",
    "df[\"property_type\"].unique()"
   ]
  },
  {
   "cell_type": "markdown",
   "id": "4a5cb35f-c083-4e40-9bfb-597525742341",
   "metadata": {},
   "source": [
    "Now I need to write a function that retrieves apartments that cost less than $400,000 USD."
   ]
  },
  {
   "cell_type": "code",
   "execution_count": 16,
   "id": "43bda00c-4f96-4f9d-bf99-f434634f835b",
   "metadata": {},
   "outputs": [
    {
     "data": {
      "text/plain": [
       "array(['USD', nan, 'ARS'], dtype=object)"
      ]
     },
     "execution_count": 16,
     "metadata": {},
     "output_type": "execute_result"
    }
   ],
   "source": [
    "df[\"currency\"].unique()"
   ]
  },
  {
   "cell_type": "code",
   "execution_count": 17,
   "id": "31dcc1d6-31f9-4e51-b1ff-34e2dc230caa",
   "metadata": {},
   "outputs": [
    {
     "name": "stdout",
     "output_type": "stream",
     "text": [
      "<class 'pandas.core.frame.DataFrame'>\n",
      "Int64Index: 2068 entries, 0 to 8604\n",
      "Data columns (total 16 columns):\n",
      " #   Column                      Non-Null Count  Dtype  \n",
      "---  ------                      --------------  -----  \n",
      " 0   operation                   2068 non-null   object \n",
      " 1   property_type               2068 non-null   object \n",
      " 2   place_with_parent_names     2068 non-null   object \n",
      " 3   lat-lon                     1984 non-null   object \n",
      " 4   price                       1944 non-null   float64\n",
      " 5   currency                    1944 non-null   object \n",
      " 6   price_aprox_local_currency  1944 non-null   float64\n",
      " 7   price_aprox_usd             1944 non-null   float64\n",
      " 8   surface_total_in_m2         1430 non-null   float64\n",
      " 9   surface_covered_in_m2       1859 non-null   float64\n",
      " 10  price_usd_per_m2            1314 non-null   float64\n",
      " 11  price_per_m2                1752 non-null   float64\n",
      " 12  floor                       533 non-null    float64\n",
      " 13  rooms                       1580 non-null   float64\n",
      " 14  expenses                    521 non-null    object \n",
      " 15  properati_url               2068 non-null   object \n",
      "dtypes: float64(9), object(7)\n",
      "memory usage: 274.7+ KB\n"
     ]
    }
   ],
   "source": [
    "df.info()"
   ]
  },
  {
   "cell_type": "code",
   "execution_count": 18,
   "id": "28e59207-411e-4861-b669-769162f79ce8",
   "metadata": {},
   "outputs": [
    {
     "data": {
      "text/plain": [
       "0      True\n",
       "4      True\n",
       "9      True\n",
       "11     True\n",
       "18    False\n",
       "Name: price_aprox_usd, dtype: bool"
      ]
     },
     "execution_count": 18,
     "metadata": {},
     "output_type": "execute_result"
    }
   ],
   "source": [
    "mask_price = df[\"price_aprox_usd\"] < 400_000\n",
    "mask_price.head()"
   ]
  },
  {
   "cell_type": "code",
   "execution_count": 19,
   "id": "b0422d30-0fad-4ae0-8685-e58bd585e936",
   "metadata": {},
   "outputs": [],
   "source": [
    "def wrangle(filepath):\n",
    "    # Read CSV file into DataFrame\n",
    "    df = pd.read_csv(filepath)\n",
    "    \n",
    "    # Subset to properties in \"Capital Federal\"\n",
    "    mask_ba = df[\"place_with_parent_names\"].str.contains(\"Capital Federal\")\n",
    "    \n",
    "    # Subset to \"apartments\"\n",
    "    mask_apt = df[\"property_type\"] == \"apartment\"\n",
    "    \n",
    "    # Subset to properties where \"price_aprox_usd\" < 400,000\n",
    "    mask_price = df[\"price_aprox_usd\"] < 400_000\n",
    "    \n",
    "    df = df[mask_ba & mask_apt & mask_price]\n",
    "    \n",
    "    return df"
   ]
  },
  {
   "cell_type": "code",
   "execution_count": 20,
   "id": "baf127a1-d13b-4cd5-8e85-7dc3bf45091e",
   "metadata": {},
   "outputs": [
    {
     "name": "stdout",
     "output_type": "stream",
     "text": [
      "df shape: (1781, 16)\n"
     ]
    },
    {
     "data": {
      "text/html": [
       "<div>\n",
       "<style scoped>\n",
       "    .dataframe tbody tr th:only-of-type {\n",
       "        vertical-align: middle;\n",
       "    }\n",
       "\n",
       "    .dataframe tbody tr th {\n",
       "        vertical-align: top;\n",
       "    }\n",
       "\n",
       "    .dataframe thead th {\n",
       "        text-align: right;\n",
       "    }\n",
       "</style>\n",
       "<table border=\"1\" class=\"dataframe\">\n",
       "  <thead>\n",
       "    <tr style=\"text-align: right;\">\n",
       "      <th></th>\n",
       "      <th>operation</th>\n",
       "      <th>property_type</th>\n",
       "      <th>place_with_parent_names</th>\n",
       "      <th>lat-lon</th>\n",
       "      <th>price</th>\n",
       "      <th>currency</th>\n",
       "      <th>price_aprox_local_currency</th>\n",
       "      <th>price_aprox_usd</th>\n",
       "      <th>surface_total_in_m2</th>\n",
       "      <th>surface_covered_in_m2</th>\n",
       "      <th>price_usd_per_m2</th>\n",
       "      <th>price_per_m2</th>\n",
       "      <th>floor</th>\n",
       "      <th>rooms</th>\n",
       "      <th>expenses</th>\n",
       "      <th>properati_url</th>\n",
       "    </tr>\n",
       "  </thead>\n",
       "  <tbody>\n",
       "    <tr>\n",
       "      <th>0</th>\n",
       "      <td>sell</td>\n",
       "      <td>apartment</td>\n",
       "      <td>|Argentina|Capital Federal|Villa Crespo|</td>\n",
       "      <td>-34.6047834183,-58.4586812499</td>\n",
       "      <td>180000.0</td>\n",
       "      <td>USD</td>\n",
       "      <td>2729232.0</td>\n",
       "      <td>180000.0</td>\n",
       "      <td>120.0</td>\n",
       "      <td>110.0</td>\n",
       "      <td>1500.000000</td>\n",
       "      <td>1636.363636</td>\n",
       "      <td>NaN</td>\n",
       "      <td>4.0</td>\n",
       "      <td>NaN</td>\n",
       "      <td>http://villa-crespo.properati.com.ar/12egq_ven...</td>\n",
       "    </tr>\n",
       "    <tr>\n",
       "      <th>4</th>\n",
       "      <td>sell</td>\n",
       "      <td>apartment</td>\n",
       "      <td>|Argentina|Capital Federal|Chacarita|</td>\n",
       "      <td>-34.5846508988,-58.4546932614</td>\n",
       "      <td>129000.0</td>\n",
       "      <td>USD</td>\n",
       "      <td>1955949.6</td>\n",
       "      <td>129000.0</td>\n",
       "      <td>76.0</td>\n",
       "      <td>70.0</td>\n",
       "      <td>1697.368421</td>\n",
       "      <td>1842.857143</td>\n",
       "      <td>NaN</td>\n",
       "      <td>NaN</td>\n",
       "      <td>NaN</td>\n",
       "      <td>http://chacarita.properati.com.ar/10qlv_venta_...</td>\n",
       "    </tr>\n",
       "    <tr>\n",
       "      <th>9</th>\n",
       "      <td>sell</td>\n",
       "      <td>apartment</td>\n",
       "      <td>|Argentina|Capital Federal|Villa Luro|</td>\n",
       "      <td>-34.6389789,-58.500115</td>\n",
       "      <td>87000.0</td>\n",
       "      <td>USD</td>\n",
       "      <td>1319128.8</td>\n",
       "      <td>87000.0</td>\n",
       "      <td>48.0</td>\n",
       "      <td>42.0</td>\n",
       "      <td>1812.500000</td>\n",
       "      <td>2071.428571</td>\n",
       "      <td>NaN</td>\n",
       "      <td>NaN</td>\n",
       "      <td>NaN</td>\n",
       "      <td>http://villa-luro.properati.com.ar/12m82_venta...</td>\n",
       "    </tr>\n",
       "    <tr>\n",
       "      <th>11</th>\n",
       "      <td>sell</td>\n",
       "      <td>apartment</td>\n",
       "      <td>|Argentina|Capital Federal|Once|</td>\n",
       "      <td>-34.6050060697,-58.4001162302</td>\n",
       "      <td>60000.0</td>\n",
       "      <td>USD</td>\n",
       "      <td>909744.0</td>\n",
       "      <td>60000.0</td>\n",
       "      <td>28.0</td>\n",
       "      <td>28.0</td>\n",
       "      <td>2142.857143</td>\n",
       "      <td>2142.857143</td>\n",
       "      <td>NaN</td>\n",
       "      <td>1.0</td>\n",
       "      <td>NaN</td>\n",
       "      <td>http://once.properati.com.ar/zz0q_venta_depart...</td>\n",
       "    </tr>\n",
       "    <tr>\n",
       "      <th>20</th>\n",
       "      <td>sell</td>\n",
       "      <td>apartment</td>\n",
       "      <td>|Argentina|Capital Federal|San Nicolás|</td>\n",
       "      <td>-34.603898,-58.378617</td>\n",
       "      <td>69000.0</td>\n",
       "      <td>USD</td>\n",
       "      <td>1046205.6</td>\n",
       "      <td>69000.0</td>\n",
       "      <td>NaN</td>\n",
       "      <td>22.0</td>\n",
       "      <td>NaN</td>\n",
       "      <td>3136.363636</td>\n",
       "      <td>23.0</td>\n",
       "      <td>2.0</td>\n",
       "      <td>NaN</td>\n",
       "      <td>http://san-nicolas.properati.com.ar/rnju_venta...</td>\n",
       "    </tr>\n",
       "  </tbody>\n",
       "</table>\n",
       "</div>"
      ],
      "text/plain": [
       "   operation property_type                   place_with_parent_names  \\\n",
       "0       sell     apartment  |Argentina|Capital Federal|Villa Crespo|   \n",
       "4       sell     apartment     |Argentina|Capital Federal|Chacarita|   \n",
       "9       sell     apartment    |Argentina|Capital Federal|Villa Luro|   \n",
       "11      sell     apartment          |Argentina|Capital Federal|Once|   \n",
       "20      sell     apartment   |Argentina|Capital Federal|San Nicolás|   \n",
       "\n",
       "                          lat-lon     price currency  \\\n",
       "0   -34.6047834183,-58.4586812499  180000.0      USD   \n",
       "4   -34.5846508988,-58.4546932614  129000.0      USD   \n",
       "9          -34.6389789,-58.500115   87000.0      USD   \n",
       "11  -34.6050060697,-58.4001162302   60000.0      USD   \n",
       "20          -34.603898,-58.378617   69000.0      USD   \n",
       "\n",
       "    price_aprox_local_currency  price_aprox_usd  surface_total_in_m2  \\\n",
       "0                    2729232.0         180000.0                120.0   \n",
       "4                    1955949.6         129000.0                 76.0   \n",
       "9                    1319128.8          87000.0                 48.0   \n",
       "11                    909744.0          60000.0                 28.0   \n",
       "20                   1046205.6          69000.0                  NaN   \n",
       "\n",
       "    surface_covered_in_m2  price_usd_per_m2  price_per_m2  floor  rooms  \\\n",
       "0                   110.0       1500.000000   1636.363636    NaN    4.0   \n",
       "4                    70.0       1697.368421   1842.857143    NaN    NaN   \n",
       "9                    42.0       1812.500000   2071.428571    NaN    NaN   \n",
       "11                   28.0       2142.857143   2142.857143    NaN    1.0   \n",
       "20                   22.0               NaN   3136.363636   23.0    2.0   \n",
       "\n",
       "   expenses                                      properati_url  \n",
       "0       NaN  http://villa-crespo.properati.com.ar/12egq_ven...  \n",
       "4       NaN  http://chacarita.properati.com.ar/10qlv_venta_...  \n",
       "9       NaN  http://villa-luro.properati.com.ar/12m82_venta...  \n",
       "11      NaN  http://once.properati.com.ar/zz0q_venta_depart...  \n",
       "20      NaN  http://san-nicolas.properati.com.ar/rnju_venta...  "
      ]
     },
     "execution_count": 20,
     "metadata": {},
     "output_type": "execute_result"
    }
   ],
   "source": [
    "df = wrangle(\"data/buenos-aires-real-estate-1.csv\")\n",
    "print (\"df shape:\", df.shape)\n",
    "df.head()"
   ]
  },
  {
   "cell_type": "markdown",
   "id": "1dc37d3e-d57a-40f0-a0e9-b1aceaa4e815",
   "metadata": {},
   "source": [
    "## Explore"
   ]
  },
  {
   "cell_type": "markdown",
   "id": "462bd4a0-8725-4955-a630-e669d5278dba",
   "metadata": {},
   "source": [
    "Property size is an important factor in determining price. With that in mind, I'm going to take a look at the distribution of apartment sizes in my dataset."
   ]
  },
  {
   "cell_type": "markdown",
   "id": "c0d0480f-710c-4cfa-93e7-f906927eaede",
   "metadata": {},
   "source": [
    "**Area Histogram**"
   ]
  },
  {
   "cell_type": "code",
   "execution_count": 21,
   "id": "5fa7421f-28c0-423c-83ae-8767b6c8009e",
   "metadata": {},
   "outputs": [
    {
     "data": {
      "image/png": "[encoded data removed]",
      "text/plain": [
       "<Figure size 432x288 with 1 Axes>"
      ]
     },
     "metadata": {
      "needs_background": "light"
     },
     "output_type": "display_data"
    }
   ],
   "source": [
    "# Create a histogram of \"surface_covered_in_m2\"\n",
    "plt.hist(df[\"surface_covered_in_m2\"])\n",
    "plt.xlabel([\"Area [sq meters]\"])\n",
    "plt.title(\"Distribution of Apartment Sizes\");"
   ]
  },
  {
   "cell_type": "markdown",
   "id": "b3e40571-caa3-48c9-a429-574b4e18fb60",
   "metadata": {},
   "source": [
    "Histogram like the one above suggests that there are outliers in my dataset. In detail, I have this x-axis that's really long (all the way up to 1600 sq meters) and I can't really see anything. I know that matplotlib creates the axis automatically, there's must a value in my dataset that's really large. Looks like the vast majority of my data is on the left (0 - 500 sq meters)."
   ]
  },
  {
   "cell_type": "markdown",
   "id": "8fa6a3f3-a516-4149-b151-a872aff7a271",
   "metadata": {},
   "source": [
    "**Area Summary Stastics**"
   ]
  },
  {
   "cell_type": "code",
   "execution_count": 22,
   "id": "45398970-2e15-4be1-a48e-34e508d7782b",
   "metadata": {},
   "outputs": [
    {
     "data": {
      "text/html": [
       "<div>\n",
       "<style scoped>\n",
       "    .dataframe tbody tr th:only-of-type {\n",
       "        vertical-align: middle;\n",
       "    }\n",
       "\n",
       "    .dataframe tbody tr th {\n",
       "        vertical-align: top;\n",
       "    }\n",
       "\n",
       "    .dataframe thead th {\n",
       "        text-align: right;\n",
       "    }\n",
       "</style>\n",
       "<table border=\"1\" class=\"dataframe\">\n",
       "  <thead>\n",
       "    <tr style=\"text-align: right;\">\n",
       "      <th></th>\n",
       "      <th>price</th>\n",
       "      <th>price_aprox_local_currency</th>\n",
       "      <th>price_aprox_usd</th>\n",
       "      <th>surface_total_in_m2</th>\n",
       "      <th>surface_covered_in_m2</th>\n",
       "      <th>price_usd_per_m2</th>\n",
       "      <th>price_per_m2</th>\n",
       "      <th>floor</th>\n",
       "      <th>rooms</th>\n",
       "    </tr>\n",
       "  </thead>\n",
       "  <tbody>\n",
       "    <tr>\n",
       "      <th>count</th>\n",
       "      <td>1.781000e+03</td>\n",
       "      <td>1.781000e+03</td>\n",
       "      <td>1781.000000</td>\n",
       "      <td>1247.000000</td>\n",
       "      <td>1635.000000</td>\n",
       "      <td>1198.000000</td>\n",
       "      <td>1618.000000</td>\n",
       "      <td>482.000000</td>\n",
       "      <td>1385.000000</td>\n",
       "    </tr>\n",
       "    <tr>\n",
       "      <th>mean</th>\n",
       "      <td>2.285410e+05</td>\n",
       "      <td>2.178037e+06</td>\n",
       "      <td>143647.215239</td>\n",
       "      <td>114.417001</td>\n",
       "      <td>97.877064</td>\n",
       "      <td>2231.534726</td>\n",
       "      <td>4340.345113</td>\n",
       "      <td>10.085062</td>\n",
       "      <td>2.434657</td>\n",
       "    </tr>\n",
       "    <tr>\n",
       "      <th>std</th>\n",
       "      <td>4.100189e+05</td>\n",
       "      <td>1.141710e+06</td>\n",
       "      <td>75298.758506</td>\n",
       "      <td>1755.263895</td>\n",
       "      <td>1533.057610</td>\n",
       "      <td>650.139587</td>\n",
       "      <td>8126.940810</td>\n",
       "      <td>44.783320</td>\n",
       "      <td>1.065193</td>\n",
       "    </tr>\n",
       "    <tr>\n",
       "      <th>min</th>\n",
       "      <td>0.000000e+00</td>\n",
       "      <td>0.000000e+00</td>\n",
       "      <td>0.000000</td>\n",
       "      <td>0.000000</td>\n",
       "      <td>0.000000</td>\n",
       "      <td>0.000000</td>\n",
       "      <td>2.224587</td>\n",
       "      <td>1.000000</td>\n",
       "      <td>1.000000</td>\n",
       "    </tr>\n",
       "    <tr>\n",
       "      <th>25%</th>\n",
       "      <td>9.000000e+04</td>\n",
       "      <td>1.349454e+06</td>\n",
       "      <td>89000.000000</td>\n",
       "      <td>40.000000</td>\n",
       "      <td>38.000000</td>\n",
       "      <td>1815.485830</td>\n",
       "      <td>1973.750000</td>\n",
       "      <td>2.000000</td>\n",
       "      <td>2.000000</td>\n",
       "    </tr>\n",
       "    <tr>\n",
       "      <th>50%</th>\n",
       "      <td>1.300000e+05</td>\n",
       "      <td>1.849813e+06</td>\n",
       "      <td>122000.000000</td>\n",
       "      <td>55.000000</td>\n",
       "      <td>50.000000</td>\n",
       "      <td>2151.642336</td>\n",
       "      <td>2411.239496</td>\n",
       "      <td>4.000000</td>\n",
       "      <td>2.000000</td>\n",
       "    </tr>\n",
       "    <tr>\n",
       "      <th>75%</th>\n",
       "      <td>1.911340e+05</td>\n",
       "      <td>2.653420e+06</td>\n",
       "      <td>175000.000000</td>\n",
       "      <td>79.000000</td>\n",
       "      <td>73.000000</td>\n",
       "      <td>2577.003583</td>\n",
       "      <td>2958.157462</td>\n",
       "      <td>7.000000</td>\n",
       "      <td>3.000000</td>\n",
       "    </tr>\n",
       "    <tr>\n",
       "      <th>max</th>\n",
       "      <td>5.487000e+06</td>\n",
       "      <td>6.034635e+06</td>\n",
       "      <td>398000.000000</td>\n",
       "      <td>62034.000000</td>\n",
       "      <td>62034.000000</td>\n",
       "      <td>5975.609756</td>\n",
       "      <td>57156.250000</td>\n",
       "      <td>616.000000</td>\n",
       "      <td>6.000000</td>\n",
       "    </tr>\n",
       "  </tbody>\n",
       "</table>\n",
       "</div>"
      ],
      "text/plain": [
       "              price  price_aprox_local_currency  price_aprox_usd  \\\n",
       "count  1.781000e+03                1.781000e+03      1781.000000   \n",
       "mean   2.285410e+05                2.178037e+06    143647.215239   \n",
       "std    4.100189e+05                1.141710e+06     75298.758506   \n",
       "min    0.000000e+00                0.000000e+00         0.000000   \n",
       "25%    9.000000e+04                1.349454e+06     89000.000000   \n",
       "50%    1.300000e+05                1.849813e+06    122000.000000   \n",
       "75%    1.911340e+05                2.653420e+06    175000.000000   \n",
       "max    5.487000e+06                6.034635e+06    398000.000000   \n",
       "\n",
       "       surface_total_in_m2  surface_covered_in_m2  price_usd_per_m2  \\\n",
       "count          1247.000000            1635.000000       1198.000000   \n",
       "mean            114.417001              97.877064       2231.534726   \n",
       "std            1755.263895            1533.057610        650.139587   \n",
       "min               0.000000               0.000000          0.000000   \n",
       "25%              40.000000              38.000000       1815.485830   \n",
       "50%              55.000000              50.000000       2151.642336   \n",
       "75%              79.000000              73.000000       2577.003583   \n",
       "max           62034.000000           62034.000000       5975.609756   \n",
       "\n",
       "       price_per_m2       floor        rooms  \n",
       "count   1618.000000  482.000000  1385.000000  \n",
       "mean    4340.345113   10.085062     2.434657  \n",
       "std     8126.940810   44.783320     1.065193  \n",
       "min        2.224587    1.000000     1.000000  \n",
       "25%     1973.750000    2.000000     2.000000  \n",
       "50%     2411.239496    4.000000     2.000000  \n",
       "75%     2958.157462    7.000000     3.000000  \n",
       "max    57156.250000  616.000000     6.000000  "
      ]
     },
     "execution_count": 22,
     "metadata": {},
     "output_type": "execute_result"
    }
   ],
   "source": [
    "# Calculate the summary statistics for df using the describe method\n",
    "df.describe()"
   ]
  },
  {
   "cell_type": "code",
   "execution_count": 23,
   "id": "b2293e6e-6f97-42ff-b47e-e05f6330790d",
   "metadata": {},
   "outputs": [
    {
     "data": {
      "text/plain": [
       "count     1635.000000\n",
       "mean        97.877064\n",
       "std       1533.057610\n",
       "min          0.000000\n",
       "25%         38.000000\n",
       "50%         50.000000\n",
       "75%         73.000000\n",
       "max      62034.000000\n",
       "Name: surface_covered_in_m2, dtype: float64"
      ]
     },
     "execution_count": 23,
     "metadata": {},
     "output_type": "execute_result"
    }
   ],
   "source": [
    "# Look at the summary statistics for the \"surface_covered_in_m2\" feature\n",
    "df.describe()[\"surface_covered_in_m2\"]"
   ]
  },
  {
   "cell_type": "markdown",
   "id": "729cafd7-6304-48c4-b558-2a4b27541caa",
   "metadata": {},
   "source": [
    " - Above doesn't make sense because you can't have an argument with an area of 0\n",
    " - I have a huge maximum value of 62034 while the mean is 97\n",
    " - This points to I have a spread out data (skewed)\n",
    " - My Standard Deviation is 1533 while the mean is around a 100. This is a really skewed data (confirming what I  saw in the histogram)\n",
    " - The statistics above confirm what I suspected. While most of the apartments in my dataset are smaller that 73 square meters, there are some that are several thousand square meters\n",
    " - I need more data cleaning and the best thing to do is to change my wrangle function and remove them from the dataset"
   ]
  },
  {
   "cell_type": "markdown",
   "id": "f89291d2-9ff2-4e65-ace3-67378153e0f9",
   "metadata": {},
   "source": [
    "**Remove Outliers**"
   ]
  },
  {
   "cell_type": "code",
   "execution_count": 24,
   "id": "44f927cc-758c-471f-a697-34dea2745241",
   "metadata": {},
   "outputs": [
    {
     "data": {
      "text/plain": [
       "0.1     31.0\n",
       "0.9    100.0\n",
       "Name: surface_covered_in_m2, dtype: float64"
      ]
     },
     "execution_count": 24,
     "metadata": {},
     "output_type": "execute_result"
    }
   ],
   "source": [
    "# All observations should fall between the 0.1 and 0.9 quantiles for \"surface_covered_in_m2\"\n",
    "df[\"surface_covered_in_m2\"].quantile([0.1, 0.9])"
   ]
  },
  {
   "cell_type": "code",
   "execution_count": 25,
   "id": "87ccba34-9833-4da2-9bea-9f06d3b67fc8",
   "metadata": {},
   "outputs": [
    {
     "data": {
      "text/plain": [
       "31.0"
      ]
     },
     "execution_count": 25,
     "metadata": {},
     "output_type": "execute_result"
    }
   ],
   "source": [
    "low, high = df[\"surface_covered_in_m2\"].quantile([0.1, 0.9])\n",
    "low"
   ]
  },
  {
   "cell_type": "code",
   "execution_count": 26,
   "id": "aa11f3fb-fe1e-4985-9f45-b2e5b835ae23",
   "metadata": {},
   "outputs": [
    {
     "data": {
      "text/plain": [
       "100.0"
      ]
     },
     "execution_count": 26,
     "metadata": {},
     "output_type": "execute_result"
    }
   ],
   "source": [
    "low, high = df[\"surface_covered_in_m2\"].quantile([0.1, 0.9])\n",
    "high"
   ]
  },
  {
   "cell_type": "code",
   "execution_count": 27,
   "id": "af927fae-07aa-480a-bbdb-93a063e4e8fe",
   "metadata": {},
   "outputs": [
    {
     "data": {
      "text/plain": [
       "0     False\n",
       "4      True\n",
       "9      True\n",
       "11    False\n",
       "20    False\n",
       "Name: surface_covered_in_m2, dtype: bool"
      ]
     },
     "execution_count": 27,
     "metadata": {},
     "output_type": "execute_result"
    }
   ],
   "source": [
    "mask_area = df[\"surface_covered_in_m2\"].between(low,high)\n",
    "mask_area.head()"
   ]
  },
  {
   "cell_type": "code",
   "execution_count": 28,
   "id": "04df1326-a2d3-4e1f-96fa-e206ec2f01ab",
   "metadata": {},
   "outputs": [],
   "source": [
    "# Add to wrangle function so that it removes observations that are outliers in the \"surface_covered_in_m2\"\n",
    "\n",
    "def wrangle(filepath):\n",
    "    # Read CSV file into DataFrame\n",
    "    df = pd.read_csv(filepath)\n",
    "    \n",
    "    # Subset to properties in \"Capital Federal\"\n",
    "    mask_ba = df[\"place_with_parent_names\"].str.contains(\"Capital Federal\")\n",
    "    \n",
    "    # Subset to \"apartments\"\n",
    "    mask_apt = df[\"property_type\"] == \"apartment\"\n",
    "    \n",
    "    # Subset to properties where \"price_aprox_usd\" < 400,000\n",
    "    mask_price = df[\"price_aprox_usd\"] < 400_000\n",
    "    \n",
    "    # Subset\n",
    "    df = df[mask_ba & mask_apt & mask_price]\n",
    "    \n",
    "    # Remove outliers by \"surface_covered_in_m2\"\n",
    "    low, high = df[\"surface_covered_in_m2\"].quantile([0.1, 0.9])\n",
    "    mask_area = df[\"surface_covered_in_m2\"].between(low,high)\n",
    "    df = df[mask_area]\n",
    "    \n",
    "    return df"
   ]
  },
  {
   "cell_type": "code",
   "execution_count": 29,
   "id": "1d07c738-9a99-457d-a796-b9474020ea7c",
   "metadata": {},
   "outputs": [
    {
     "name": "stdout",
     "output_type": "stream",
     "text": [
      "df shape: (1343, 16)\n"
     ]
    },
    {
     "data": {
      "text/html": [
       "<div>\n",
       "<style scoped>\n",
       "    .dataframe tbody tr th:only-of-type {\n",
       "        vertical-align: middle;\n",
       "    }\n",
       "\n",
       "    .dataframe tbody tr th {\n",
       "        vertical-align: top;\n",
       "    }\n",
       "\n",
       "    .dataframe thead th {\n",
       "        text-align: right;\n",
       "    }\n",
       "</style>\n",
       "<table border=\"1\" class=\"dataframe\">\n",
       "  <thead>\n",
       "    <tr style=\"text-align: right;\">\n",
       "      <th></th>\n",
       "      <th>operation</th>\n",
       "      <th>property_type</th>\n",
       "      <th>place_with_parent_names</th>\n",
       "      <th>lat-lon</th>\n",
       "      <th>price</th>\n",
       "      <th>currency</th>\n",
       "      <th>price_aprox_local_currency</th>\n",
       "      <th>price_aprox_usd</th>\n",
       "      <th>surface_total_in_m2</th>\n",
       "      <th>surface_covered_in_m2</th>\n",
       "      <th>price_usd_per_m2</th>\n",
       "      <th>price_per_m2</th>\n",
       "      <th>floor</th>\n",
       "      <th>rooms</th>\n",
       "      <th>expenses</th>\n",
       "      <th>properati_url</th>\n",
       "    </tr>\n",
       "  </thead>\n",
       "  <tbody>\n",
       "    <tr>\n",
       "      <th>4</th>\n",
       "      <td>sell</td>\n",
       "      <td>apartment</td>\n",
       "      <td>|Argentina|Capital Federal|Chacarita|</td>\n",
       "      <td>-34.5846508988,-58.4546932614</td>\n",
       "      <td>129000.0</td>\n",
       "      <td>USD</td>\n",
       "      <td>1955949.6</td>\n",
       "      <td>129000.0</td>\n",
       "      <td>76.0</td>\n",
       "      <td>70.0</td>\n",
       "      <td>1697.368421</td>\n",
       "      <td>1842.857143</td>\n",
       "      <td>NaN</td>\n",
       "      <td>NaN</td>\n",
       "      <td>NaN</td>\n",
       "      <td>http://chacarita.properati.com.ar/10qlv_venta_...</td>\n",
       "    </tr>\n",
       "    <tr>\n",
       "      <th>9</th>\n",
       "      <td>sell</td>\n",
       "      <td>apartment</td>\n",
       "      <td>|Argentina|Capital Federal|Villa Luro|</td>\n",
       "      <td>-34.6389789,-58.500115</td>\n",
       "      <td>87000.0</td>\n",
       "      <td>USD</td>\n",
       "      <td>1319128.8</td>\n",
       "      <td>87000.0</td>\n",
       "      <td>48.0</td>\n",
       "      <td>42.0</td>\n",
       "      <td>1812.500000</td>\n",
       "      <td>2071.428571</td>\n",
       "      <td>NaN</td>\n",
       "      <td>NaN</td>\n",
       "      <td>NaN</td>\n",
       "      <td>http://villa-luro.properati.com.ar/12m82_venta...</td>\n",
       "    </tr>\n",
       "    <tr>\n",
       "      <th>29</th>\n",
       "      <td>sell</td>\n",
       "      <td>apartment</td>\n",
       "      <td>|Argentina|Capital Federal|Caballito|</td>\n",
       "      <td>-34.615847,-58.459957</td>\n",
       "      <td>118000.0</td>\n",
       "      <td>USD</td>\n",
       "      <td>1789163.2</td>\n",
       "      <td>118000.0</td>\n",
       "      <td>NaN</td>\n",
       "      <td>54.0</td>\n",
       "      <td>NaN</td>\n",
       "      <td>2185.185185</td>\n",
       "      <td>NaN</td>\n",
       "      <td>2.0</td>\n",
       "      <td>NaN</td>\n",
       "      <td>http://caballito.properati.com.ar/11wqh_venta_...</td>\n",
       "    </tr>\n",
       "    <tr>\n",
       "      <th>40</th>\n",
       "      <td>sell</td>\n",
       "      <td>apartment</td>\n",
       "      <td>|Argentina|Capital Federal|Constitución|</td>\n",
       "      <td>-34.6252219,-58.3823825</td>\n",
       "      <td>57000.0</td>\n",
       "      <td>USD</td>\n",
       "      <td>864256.8</td>\n",
       "      <td>57000.0</td>\n",
       "      <td>42.0</td>\n",
       "      <td>42.0</td>\n",
       "      <td>1357.142857</td>\n",
       "      <td>1357.142857</td>\n",
       "      <td>5.0</td>\n",
       "      <td>2.0</td>\n",
       "      <td>364</td>\n",
       "      <td>http://constitucion.properati.com.ar/k2f0_vent...</td>\n",
       "    </tr>\n",
       "    <tr>\n",
       "      <th>41</th>\n",
       "      <td>sell</td>\n",
       "      <td>apartment</td>\n",
       "      <td>|Argentina|Capital Federal|Once|</td>\n",
       "      <td>-34.6106102,-58.4125107</td>\n",
       "      <td>90000.0</td>\n",
       "      <td>USD</td>\n",
       "      <td>1364616.0</td>\n",
       "      <td>90000.0</td>\n",
       "      <td>57.0</td>\n",
       "      <td>50.0</td>\n",
       "      <td>1578.947368</td>\n",
       "      <td>1800.000000</td>\n",
       "      <td>NaN</td>\n",
       "      <td>3.0</td>\n",
       "      <td>450</td>\n",
       "      <td>http://once.properati.com.ar/suwa_venta_depart...</td>\n",
       "    </tr>\n",
       "  </tbody>\n",
       "</table>\n",
       "</div>"
      ],
      "text/plain": [
       "   operation property_type                   place_with_parent_names  \\\n",
       "4       sell     apartment     |Argentina|Capital Federal|Chacarita|   \n",
       "9       sell     apartment    |Argentina|Capital Federal|Villa Luro|   \n",
       "29      sell     apartment     |Argentina|Capital Federal|Caballito|   \n",
       "40      sell     apartment  |Argentina|Capital Federal|Constitución|   \n",
       "41      sell     apartment          |Argentina|Capital Federal|Once|   \n",
       "\n",
       "                          lat-lon     price currency  \\\n",
       "4   -34.5846508988,-58.4546932614  129000.0      USD   \n",
       "9          -34.6389789,-58.500115   87000.0      USD   \n",
       "29          -34.615847,-58.459957  118000.0      USD   \n",
       "40        -34.6252219,-58.3823825   57000.0      USD   \n",
       "41        -34.6106102,-58.4125107   90000.0      USD   \n",
       "\n",
       "    price_aprox_local_currency  price_aprox_usd  surface_total_in_m2  \\\n",
       "4                    1955949.6         129000.0                 76.0   \n",
       "9                    1319128.8          87000.0                 48.0   \n",
       "29                   1789163.2         118000.0                  NaN   \n",
       "40                    864256.8          57000.0                 42.0   \n",
       "41                   1364616.0          90000.0                 57.0   \n",
       "\n",
       "    surface_covered_in_m2  price_usd_per_m2  price_per_m2  floor  rooms  \\\n",
       "4                    70.0       1697.368421   1842.857143    NaN    NaN   \n",
       "9                    42.0       1812.500000   2071.428571    NaN    NaN   \n",
       "29                   54.0               NaN   2185.185185    NaN    2.0   \n",
       "40                   42.0       1357.142857   1357.142857    5.0    2.0   \n",
       "41                   50.0       1578.947368   1800.000000    NaN    3.0   \n",
       "\n",
       "   expenses                                      properati_url  \n",
       "4       NaN  http://chacarita.properati.com.ar/10qlv_venta_...  \n",
       "9       NaN  http://villa-luro.properati.com.ar/12m82_venta...  \n",
       "29      NaN  http://caballito.properati.com.ar/11wqh_venta_...  \n",
       "40      364  http://constitucion.properati.com.ar/k2f0_vent...  \n",
       "41      450  http://once.properati.com.ar/suwa_venta_depart...  "
      ]
     },
     "execution_count": 29,
     "metadata": {},
     "output_type": "execute_result"
    }
   ],
   "source": [
    "df = wrangle(\"data/buenos-aires-real-estate-1.csv\")\n",
    "print(\"df shape:\", df.shape)\n",
    "df.head()"
   ]
  },
  {
   "cell_type": "code",
   "execution_count": 30,
   "id": "bb7b51ac-ff43-4905-9edc-18a9441e42bf",
   "metadata": {},
   "outputs": [
    {
     "data": {
      "image/png": "[encoded data removed]",
      "text/plain": [
       "<Figure size 432x288 with 1 Axes>"
      ]
     },
     "metadata": {
      "needs_background": "light"
     },
     "output_type": "display_data"
    }
   ],
   "source": [
    "# Create a histogram of \"surface_covered_in_m2\"\n",
    "plt.hist(df[\"surface_covered_in_m2\"])\n",
    "plt.xlabel([\"Area [sq meters]\"])\n",
    "plt.title(\"Distribution of Apartment Sizes\");"
   ]
  },
  {
   "cell_type": "markdown",
   "id": "3445eb51-5bf0-4f1b-97cc-cc32a3fb7574",
   "metadata": {},
   "source": [
    "Now that my dataset is free of outliers, it's time to start exploring the relationship between apartment size and price. "
   ]
  },
  {
   "cell_type": "markdown",
   "id": "add9d620-8b06-4176-806e-0d0fc44699f8",
   "metadata": {},
   "source": [
    "**Price vs Area Scatter Plot**"
   ]
  },
  {
   "cell_type": "code",
   "execution_count": 31,
   "id": "eb4ff787-1e20-4f30-880b-07c98417fd80",
   "metadata": {},
   "outputs": [
    {
     "data": {
      "image/png": "[encoded data removed]",
      "text/plain": [
       "<Figure size 432x288 with 1 Axes>"
      ]
     },
     "metadata": {
      "needs_background": "light"
     },
     "output_type": "display_data"
    }
   ],
   "source": [
    "# Create a scatter plot that shows price (\"price_aprox_usd\") vs area (\"surface_covered_in_m2\") in my dataset\n",
    "plt.scatter(x=df[\"surface_covered_in_m2\"], y=df[\"price_aprox_usd\"])\n",
    "plt.xlabel(\"Area [sq meters]\")\n",
    "plt.ylabel(\"Price [USD]\")\n",
    "plt.title(\"Buenos Aires: Price vs. Area\");"
   ]
  },
  {
   "cell_type": "markdown",
   "id": "de78e025-933d-4b4e-a9a1-d38b9cfb37ab",
   "metadata": {},
   "source": [
    "This plot suggests that there's a moderate positive correlation between apartment price and size. This means that if the thing I want to predict is price, size will be a good feature to include.\n",
    "\n",
    "I see a stronger correlation (clear line in the lower end) where it indicates that the area helps determine the price of an apartment."
   ]
  },
  {
   "cell_type": "markdown",
   "id": "52e2e6d7-3e1d-4840-b936-fcf0f3cc4366",
   "metadata": {},
   "source": [
    "## Split"
   ]
  },
  {
   "cell_type": "markdown",
   "id": "6c581451-2d96-445c-9f15-439ac9aa6ea2",
   "metadata": {},
   "source": [
    "In this part of model-building project, I will be separating my target (the thing I want to predict) from my features (the information my model will use to make its predictions). Since this is my first model, I'll use just one feature: apartment size."
   ]
  },
  {
   "cell_type": "markdown",
   "id": "29bfc1e4-7071-4fab-99cd-f77bc9b90f81",
   "metadata": {},
   "source": [
    "**Split Data: Feature Matrix**"
   ]
  },
  {
   "cell_type": "code",
   "execution_count": 32,
   "id": "8d2e9122-2272-428e-9b7b-0ceb60d4dbab",
   "metadata": {},
   "outputs": [
    {
     "data": {
      "text/html": [
       "<div>\n",
       "<style scoped>\n",
       "    .dataframe tbody tr th:only-of-type {\n",
       "        vertical-align: middle;\n",
       "    }\n",
       "\n",
       "    .dataframe tbody tr th {\n",
       "        vertical-align: top;\n",
       "    }\n",
       "\n",
       "    .dataframe thead th {\n",
       "        text-align: right;\n",
       "    }\n",
       "</style>\n",
       "<table border=\"1\" class=\"dataframe\">\n",
       "  <thead>\n",
       "    <tr style=\"text-align: right;\">\n",
       "      <th></th>\n",
       "      <th>surface_covered_in_m2</th>\n",
       "    </tr>\n",
       "  </thead>\n",
       "  <tbody>\n",
       "    <tr>\n",
       "      <th>4</th>\n",
       "      <td>70.0</td>\n",
       "    </tr>\n",
       "    <tr>\n",
       "      <th>9</th>\n",
       "      <td>42.0</td>\n",
       "    </tr>\n",
       "    <tr>\n",
       "      <th>29</th>\n",
       "      <td>54.0</td>\n",
       "    </tr>\n",
       "    <tr>\n",
       "      <th>40</th>\n",
       "      <td>42.0</td>\n",
       "    </tr>\n",
       "    <tr>\n",
       "      <th>41</th>\n",
       "      <td>50.0</td>\n",
       "    </tr>\n",
       "  </tbody>\n",
       "</table>\n",
       "</div>"
      ],
      "text/plain": [
       "    surface_covered_in_m2\n",
       "4                    70.0\n",
       "9                    42.0\n",
       "29                   54.0\n",
       "40                   42.0\n",
       "41                   50.0"
      ]
     },
     "execution_count": 32,
     "metadata": {},
     "output_type": "execute_result"
    }
   ],
   "source": [
    "# Create the feature matrix named X_train, which I'll use to train my model\n",
    "features = [\"surface_covered_in_m2\"] # It should contain one feature only: [\"surface_covered_in_m2\"]\n",
    "X_train = df[features] # Feature matrix should always be two-dimensional\n",
    "X_train.head()"
   ]
  },
  {
   "cell_type": "markdown",
   "id": "1db0adf0-3fee-4159-8f3f-90595568f84c",
   "metadata": {},
   "source": [
    "Above looks like a DataFrame and not a series. So I know that if it's a DataFrame, it's a matrix."
   ]
  },
  {
   "cell_type": "code",
   "execution_count": 33,
   "id": "0cebe6a1-dfc6-466d-ba04-5ca8e644ba91",
   "metadata": {},
   "outputs": [
    {
     "data": {
      "text/plain": [
       "(1343, 1)"
      ]
     },
     "execution_count": 33,
     "metadata": {},
     "output_type": "execute_result"
    }
   ],
   "source": [
    "X_train.shape"
   ]
  },
  {
   "cell_type": "markdown",
   "id": "5dd987ca-efdf-497a-bd44-3c4bb7c7c3fd",
   "metadata": {},
   "source": [
    "I have 1343 rows and 1 column. Even though there's only one column, it's still two dimensional.\n",
    "Now that I have features, the next step is to create a target. \n",
    "\n",
    "I'm adding a _train tag to the variable names for my feature matrix and target vector. This is to remind me that this is the data I'll use to train my model, and not the data I'll use to test it."
   ]
  },
  {
   "cell_type": "markdown",
   "id": "a8b55fef-0c5e-45c2-aa00-083ae85fded2",
   "metadata": {},
   "source": [
    "**Split Data: Target Vector**"
   ]
  },
  {
   "cell_type": "code",
   "execution_count": 34,
   "id": "039f28e7-fb35-432b-8958-5a8daa586233",
   "metadata": {},
   "outputs": [
    {
     "data": {
      "text/plain": [
       "4     129000.0\n",
       "9      87000.0\n",
       "29    118000.0\n",
       "40     57000.0\n",
       "41     90000.0\n",
       "Name: price_aprox_usd, dtype: float64"
      ]
     },
     "execution_count": 34,
     "metadata": {},
     "output_type": "execute_result"
    }
   ],
   "source": [
    "# Create the target vector named y_train, which I'll use to train my model\n",
    "target = \"price_aprox_usd\" # Target should be \"price_aprox_usd\"\n",
    "y_train = df[target]\n",
    "y_train.head()"
   ]
  },
  {
   "cell_type": "markdown",
   "id": "15cd6e25-608b-476d-b13c-84bc3f94a71a",
   "metadata": {},
   "source": [
    "Before with features, I had a list. Now for my target, I'm just doing the string. This is important because above is a series and not a DataFrame. "
   ]
  },
  {
   "cell_type": "code",
   "execution_count": 35,
   "id": "5ed9d5dd-e358-4695-8fd7-81c8358597b0",
   "metadata": {},
   "outputs": [
    {
     "data": {
      "text/plain": [
       "(1343,)"
      ]
     },
     "execution_count": 35,
     "metadata": {},
     "output_type": "execute_result"
    }
   ],
   "source": [
    "y_train.shape"
   ]
  },
  {
   "cell_type": "markdown",
   "id": "3de29f94-31f4-4721-ad4f-157b8f951f35",
   "metadata": {},
   "source": [
    "I have 1343 values in it but after the commma, there is nothing. This is only one dimension and tells me it's a vector."
   ]
  },
  {
   "cell_type": "markdown",
   "id": "b4af23de-2280-4b39-8654-aa45633c995c",
   "metadata": {},
   "source": [
    "# Build Model"
   ]
  },
  {
   "cell_type": "markdown",
   "id": "b9db0942-145e-4fb7-9893-feabb3f6dc19",
   "metadata": {},
   "source": [
    "## Baseline"
   ]
  },
  {
   "cell_type": "markdown",
   "id": "1c3f9f13-5705-4359-9013-16ae47f4a5a7",
   "metadata": {},
   "source": [
    "GOAL: Build a model that predicts the same price regardless of an apartment's size. \n",
    " - This is a regression problem (the thing I'm trying to predict, the \"target\", is a continous value\n",
    " - In order to set my baseline, I need to find what is the main value for y_train\n",
    " - Baseline = Dumb Model \n",
    " - Make the mean price the prediction"
   ]
  },
  {
   "cell_type": "markdown",
   "id": "df384e69-404b-4cf2-baad-5d7d5f13b854",
   "metadata": {},
   "source": [
    "**Baseline: Calculate Mean**"
   ]
  },
  {
   "cell_type": "code",
   "execution_count": 36,
   "id": "ecec5fda-d3a7-4d4e-8f6a-90cb9deec7ae",
   "metadata": {},
   "outputs": [
    {
     "data": {
      "text/plain": [
       "135527.83871928515"
      ]
     },
     "execution_count": 36,
     "metadata": {},
     "output_type": "execute_result"
    }
   ],
   "source": [
    "# Calculate the mean of target vector y_train and assign it to the variable y_mean\n",
    "y_mean = y_train.mean()\n",
    "y_mean"
   ]
  },
  {
   "cell_type": "markdown",
   "id": "5b471d27-b447-4e24-ba40-b283efe97464",
   "metadata": {},
   "source": [
    "Above is the mean apartment price."
   ]
  },
  {
   "cell_type": "markdown",
   "id": "3dcbdaa5-4652-40a7-a759-fb3a37beaeaa",
   "metadata": {},
   "source": [
    "Now that I have the one prediction that my dumb model will always make, I need to generate a list that repeats the prediction for every observation in my dataset."
   ]
  },
  {
   "cell_type": "markdown",
   "id": "ba182fdf-0016-44de-9ae6-7cb7275c0951",
   "metadata": {},
   "source": [
    "**Baseline: Prediction List**"
   ]
  },
  {
   "cell_type": "code",
   "execution_count": 37,
   "id": "fde1274d-fc59-4293-9f68-1846b613070d",
   "metadata": {},
   "outputs": [
    {
     "data": {
      "text/plain": [
       "135527.83871928515"
      ]
     },
     "execution_count": 37,
     "metadata": {},
     "output_type": "execute_result"
    }
   ],
   "source": [
    "# Create a list named y_pred_baseline containing the value of y_mean repeated so it's the same length at y\n",
    "y_pred_baseline = y_mean\n",
    "y_pred_baseline"
   ]
  },
  {
   "cell_type": "code",
   "execution_count": 38,
   "id": "a5540c7f-396c-4e31-b4d7-231d953cffef",
   "metadata": {},
   "outputs": [
    {
     "data": {
      "text/plain": [
       "[135527.83871928515]"
      ]
     },
     "execution_count": 38,
     "metadata": {},
     "output_type": "execute_result"
    }
   ],
   "source": [
    "# I actually need a list so take y_mean and put it inside a list\n",
    "y_pred_baseline = [y_mean]\n",
    "y_pred_baseline"
   ]
  },
  {
   "cell_type": "code",
   "execution_count": 39,
   "id": "6a40f3c7-5b69-4aa9-ad4e-acb9f3e66741",
   "metadata": {},
   "outputs": [
    {
     "data": {
      "text/plain": [
       "1343"
      ]
     },
     "execution_count": 39,
     "metadata": {},
     "output_type": "execute_result"
    }
   ],
   "source": [
    "# Multiply it by the length of y_train\n",
    "y_pred_baseline = [y_mean] * len(y_train)\n",
    "len(y_pred_baseline)"
   ]
  },
  {
   "cell_type": "code",
   "execution_count": 40,
   "id": "a1672a5b-e007-4f65-a09a-81ed0c4b4099",
   "metadata": {},
   "outputs": [
    {
     "data": {
      "text/plain": [
       "True"
      ]
     },
     "execution_count": 40,
     "metadata": {},
     "output_type": "execute_result"
    }
   ],
   "source": [
    "# Making sure above is the samze size as my y_train\n",
    "y_pred_baseline = [y_mean] * len(y_train)\n",
    "len(y_pred_baseline) == len(y_train)"
   ]
  },
  {
   "cell_type": "markdown",
   "id": "f0f0821d-28de-49fb-9642-88484175100b",
   "metadata": {},
   "source": [
    "In order to find out what my baseline model perform, I can plot it on top of the scatter plot I made above."
   ]
  },
  {
   "cell_type": "markdown",
   "id": "e3663194-e9fb-4a23-b9a7-3b83c26a4313",
   "metadata": {},
   "source": [
    "**Baseline: Scatter Plot**"
   ]
  },
  {
   "cell_type": "code",
   "execution_count": 41,
   "id": "e4c93236-ea2e-4a9b-b468-03e11e055998",
   "metadata": {},
   "outputs": [
    {
     "data": {
      "image/png": "[encoded data removed]",
      "text/plain": [
       "<Figure size 432x288 with 1 Axes>"
      ]
     },
     "metadata": {
      "needs_background": "light"
     },
     "output_type": "display_data"
    }
   ],
   "source": [
    "# Show relationship between the observations X_train and my dumb model's predictions y_pred_baseline\n",
    "plt.plot(X_train, y_pred_baseline, color=\"orange\", label=\"Baseline Model\")\n",
    "plt.scatter(X_train, y_train)\n",
    "plt.xlabel(\"Area [sq meters]\")\n",
    "plt.ylabel(\"Price [USD]\")\n",
    "plt.title(\"Buenos Aires: Price vs. Area\")\n",
    "plt.legend();"
   ]
  },
  {
   "cell_type": "markdown",
   "id": "07c53d55-3720-4c5c-8d01-89fc40ed71fe",
   "metadata": {},
   "source": [
    "As I move right to left, the area of a house increases. The size of the house increases and I can see that no matter what the size of the house, my model is always going to predict the same thing over and over again as it's my dumb model.\n",
    "\n",
    "So graphing my prediction (my model as a function as a graph), I see a horizontal line.\n",
    "\n",
    "Looking at this visualization, it seems like my baseline model doesn't really follow the trend in the data. So it doesn't look like it's a great fit. But, one can't depend only on a subjective plot to evaluate a model. \n",
    "\n",
    "I need an exact (mathematically calculate **performance metric**). There are lots of performance metrics, but the one I'll use here is the **mean absolute error**.  "
   ]
  },
  {
   "cell_type": "markdown",
   "id": "fb0fe367-2a7d-4df6-ab6a-a88ee3b935b2",
   "metadata": {},
   "source": [
    "**Baseline: Mean Absolute Error**"
   ]
  },
  {
   "cell_type": "code",
   "execution_count": 42,
   "id": "5613150d-0cab-4539-b511-55887d9b4f62",
   "metadata": {},
   "outputs": [
    {
     "name": "stdout",
     "output_type": "stream",
     "text": [
      "Mean apt price: 135527.84\n",
      "Baseline MAE: 45199.46\n"
     ]
    }
   ],
   "source": [
    "# Calculate the baseline mean absolute error for predictions in y_pred_baseline as compared to the true targets in y\n",
    "\n",
    "mae_baseline = mean_absolute_error(y_train, y_pred_baseline)\n",
    "\n",
    "print(\"Mean apt price:\", round(y_mean, 2))\n",
    "print(\"Baseline MAE:\", round(mae_baseline, 2))"
   ]
  },
  {
   "cell_type": "markdown",
   "id": "14b30f6a-9055-4434-826b-2da6ea7c57ff",
   "metadata": {},
   "source": [
    "The information above tells me that if I always predicted that an apartment price is \\\\$135,527.84, my predictions would be off by an average of $45,199.46. \n",
    "\n",
    "It also tells me that my model needs to have mean absolute error below \\\\$45,199.46 in order to be useful. "
   ]
  },
  {
   "cell_type": "markdown",
   "id": "2c81dfd4-6d07-4a1c-a00e-38a0154650e4",
   "metadata": {},
   "source": [
    "## Iterate"
   ]
  },
  {
   "cell_type": "markdown",
   "id": "a1f38c5d-5ace-45ca-9378-70c4f4437e8a",
   "metadata": {},
   "source": [
    "Iterating involves building a model, training it, evaluating it, and then repeating the process until I'm happy with my model's performance. \n",
    "\n",
    "Even though the model I'm building is linear, the iteration process rarely follows a straight line.\n",
    "\n",
    "The first thing I need to do is create my model — in this case, one that uses linear regression."
   ]
  },
  {
   "cell_type": "markdown",
   "id": "a576e7fa-6b98-4972-bab7-fbde9e18b8a0",
   "metadata": {},
   "source": [
    "**Instantiate Model**"
   ]
  },
  {
   "cell_type": "code",
   "execution_count": 43,
   "id": "a77c7cc5-ad1c-4689-a92d-1b27bc402aac",
   "metadata": {},
   "outputs": [],
   "source": [
    "# Instantiate a LinearRegression model named model\n",
    "model = LinearRegression()"
   ]
  },
  {
   "cell_type": "markdown",
   "id": "98e7a86f-4f36-4c25-b017-70adfd7d9dfe",
   "metadata": {},
   "source": [
    "The second thing I need to do is use my data to train my model. Another way to say this is fit my model to the training data."
   ]
  },
  {
   "cell_type": "markdown",
   "id": "1f3fbb8f-2f5b-4737-8ece-59eb00b4dbef",
   "metadata": {},
   "source": [
    "**Train Model**"
   ]
  },
  {
   "cell_type": "code",
   "execution_count": 44,
   "id": "56171a39-ecf8-4810-bb76-ba444e496fd7",
   "metadata": {},
   "outputs": [
    {
     "data": {
      "text/html": [
       "<style>#sk-container-id-1 {color: black;background-color: white;}#sk-container-id-1 pre{padding: 0;}#sk-container-id-1 div.sk-toggleable {background-color: white;}#sk-container-id-1 label.sk-toggleable__label {cursor: pointer;display: block;width: 100%;margin-bottom: 0;padding: 0.3em;box-sizing: border-box;text-align: center;}#sk-container-id-1 label.sk-toggleable__label-arrow:before {content: \"▸\";float: left;margin-right: 0.25em;color: #696969;}#sk-container-id-1 label.sk-toggleable__label-arrow:hover:before {color: black;}#sk-container-id-1 div.sk-estimator:hover label.sk-toggleable__label-arrow:before {color: black;}#sk-container-id-1 div.sk-toggleable__content {max-height: 0;max-width: 0;overflow: hidden;text-align: left;background-color: #f0f8ff;}#sk-container-id-1 div.sk-toggleable__content pre {margin: 0.2em;color: black;border-radius: 0.25em;background-color: #f0f8ff;}#sk-container-id-1 input.sk-toggleable__control:checked~div.sk-toggleable__content {max-height: 200px;max-width: 100%;overflow: auto;}#sk-container-id-1 input.sk-toggleable__control:checked~label.sk-toggleable__label-arrow:before {content: \"▾\";}#sk-container-id-1 div.sk-estimator input.sk-toggleable__control:checked~label.sk-toggleable__label {background-color: #d4ebff;}#sk-container-id-1 div.sk-label input.sk-toggleable__control:checked~label.sk-toggleable__label {background-color: #d4ebff;}#sk-container-id-1 input.sk-hidden--visually {border: 0;clip: rect(1px 1px 1px 1px);clip: rect(1px, 1px, 1px, 1px);height: 1px;margin: -1px;overflow: hidden;padding: 0;position: absolute;width: 1px;}#sk-container-id-1 div.sk-estimator {font-family: monospace;background-color: #f0f8ff;border: 1px dotted black;border-radius: 0.25em;box-sizing: border-box;margin-bottom: 0.5em;}#sk-container-id-1 div.sk-estimator:hover {background-color: #d4ebff;}#sk-container-id-1 div.sk-parallel-item::after {content: \"\";width: 100%;border-bottom: 1px solid gray;flex-grow: 1;}#sk-container-id-1 div.sk-label:hover label.sk-toggleable__label {background-color: #d4ebff;}#sk-container-id-1 div.sk-serial::before {content: \"\";position: absolute;border-left: 1px solid gray;box-sizing: border-box;top: 0;bottom: 0;left: 50%;z-index: 0;}#sk-container-id-1 div.sk-serial {display: flex;flex-direction: column;align-items: center;background-color: white;padding-right: 0.2em;padding-left: 0.2em;position: relative;}#sk-container-id-1 div.sk-item {position: relative;z-index: 1;}#sk-container-id-1 div.sk-parallel {display: flex;align-items: stretch;justify-content: center;background-color: white;position: relative;}#sk-container-id-1 div.sk-item::before, #sk-container-id-1 div.sk-parallel-item::before {content: \"\";position: absolute;border-left: 1px solid gray;box-sizing: border-box;top: 0;bottom: 0;left: 50%;z-index: -1;}#sk-container-id-1 div.sk-parallel-item {display: flex;flex-direction: column;z-index: 1;position: relative;background-color: white;}#sk-container-id-1 div.sk-parallel-item:first-child::after {align-self: flex-end;width: 50%;}#sk-container-id-1 div.sk-parallel-item:last-child::after {align-self: flex-start;width: 50%;}#sk-container-id-1 div.sk-parallel-item:only-child::after {width: 0;}#sk-container-id-1 div.sk-dashed-wrapped {border: 1px dashed gray;margin: 0 0.4em 0.5em 0.4em;box-sizing: border-box;padding-bottom: 0.4em;background-color: white;}#sk-container-id-1 div.sk-label label {font-family: monospace;font-weight: bold;display: inline-block;line-height: 1.2em;}#sk-container-id-1 div.sk-label-container {text-align: center;}#sk-container-id-1 div.sk-container {/* jupyter's `normalize.less` sets `[hidden] { display: none; }` but bootstrap.min.css set `[hidden] { display: none !important; }` so we also need the `!important` here to be able to override the default hidden behavior on the sphinx rendered scikit-learn.org. See: https://github.com/scikit-learn/scikit-learn/issues/21755 */display: inline-block !important;position: relative;}#sk-container-id-1 div.sk-text-repr-fallback {display: none;}</style><div id=\"sk-container-id-1\" class=\"sk-top-container\"><div class=\"sk-text-repr-fallback\"><pre>LinearRegression()</pre><b>In a Jupyter environment, please rerun this cell to show the HTML representation or trust the notebook. <br />On GitHub, the HTML representation is unable to render, please try loading this page with nbviewer.org.</b></div><div class=\"sk-container\" hidden><div class=\"sk-item\"><div class=\"sk-estimator sk-toggleable\"><input class=\"sk-toggleable__control sk-hidden--visually\" id=\"sk-estimator-id-1\" type=\"checkbox\" checked><label for=\"sk-estimator-id-1\" class=\"sk-toggleable__label sk-toggleable__label-arrow\">LinearRegression</label><div class=\"sk-toggleable__content\"><pre>LinearRegression()</pre></div></div></div></div></div>"
      ],
      "text/plain": [
       "LinearRegression()"
      ]
     },
     "execution_count": 44,
     "metadata": {},
     "output_type": "execute_result"
    }
   ],
   "source": [
    "# Fit my model to the data, X_train and y_train\n",
    "model.fit(X_train, y_train)"
   ]
  },
  {
   "cell_type": "code",
   "execution_count": 45,
   "id": "8c73fec2-beeb-4fa7-a9ac-050cf7bfc299",
   "metadata": {},
   "outputs": [],
   "source": [
    "# Checking my work\n",
    "check_is_fitted(model)"
   ]
  },
  {
   "cell_type": "markdown",
   "id": "d843b853-11fa-4cd9-aa32-bb92adcc9200",
   "metadata": {},
   "source": [
    "## Evaluate"
   ]
  },
  {
   "cell_type": "markdown",
   "id": "ad9533ec-0e12-4ae5-aace-b2d409469a97",
   "metadata": {},
   "source": [
    "The final step is to evaluate my model. In order to do that, I'll start by seeing how well it performs when making predictions for data that it saw during training. So I'll have it predict the price for the houses in my training set."
   ]
  },
  {
   "cell_type": "markdown",
   "id": "f8998748-6f0d-43a8-9254-c0e6cd7a0f00",
   "metadata": {},
   "source": [
    "**Generate Predictions**"
   ]
  },
  {
   "cell_type": "code",
   "execution_count": 46,
   "id": "af6b2c77-ebc0-4417-a2a1-d591688f1f8f",
   "metadata": {},
   "outputs": [
    {
     "data": {
      "text/plain": [
       "array([169151.87330223, 106064.44707446, 133101.91545779, 106064.44707446,\n",
       "       124089.42599668])"
      ]
     },
     "execution_count": 46,
     "metadata": {},
     "output_type": "execute_result"
    }
   ],
   "source": [
    "# Use model's predict method to create a list of predictions for the observations in feature matrix X_train\n",
    "y_pred_training = model.predict(X_train)  # Name this array y_pred_training.\n",
    "y_pred_training[:5]"
   ]
  },
  {
   "cell_type": "markdown",
   "id": "cb6d605e-c141-43d1-b423-daceee122a51",
   "metadata": {},
   "source": [
    "Now that I have predictions, I'll use them to assess my model's performance with the training data. I'll use the same metric I used to evaluate my baseline model: mean absolute error."
   ]
  },
  {
   "cell_type": "markdown",
   "id": "6506828d-97d4-441e-8848-c88689e8eef6",
   "metadata": {},
   "source": [
    "**Training Mean Absolute Error**"
   ]
  },
  {
   "cell_type": "code",
   "execution_count": 47,
   "id": "6c18b17d-c8bb-48ae-ae9e-0edaed1d339f",
   "metadata": {},
   "outputs": [
    {
     "name": "stdout",
     "output_type": "stream",
     "text": [
      "Training MAE: 31248.26\n"
     ]
    }
   ],
   "source": [
    "# Calculate training mean absolute error for predictions in y_pred_training \n",
    "mae_training = mean_absolute_error(y_train, y_pred_training) # As compared to the true targets in y_train\n",
    "print(\"Training MAE:\", round(mae_training, 2))"
   ]
  },
  {
   "cell_type": "markdown",
   "id": "cfebf7d4-5c55-4de8-802e-b37c06b20a8e",
   "metadata": {},
   "source": [
    "My model beat the baseline by over $10,000. That's a good indicator that it will be helpful in predicting apartment prices. But the real test is how the model performs on data that it hasn't seen before, data that we call the test set."
   ]
  },
  {
   "cell_type": "code",
   "execution_count": 48,
   "id": "876182ff-0fa1-4b3f-bc90-7657a305e6bc",
   "metadata": {},
   "outputs": [
    {
     "data": {
      "text/plain": [
       "0    117330.058901\n",
       "1    135355.037823\n",
       "2     88039.468152\n",
       "3     88039.468152\n",
       "4    106064.447074\n",
       "dtype: float64"
      ]
     },
     "execution_count": 48,
     "metadata": {},
     "output_type": "execute_result"
    }
   ],
   "source": [
    "# Import test data buenos-aires-test-features.csv into a DataFrame\n",
    "X_test = pd.read_csv(\"data/buenos-aires-test-features.csv\")[features]\n",
    "\n",
    "# Generate a Series of predictions using the model\n",
    "y_pred_test = pd.Series(model.predict(X_test)) # Make sure the X_train is same column order as X_test\n",
    "y_pred_test.head()"
   ]
  },
  {
   "cell_type": "markdown",
   "id": "3094d2d2-9e1c-4208-9946-0aa9158e6878",
   "metadata": {},
   "source": [
    "Ideally, I want my test performance metrics to be the same as its training performance metrics. In practice, test metrics tend to be a little worse (this means a larger number in the case of mean absolute error). But as long as the training and test performance are close to each other, I can be confident that my model will generalize well. \n",
    "\n",
    "During the iteration phase, I can change and retrain my model as many times as I want. I can also check the model's training performance repeatedly. But once I evaluate its test performance, I can't make any more changes. \n",
    "    \n",
    "A test only counts if neither the model nor I has seen the data before. If I check my test metrics and then make changes to the model, I can introduce biases into the model that compromise its generalizability. "
   ]
  },
  {
   "cell_type": "markdown",
   "id": "eade4627-e0a9-421a-868c-0f97607706da",
   "metadata": {},
   "source": [
    "# Communicate Results"
   ]
  },
  {
   "cell_type": "markdown",
   "id": "2e451b36-9f0a-487a-ab2a-6c6fb2f2f136",
   "metadata": {},
   "source": [
    "<center><img src=\"images/proj-2.003.png\" alt=\"Equation: y = m*x + b\" style=\"width: 400px;\"/></center>\n",
    "<center><img src=\"images/proj-2.004.png\" alt=\"Equation: y = beta 0 + beta 1 * x\" style=\"width: 400px;\"/></center>\n",
    "I need to find the values that my model has determined for the intercept and and coefficient. Fortunately, all trained models in scikit-learn store this information in the model itself."
   ]
  },
  {
   "cell_type": "markdown",
   "id": "3b42abbb-3dfd-4598-b453-eaee13cc9e38",
   "metadata": {},
   "source": [
    "**Extract Model Intercept**"
   ]
  },
  {
   "cell_type": "code",
   "execution_count": 49,
   "id": "268d9b3d-3136-4c90-bd8a-d44a72130368",
   "metadata": {},
   "outputs": [
    {
     "name": "stdout",
     "output_type": "stream",
     "text": [
      "Model Intercept: 11433.31\n"
     ]
    }
   ],
   "source": [
    "# Extract the intercept from the model, and assign it to the variable intercept\n",
    "intercept = round(model.intercept_, 2) # Round it to two decimal points\n",
    "print(\"Model Intercept:\", intercept)\n",
    "assert any([isinstance(intercept, int), isinstance(intercept, float)])"
   ]
  },
  {
   "cell_type": "markdown",
   "id": "c9b285eb-343c-45c2-a70c-6ff83b171b21",
   "metadata": {},
   "source": [
    "Next comes the coefficient. I'll extract it in a very similar way."
   ]
  },
  {
   "cell_type": "markdown",
   "id": "8c2107bf-bc15-47e2-803e-e29f5ccd6f45",
   "metadata": {},
   "source": [
    "**Extract Model Coefficient**"
   ]
  },
  {
   "cell_type": "code",
   "execution_count": 50,
   "id": "c5c0ae12-2e43-49be-bb48-7685570a174a",
   "metadata": {},
   "outputs": [
    {
     "name": "stdout",
     "output_type": "stream",
     "text": [
      "Model coefficient for \"surface_covered_in_m2\": 2253.12\n"
     ]
    }
   ],
   "source": [
    "# Extract the coefficient associated \"surface_covered_in_m2\" in my model\n",
    "coefficient = round(model.coef_[0], 2) # Assign it to the variable `coefficient`\n",
    "print('Model coefficient for \"surface_covered_in_m2\":', coefficient)\n",
    "assert any([isinstance(coefficient, int), isinstance(coefficient, float)])"
   ]
  },
  {
   "cell_type": "markdown",
   "id": "42b20620-c51f-4036-b64e-e4f5b4959253",
   "metadata": {},
   "source": [
    "I know that for every square meter I add to an apartment, my model predicts an additional $2253 in sale price.\n",
    "\n",
    "Now that I have my intercept and coefficient, I need to insert them into a string that I can print out the complete equation."
   ]
  },
  {
   "cell_type": "markdown",
   "id": "415a7038-dea8-46b0-84c0-9550f9e7650a",
   "metadata": {},
   "source": [
    "**Generate Equation**"
   ]
  },
  {
   "cell_type": "code",
   "execution_count": 51,
   "id": "567c3af0-835d-44fd-869d-5899258d5a34",
   "metadata": {},
   "outputs": [
    {
     "name": "stdout",
     "output_type": "stream",
     "text": [
      "apt_price = 11433.31 + 2253.12 * surface_covered\n"
     ]
    }
   ],
   "source": [
    "# Print the equation that the model has determined for predicting apartment price based on size\n",
    "print(f\"apt_price = {intercept} + {coefficient} * surface_covered\") # F string allows me to print out character values like \"apt_price\" and also insert variable names"
   ]
  },
  {
   "cell_type": "markdown",
   "id": "feb47d56-9d2a-438e-bcfc-cd63c0385619",
   "metadata": {},
   "source": [
    "Above is the equation for my model. So this is **y = apt_price, Beta(0) = 11433.31, Beta(1) = 2253.12, surface_covered = X (area)** ."
   ]
  },
  {
   "cell_type": "markdown",
   "id": "b8181662-04c9-4e31-8b3d-257f3b3ba77f",
   "metadata": {},
   "source": [
    "**Plot Model**"
   ]
  },
  {
   "cell_type": "code",
   "execution_count": 52,
   "id": "5c3fe879-77e3-45e9-940d-540e03f223c6",
   "metadata": {},
   "outputs": [
    {
     "data": {
      "image/png": "[encoded data removed]",
      "text/plain": [
       "<Figure size 432x288 with 1 Axes>"
      ]
     },
     "metadata": {
      "needs_background": "light"
     },
     "output_type": "display_data"
    }
   ],
   "source": [
    "# Plot the relationship between the observations in X_train and my model's predictions y_pred_training\n",
    "plt.plot(X_train, model.predict(X_train), color=\"r\", label=\"Linear Model\")\n",
    "plt.scatter(X_train, y_train)\n",
    "plt.xlabel(\"surface covered [sq meters]\")\n",
    "plt.ylabel(\"price [usd]\")\n",
    "plt.legend();"
   ]
  }
 ],
 "metadata": {
  "kernelspec": {
   "display_name": "Python 3 (ipykernel)",
   "language": "python",
   "name": "python3"
  },
  "language_info": {
   "codemirror_mode": {
    "name": "ipython",
    "version": 3
   },
   "file_extension": ".py",
   "mimetype": "text/x-python",
   "name": "python",
   "nbconvert_exporter": "python",
   "pygments_lexer": "ipython3",
   "version": "3.8.13"
  }
 },
 "nbformat": 4,
 "nbformat_minor": 5
}
